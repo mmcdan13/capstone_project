{
 "cells": [
  {
   "cell_type": "code",
   "execution_count": 1,
   "id": "e638eb45",
   "metadata": {},
   "outputs": [],
   "source": [
    "import warnings\n",
    "warnings.filterwarnings('ignore')"
   ]
  },
  {
   "cell_type": "code",
   "execution_count": 2,
   "id": "8b26bb37",
   "metadata": {},
   "outputs": [],
   "source": [
    "import numpy as np\n",
    "import pandas as pd\n",
    "import csv\n",
    "import os\n",
    "import psycopg2\n",
    "import boto3\n",
    "from config import *\n",
    "from collections import Counter\n",
    "# import tensorflow as tf\n",
    "from sklearn.preprocessing import StandardScaler,OneHotEncoder\n",
    "from sklearn.model_selection import train_test_split"
   ]
  },
  {
   "cell_type": "code",
   "execution_count": 7,
   "id": "ca1e7d73",
   "metadata": {},
   "outputs": [],
   "source": [
    "def download_file_using_client():\n",
    "    s3 = boto3.client('s3')\n",
    "    s3.download_file('cagurr-capstone', 'final_data.csv', 'Resources/final_data.csv')\n",
    "    \n",
    "download_file_using_client()"
   ]
  },
  {
   "cell_type": "code",
   "execution_count": null,
   "id": "36c8c794",
   "metadata": {},
   "outputs": [],
   "source": [
    "cleaned_crime = pd.read_csv('Resources/final_data.csv')\n",
    "cleaned_crime.head()"
   ]
  },
  {
   "cell_type": "code",
   "execution_count": null,
   "id": "08fae94d",
   "metadata": {
    "scrolled": true
   },
   "outputs": [],
   "source": [
    "cleaned_crime = cleaned_crime.drop(columns=['Unnamed: 0', 'state', 'location', 'address' ,'chip_latitude', 'chip_longitude', 'Arrest_1', 'Domestic_1'])\n",
    "cleaned_crime = cleaned_crime.dropna()\n",
    "cleaned_crime['National_Rank'] = cleaned_crime['National_Rank'].str.replace('#', '')\n",
    "cleaned_crime['National_Rank'] = cleaned_crime['National_Rank'].str.replace(',', '')\n",
    "cleaned_crime['National_Rank'] = cleaned_crime['National_Rank'].astype('int')\n",
    "cleaned_crime['People/Sq.Mile'] = cleaned_crime['People/Sq.Mile'].str.replace(',', '')\n",
    "cleaned_crime['People/Sq.Mile'] = cleaned_crime['People/Sq.Mile'].astype('float')\n",
    "cleaned_crime['Population'] = cleaned_crime['Population'].str.replace(',', '')\n",
    "cleaned_crime['Population'] = cleaned_crime['Population'].astype('int')\n",
    "cleaned_crime"
   ]
  },
  {
   "cell_type": "code",
   "execution_count": null,
   "id": "24d173fa",
   "metadata": {},
   "outputs": [],
   "source": [
    "primary_type = cleaned_crime.Primary_Type.value_counts()"
   ]
  },
  {
   "cell_type": "code",
   "execution_count": null,
   "id": "21a2be29",
   "metadata": {},
   "outputs": [],
   "source": [
    "# Determine which values to replace if counts are less than ...?\n",
    "replace_primary = list(primary_type[primary_type < 1000].index)\n",
    "\n",
    "# Replace in dataframe\n",
    "for primary in replace_primary:\n",
    "    cleaned_crime.Primary_Type = cleaned_crime.Primary_Type.replace(primary,\"OTHER OFFENSE\")\n",
    "    \n",
    "# Check to make sure binning was successful\n",
    "cleaned_crime.Primary_Type.value_counts()"
   ]
  },
  {
   "cell_type": "code",
   "execution_count": null,
   "id": "17a4b3e2",
   "metadata": {},
   "outputs": [],
   "source": [
    "# Generate our categorical variable lists\n",
    "crime_obj = list(cleaned_crime.dtypes[cleaned_crime.dtypes == 'object'].index)"
   ]
  },
  {
   "cell_type": "code",
   "execution_count": null,
   "id": "1c609de1",
   "metadata": {},
   "outputs": [],
   "source": [
    "# Create a OneHotEncoder instance\n",
    "enc = OneHotEncoder(sparse=False)\n",
    "\n",
    "# Fit and transform the OneHotEncoder using the categorical variable list\n",
    "encode_df = pd.DataFrame(enc.fit_transform(cleaned_crime[crime_obj]))\n",
    "\n",
    "# Add the encoded variable names to the dataframe\n",
    "encode_df.columns = enc.get_feature_names(crime_obj)\n",
    "encode_df.head()"
   ]
  },
  {
   "cell_type": "code",
   "execution_count": null,
   "id": "c5429b58",
   "metadata": {},
   "outputs": [],
   "source": [
    "# Merge one-hot encoded features and drop the originals\n",
    "# cleaned_crime = cleaned_crime.merge(encode_df, left_index=True, right_index=True)\n",
    "cleaned_crime = cleaned_crime.drop(columns=crime_obj,axis=1)\n",
    "cleaned_crime.head()"
   ]
  },
  {
   "cell_type": "code",
   "execution_count": null,
   "id": "519dfa12",
   "metadata": {},
   "outputs": [],
   "source": [
    "# Split our preprocessed data into our features and target arrays\n",
    "X = cleaned_crime.drop(columns=['chipotle','Ward','Population','rankings','Latitude','Longitude'],axis=1).values\n",
    "X_raw = cleaned_crime.drop(columns=['chipotle'],axis=1)\n",
    "y = cleaned_crime['chipotle'].values\n",
    "\n",
    "# Split the preprocessed data into a training and testing dataset\n",
    "X_train, X_test, y_train, y_test = train_test_split(X, y, test_size = .3, random_state=78, shuffle=True)"
   ]
  },
  {
   "cell_type": "markdown",
   "id": "d20deb78",
   "metadata": {},
   "source": [
    "# Neural Network"
   ]
  },
  {
   "cell_type": "code",
   "execution_count": null,
   "id": "8880908c",
   "metadata": {},
   "outputs": [],
   "source": [
    "# Create a StandardScaler instances\n",
    "scaler = StandardScaler()\n",
    "\n",
    "# Fit the StandardScaler\n",
    "X_scaler = scaler.fit(X_train)\n",
    "\n",
    "# Scale the data\n",
    "X_train_scaled = X_scaler.transform(X_train)\n",
    "X_test_scaled = X_scaler.transform(X_test)"
   ]
  },
  {
   "cell_type": "code",
   "execution_count": null,
   "id": "2dacab56",
   "metadata": {},
   "outputs": [],
   "source": [
    "print(X_raw.columns)"
   ]
  },
  {
   "cell_type": "code",
   "execution_count": null,
   "id": "b4724b84",
   "metadata": {},
   "outputs": [],
   "source": [
    "X_raw.corr()"
   ]
  },
  {
   "cell_type": "code",
   "execution_count": null,
   "id": "ca988650",
   "metadata": {},
   "outputs": [],
   "source": [
    "# Define the model - deep neural net, i.e., the number of input features and hidden nodes for each layer.\n",
    "number_input_features = len(X_train[0])\n",
    "hidden_nodes_layer1 = 15\n",
    "hidden_nodes_layer2 = 10\n",
    "\n",
    "nn = tf.keras.models.Sequential()\n",
    "\n",
    "# First hidden layer\n",
    "nn.add(\n",
    "    tf.keras.layers.Dense(units=hidden_nodes_layer1, input_dim=number_input_features, activation=\"relu\")\n",
    ")\n",
    "\n",
    "\n",
    "# Second hidden layer\n",
    "nn.add(\n",
    "    tf.keras.layers.Dense(units=hidden_nodes_layer2, activation=\"relu\")\n",
    ")\n",
    "\n",
    "# Third hidden layer\n",
    "nn.add(\n",
    "    tf.keras.layers.Dropout(.2)\n",
    ")\n",
    "\n",
    "# Output layer\n",
    "nn.add(tf.keras.layers.Dense(units=1, activation=\"sigmoid\"))\n",
    "\n",
    "# Check the structure of the model\n",
    "nn.summary()"
   ]
  },
  {
   "cell_type": "code",
   "execution_count": null,
   "id": "ff189bec",
   "metadata": {},
   "outputs": [],
   "source": [
    "# Import checkpoint dependencies\n",
    "import os\n",
    "from tensorflow.keras.callbacks import ModelCheckpoint\n",
    "\n",
    "# Define the checkpoint path and filenames\n",
    "os.makedirs(\"checkpoints/\",exist_ok=True)\n",
    "checkpoint_path = \"checkpoints/weights_opt_1.{epoch:02d}.hdf5\""
   ]
  },
  {
   "cell_type": "code",
   "execution_count": null,
   "id": "445e05ea",
   "metadata": {},
   "outputs": [],
   "source": [
    "# Compile the model\n",
    "nn.compile(loss=\"binary_crossentropy\", optimizer=\"adam\", metrics=[\"accuracy\"])\n",
    "\n",
    "# Create a callback that saves the model's weights every epoch\n",
    "cp_callback = ModelCheckpoint(\n",
    "    filepath=checkpoint_path,\n",
    "    verbose=1,\n",
    "    save_weights_only=True,\n",
    "    save_freq='epoch',\n",
    "    period=5\n",
    ")\n",
    "\n",
    "# Train the model\n",
    "fit_model = nn.fit(X_train_scaled, y_train, epochs=50, batch_size = 32, callbacks=[cp_callback])"
   ]
  },
  {
   "cell_type": "code",
   "execution_count": null,
   "id": "35c96e1e",
   "metadata": {},
   "outputs": [],
   "source": [
    "# Evaluate the model using the test data\n",
    "model_loss, model_accuracy = nn.evaluate(X_test_scaled,y_test,verbose=2)\n",
    "print(f\"Loss: {model_loss}, Accuracy: {model_accuracy}\")"
   ]
  }
 ],
 "metadata": {
  "kernelspec": {
   "display_name": "mlenv",
   "language": "python",
   "name": "mlenv"
  },
  "language_info": {
   "codemirror_mode": {
    "name": "ipython",
    "version": 3
   },
   "file_extension": ".py",
   "mimetype": "text/x-python",
   "name": "python",
   "nbconvert_exporter": "python",
   "pygments_lexer": "ipython3",
   "version": "3.7.13"
  }
 },
 "nbformat": 4,
 "nbformat_minor": 5
}
