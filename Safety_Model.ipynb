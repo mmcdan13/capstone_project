{
 "cells": [
  {
   "cell_type": "code",
   "execution_count": 410,
   "id": "e638eb45",
   "metadata": {},
   "outputs": [],
   "source": [
    "import warnings\n",
    "warnings.filterwarnings('ignore')"
   ]
  },
  {
   "cell_type": "code",
   "execution_count": 411,
   "id": "8b26bb37",
   "metadata": {},
   "outputs": [],
   "source": [
    "import numpy as np\n",
    "import pandas as pd\n",
    "from pathlib import Path\n",
    "from collections import Counter\n",
    "from sklearn.preprocessing import StandardScaler,OneHotEncoder\n",
    "from sklearn.model_selection import train_test_split"
   ]
  },
  {
   "cell_type": "code",
   "execution_count": 412,
   "id": "36c8c794",
   "metadata": {},
   "outputs": [
    {
     "data": {
      "text/html": [
       "<div>\n",
       "<style scoped>\n",
       "    .dataframe tbody tr th:only-of-type {\n",
       "        vertical-align: middle;\n",
       "    }\n",
       "\n",
       "    .dataframe tbody tr th {\n",
       "        vertical-align: top;\n",
       "    }\n",
       "\n",
       "    .dataframe thead th {\n",
       "        text-align: right;\n",
       "    }\n",
       "</style>\n",
       "<table border=\"1\" class=\"dataframe\">\n",
       "  <thead>\n",
       "    <tr style=\"text-align: right;\">\n",
       "      <th></th>\n",
       "      <th>Unnamed: 0</th>\n",
       "      <th>ZIP</th>\n",
       "      <th>Ward</th>\n",
       "      <th>Primary_Type</th>\n",
       "      <th>rankings</th>\n",
       "      <th>Latitude</th>\n",
       "      <th>Longitude</th>\n",
       "      <th>Arrest</th>\n",
       "      <th>Domestic</th>\n",
       "      <th>Population</th>\n",
       "      <th>People/Sq.Mile</th>\n",
       "      <th>National_Rank</th>\n",
       "      <th>state</th>\n",
       "      <th>location</th>\n",
       "      <th>address</th>\n",
       "      <th>chip_latitude</th>\n",
       "      <th>chip_longitude</th>\n",
       "      <th>chipotle</th>\n",
       "      <th>Safety</th>\n",
       "    </tr>\n",
       "  </thead>\n",
       "  <tbody>\n",
       "    <tr>\n",
       "      <th>0</th>\n",
       "      <td>0</td>\n",
       "      <td>60601</td>\n",
       "      <td>27</td>\n",
       "      <td>THEFT</td>\n",
       "      <td>3</td>\n",
       "      <td>NaN</td>\n",
       "      <td>NaN</td>\n",
       "      <td>False</td>\n",
       "      <td>False</td>\n",
       "      <td>5,591</td>\n",
       "      <td>17,101.15</td>\n",
       "      <td>#271</td>\n",
       "      <td>Illinois</td>\n",
       "      <td>Chicago</td>\n",
       "      <td>316 N Michigan Ave Chicago, IL 60601 US</td>\n",
       "      <td>41.887288</td>\n",
       "      <td>-87.624848</td>\n",
       "      <td>1</td>\n",
       "      <td>Bad</td>\n",
       "    </tr>\n",
       "    <tr>\n",
       "      <th>1</th>\n",
       "      <td>1</td>\n",
       "      <td>60601</td>\n",
       "      <td>27</td>\n",
       "      <td>CRIMINAL DAMAGE</td>\n",
       "      <td>4</td>\n",
       "      <td>41.883932</td>\n",
       "      <td>-87.679964</td>\n",
       "      <td>False</td>\n",
       "      <td>False</td>\n",
       "      <td>5,591</td>\n",
       "      <td>17,101.15</td>\n",
       "      <td>#271</td>\n",
       "      <td>Illinois</td>\n",
       "      <td>Chicago</td>\n",
       "      <td>316 N Michigan Ave Chicago, IL 60601 US</td>\n",
       "      <td>41.887288</td>\n",
       "      <td>-87.624848</td>\n",
       "      <td>1</td>\n",
       "      <td>Bad</td>\n",
       "    </tr>\n",
       "    <tr>\n",
       "      <th>2</th>\n",
       "      <td>2</td>\n",
       "      <td>60601</td>\n",
       "      <td>27</td>\n",
       "      <td>THEFT</td>\n",
       "      <td>3</td>\n",
       "      <td>41.896569</td>\n",
       "      <td>-87.636063</td>\n",
       "      <td>False</td>\n",
       "      <td>False</td>\n",
       "      <td>5,591</td>\n",
       "      <td>17,101.15</td>\n",
       "      <td>#271</td>\n",
       "      <td>Illinois</td>\n",
       "      <td>Chicago</td>\n",
       "      <td>316 N Michigan Ave Chicago, IL 60601 US</td>\n",
       "      <td>41.887288</td>\n",
       "      <td>-87.624848</td>\n",
       "      <td>1</td>\n",
       "      <td>Bad</td>\n",
       "    </tr>\n",
       "    <tr>\n",
       "      <th>3</th>\n",
       "      <td>3</td>\n",
       "      <td>60601</td>\n",
       "      <td>27</td>\n",
       "      <td>SEX OFFENSE</td>\n",
       "      <td>3</td>\n",
       "      <td>41.883937</td>\n",
       "      <td>-87.683368</td>\n",
       "      <td>True</td>\n",
       "      <td>False</td>\n",
       "      <td>5,591</td>\n",
       "      <td>17,101.15</td>\n",
       "      <td>#271</td>\n",
       "      <td>Illinois</td>\n",
       "      <td>Chicago</td>\n",
       "      <td>316 N Michigan Ave Chicago, IL 60601 US</td>\n",
       "      <td>41.887288</td>\n",
       "      <td>-87.624848</td>\n",
       "      <td>1</td>\n",
       "      <td>Bad</td>\n",
       "    </tr>\n",
       "    <tr>\n",
       "      <th>4</th>\n",
       "      <td>4</td>\n",
       "      <td>60601</td>\n",
       "      <td>27</td>\n",
       "      <td>NARCOTICS</td>\n",
       "      <td>4</td>\n",
       "      <td>41.892856</td>\n",
       "      <td>-87.710137</td>\n",
       "      <td>True</td>\n",
       "      <td>False</td>\n",
       "      <td>5,591</td>\n",
       "      <td>17,101.15</td>\n",
       "      <td>#271</td>\n",
       "      <td>Illinois</td>\n",
       "      <td>Chicago</td>\n",
       "      <td>316 N Michigan Ave Chicago, IL 60601 US</td>\n",
       "      <td>41.887288</td>\n",
       "      <td>-87.624848</td>\n",
       "      <td>1</td>\n",
       "      <td>Bad</td>\n",
       "    </tr>\n",
       "  </tbody>\n",
       "</table>\n",
       "</div>"
      ],
      "text/plain": [
       "   Unnamed: 0    ZIP  Ward     Primary_Type  rankings   Latitude  Longitude  \\\n",
       "0           0  60601    27            THEFT         3        NaN        NaN   \n",
       "1           1  60601    27  CRIMINAL DAMAGE         4  41.883932 -87.679964   \n",
       "2           2  60601    27            THEFT         3  41.896569 -87.636063   \n",
       "3           3  60601    27      SEX OFFENSE         3  41.883937 -87.683368   \n",
       "4           4  60601    27        NARCOTICS         4  41.892856 -87.710137   \n",
       "\n",
       "   Arrest  Domestic Population People/Sq.Mile National_Rank     state  \\\n",
       "0   False     False      5,591      17,101.15          #271  Illinois   \n",
       "1   False     False      5,591      17,101.15          #271  Illinois   \n",
       "2   False     False      5,591      17,101.15          #271  Illinois   \n",
       "3    True     False      5,591      17,101.15          #271  Illinois   \n",
       "4    True     False      5,591      17,101.15          #271  Illinois   \n",
       "\n",
       "  location                                  address  chip_latitude  \\\n",
       "0  Chicago  316 N Michigan Ave Chicago, IL 60601 US      41.887288   \n",
       "1  Chicago  316 N Michigan Ave Chicago, IL 60601 US      41.887288   \n",
       "2  Chicago  316 N Michigan Ave Chicago, IL 60601 US      41.887288   \n",
       "3  Chicago  316 N Michigan Ave Chicago, IL 60601 US      41.887288   \n",
       "4  Chicago  316 N Michigan Ave Chicago, IL 60601 US      41.887288   \n",
       "\n",
       "   chip_longitude  chipotle Safety  \n",
       "0      -87.624848         1    Bad  \n",
       "1      -87.624848         1    Bad  \n",
       "2      -87.624848         1    Bad  \n",
       "3      -87.624848         1    Bad  \n",
       "4      -87.624848         1    Bad  "
      ]
     },
     "execution_count": 412,
     "metadata": {},
     "output_type": "execute_result"
    }
   ],
   "source": [
    "cleaned_crime = pd.read_csv('Resources/crime_chip_for_model.csv')\n",
    "cleaned_crime.head()"
   ]
  },
  {
   "cell_type": "code",
   "execution_count": 413,
   "id": "290ee4e5",
   "metadata": {},
   "outputs": [
    {
     "data": {
      "text/html": [
       "<div>\n",
       "<style scoped>\n",
       "    .dataframe tbody tr th:only-of-type {\n",
       "        vertical-align: middle;\n",
       "    }\n",
       "\n",
       "    .dataframe tbody tr th {\n",
       "        vertical-align: top;\n",
       "    }\n",
       "\n",
       "    .dataframe thead th {\n",
       "        text-align: right;\n",
       "    }\n",
       "</style>\n",
       "<table border=\"1\" class=\"dataframe\">\n",
       "  <thead>\n",
       "    <tr style=\"text-align: right;\">\n",
       "      <th></th>\n",
       "      <th>ZIP</th>\n",
       "      <th>Ward</th>\n",
       "      <th>Primary_Type</th>\n",
       "      <th>rankings</th>\n",
       "      <th>Latitude</th>\n",
       "      <th>Longitude</th>\n",
       "      <th>Arrest</th>\n",
       "      <th>Domestic</th>\n",
       "      <th>Population</th>\n",
       "      <th>People/Sq.Mile</th>\n",
       "      <th>National_Rank</th>\n",
       "      <th>chip_latitude</th>\n",
       "      <th>chip_longitude</th>\n",
       "      <th>chipotle</th>\n",
       "      <th>Safety</th>\n",
       "    </tr>\n",
       "  </thead>\n",
       "  <tbody>\n",
       "    <tr>\n",
       "      <th>0</th>\n",
       "      <td>60602</td>\n",
       "      <td>42</td>\n",
       "      <td>DECEPTIVE PRACTICE</td>\n",
       "      <td>3</td>\n",
       "      <td>41.881950</td>\n",
       "      <td>-87.633336</td>\n",
       "      <td>False</td>\n",
       "      <td>False</td>\n",
       "      <td>70</td>\n",
       "      <td>810.58</td>\n",
       "      <td>6855</td>\n",
       "      <td>41.882277</td>\n",
       "      <td>-87.627121</td>\n",
       "      <td>1</td>\n",
       "      <td>Bad</td>\n",
       "    </tr>\n",
       "    <tr>\n",
       "      <th>1</th>\n",
       "      <td>60657</td>\n",
       "      <td>7</td>\n",
       "      <td>OTHER OFFENSE</td>\n",
       "      <td>3</td>\n",
       "      <td>41.725687</td>\n",
       "      <td>-87.570565</td>\n",
       "      <td>False</td>\n",
       "      <td>True</td>\n",
       "      <td>66789</td>\n",
       "      <td>31204.02</td>\n",
       "      <td>112</td>\n",
       "      <td>41.932835</td>\n",
       "      <td>-87.668025</td>\n",
       "      <td>1</td>\n",
       "      <td>Bad</td>\n",
       "    </tr>\n",
       "    <tr>\n",
       "      <th>2</th>\n",
       "      <td>60652</td>\n",
       "      <td>40</td>\n",
       "      <td>ROBBERY</td>\n",
       "      <td>8</td>\n",
       "      <td>41.996803</td>\n",
       "      <td>-87.673947</td>\n",
       "      <td>False</td>\n",
       "      <td>False</td>\n",
       "      <td>39126</td>\n",
       "      <td>8425.81</td>\n",
       "      <td>757</td>\n",
       "      <td>41.754775</td>\n",
       "      <td>-87.740664</td>\n",
       "      <td>1</td>\n",
       "      <td>Bad</td>\n",
       "    </tr>\n",
       "    <tr>\n",
       "      <th>3</th>\n",
       "      <td>60612</td>\n",
       "      <td>16</td>\n",
       "      <td>CRIMINAL DAMAGE</td>\n",
       "      <td>4</td>\n",
       "      <td>41.795188</td>\n",
       "      <td>-87.671907</td>\n",
       "      <td>False</td>\n",
       "      <td>False</td>\n",
       "      <td>37990</td>\n",
       "      <td>10195.72</td>\n",
       "      <td>586</td>\n",
       "      <td>41.872368</td>\n",
       "      <td>-87.677238</td>\n",
       "      <td>1</td>\n",
       "      <td>Bad</td>\n",
       "    </tr>\n",
       "    <tr>\n",
       "      <th>4</th>\n",
       "      <td>60612</td>\n",
       "      <td>16</td>\n",
       "      <td>ASSAULT</td>\n",
       "      <td>7</td>\n",
       "      <td>41.778622</td>\n",
       "      <td>-87.659337</td>\n",
       "      <td>True</td>\n",
       "      <td>True</td>\n",
       "      <td>37990</td>\n",
       "      <td>10195.72</td>\n",
       "      <td>586</td>\n",
       "      <td>41.872368</td>\n",
       "      <td>-87.677238</td>\n",
       "      <td>1</td>\n",
       "      <td>Bad</td>\n",
       "    </tr>\n",
       "  </tbody>\n",
       "</table>\n",
       "</div>"
      ],
      "text/plain": [
       "     ZIP  Ward        Primary_Type  rankings   Latitude  Longitude  Arrest  \\\n",
       "0  60602    42  DECEPTIVE PRACTICE         3  41.881950 -87.633336   False   \n",
       "1  60657     7       OTHER OFFENSE         3  41.725687 -87.570565   False   \n",
       "2  60652    40             ROBBERY         8  41.996803 -87.673947   False   \n",
       "3  60612    16     CRIMINAL DAMAGE         4  41.795188 -87.671907   False   \n",
       "4  60612    16             ASSAULT         7  41.778622 -87.659337    True   \n",
       "\n",
       "   Domestic  Population  People/Sq.Mile  National_Rank  chip_latitude  \\\n",
       "0     False          70          810.58           6855      41.882277   \n",
       "1      True       66789        31204.02            112      41.932835   \n",
       "2     False       39126         8425.81            757      41.754775   \n",
       "3     False       37990        10195.72            586      41.872368   \n",
       "4      True       37990        10195.72            586      41.872368   \n",
       "\n",
       "   chip_longitude  chipotle Safety  \n",
       "0      -87.627121         1    Bad  \n",
       "1      -87.668025         1    Bad  \n",
       "2      -87.740664         1    Bad  \n",
       "3      -87.677238         1    Bad  \n",
       "4      -87.677238         1    Bad  "
      ]
     },
     "execution_count": 413,
     "metadata": {},
     "output_type": "execute_result"
    }
   ],
   "source": [
    "cleaned_crime = cleaned_crime.drop(columns=['Unnamed: 0', 'state', 'location', 'address'])\n",
    "cleaned_crime = cleaned_crime.dropna()\n",
    "cleaned_crime['National_Rank'] = cleaned_crime['National_Rank'].str.replace('#', '')\n",
    "cleaned_crime['National_Rank'] = cleaned_crime['National_Rank'].str.replace(',', '')\n",
    "cleaned_crime['National_Rank'] = cleaned_crime['National_Rank'].astype('int')\n",
    "cleaned_crime['People/Sq.Mile'] = cleaned_crime['People/Sq.Mile'].str.replace(',', '')\n",
    "cleaned_crime['People/Sq.Mile'] = cleaned_crime['People/Sq.Mile'].astype('float')\n",
    "cleaned_crime['Population'] = cleaned_crime['Population'].str.replace(',', '')\n",
    "cleaned_crime['Population'] = cleaned_crime['Population'].astype('int')\n",
    "sample = cleaned_crime.sample(30000)\n",
    "sample = sample.reset_index()\n",
    "sample = sample.drop(columns=['index'])\n",
    "sample.head()"
   ]
  },
  {
   "cell_type": "code",
   "execution_count": 414,
   "id": "c20f6988",
   "metadata": {},
   "outputs": [],
   "source": [
    "primary_type = sample.Primary_Type.value_counts()"
   ]
  },
  {
   "cell_type": "code",
   "execution_count": 415,
   "id": "7b73accd",
   "metadata": {},
   "outputs": [
    {
     "data": {
      "text/plain": [
       "BATTERY                6334\n",
       "THEFT                  5896\n",
       "CRIMINAL DAMAGE        3620\n",
       "Other                  2915\n",
       "ASSAULT                2575\n",
       "DECEPTIVE PRACTICE     1865\n",
       "OTHER OFFENSE          1849\n",
       "BURGLARY               1396\n",
       "MOTOR VEHICLE THEFT    1282\n",
       "NARCOTICS              1157\n",
       "WEAPONS VIOLATION      1111\n",
       "Name: Primary_Type, dtype: int64"
      ]
     },
     "execution_count": 415,
     "metadata": {},
     "output_type": "execute_result"
    }
   ],
   "source": [
    "# Determine which values to replace if counts are less than ...?\n",
    "replace_primary = list(primary_type[primary_type < 1000].index)\n",
    "\n",
    "# Replace in dataframe\n",
    "for primary in replace_primary:\n",
    "    sample.Primary_Type = sample.Primary_Type.replace(primary,\"Other\")\n",
    "    \n",
    "# Check to make sure binning was successful\n",
    "sample.Primary_Type.value_counts()"
   ]
  },
  {
   "cell_type": "code",
   "execution_count": 416,
   "id": "8d991efc",
   "metadata": {},
   "outputs": [],
   "source": [
    "# Generate our categorical variable lists\n",
    "crime_obj = list(sample.dtypes[sample.dtypes == 'object'].index)"
   ]
  },
  {
   "cell_type": "code",
   "execution_count": 417,
   "id": "9421403d",
   "metadata": {},
   "outputs": [
    {
     "data": {
      "text/html": [
       "<div>\n",
       "<style scoped>\n",
       "    .dataframe tbody tr th:only-of-type {\n",
       "        vertical-align: middle;\n",
       "    }\n",
       "\n",
       "    .dataframe tbody tr th {\n",
       "        vertical-align: top;\n",
       "    }\n",
       "\n",
       "    .dataframe thead th {\n",
       "        text-align: right;\n",
       "    }\n",
       "</style>\n",
       "<table border=\"1\" class=\"dataframe\">\n",
       "  <thead>\n",
       "    <tr style=\"text-align: right;\">\n",
       "      <th></th>\n",
       "      <th>Primary_Type_ARSON</th>\n",
       "      <th>Primary_Type_ASSAULT</th>\n",
       "      <th>Primary_Type_BATTERY</th>\n",
       "      <th>Primary_Type_BURGLARY</th>\n",
       "      <th>Primary_Type_CONCEALED CARRY LICENSE VIOLATION</th>\n",
       "      <th>Primary_Type_CRIM SEXUAL ASSAULT</th>\n",
       "      <th>Primary_Type_CRIMINAL DAMAGE</th>\n",
       "      <th>Primary_Type_CRIMINAL SEXUAL ASSAULT</th>\n",
       "      <th>Primary_Type_CRIMINAL TRESPASS</th>\n",
       "      <th>Primary_Type_DECEPTIVE PRACTICE</th>\n",
       "      <th>...</th>\n",
       "      <th>Primary_Type_PROSTITUTION</th>\n",
       "      <th>Primary_Type_PUBLIC INDECENCY</th>\n",
       "      <th>Primary_Type_PUBLIC PEACE VIOLATION</th>\n",
       "      <th>Primary_Type_ROBBERY</th>\n",
       "      <th>Primary_Type_SEX OFFENSE</th>\n",
       "      <th>Primary_Type_STALKING</th>\n",
       "      <th>Primary_Type_THEFT</th>\n",
       "      <th>Primary_Type_WEAPONS VIOLATION</th>\n",
       "      <th>Safety_Bad</th>\n",
       "      <th>Safety_Good</th>\n",
       "    </tr>\n",
       "  </thead>\n",
       "  <tbody>\n",
       "    <tr>\n",
       "      <th>0</th>\n",
       "      <td>0.0</td>\n",
       "      <td>0.0</td>\n",
       "      <td>0.0</td>\n",
       "      <td>0.0</td>\n",
       "      <td>0.0</td>\n",
       "      <td>0.0</td>\n",
       "      <td>1.0</td>\n",
       "      <td>0.0</td>\n",
       "      <td>0.0</td>\n",
       "      <td>0.0</td>\n",
       "      <td>...</td>\n",
       "      <td>0.0</td>\n",
       "      <td>0.0</td>\n",
       "      <td>0.0</td>\n",
       "      <td>0.0</td>\n",
       "      <td>0.0</td>\n",
       "      <td>0.0</td>\n",
       "      <td>0.0</td>\n",
       "      <td>0.0</td>\n",
       "      <td>1.0</td>\n",
       "      <td>0.0</td>\n",
       "    </tr>\n",
       "    <tr>\n",
       "      <th>1</th>\n",
       "      <td>0.0</td>\n",
       "      <td>0.0</td>\n",
       "      <td>0.0</td>\n",
       "      <td>0.0</td>\n",
       "      <td>0.0</td>\n",
       "      <td>0.0</td>\n",
       "      <td>0.0</td>\n",
       "      <td>0.0</td>\n",
       "      <td>0.0</td>\n",
       "      <td>0.0</td>\n",
       "      <td>...</td>\n",
       "      <td>0.0</td>\n",
       "      <td>0.0</td>\n",
       "      <td>0.0</td>\n",
       "      <td>0.0</td>\n",
       "      <td>0.0</td>\n",
       "      <td>0.0</td>\n",
       "      <td>1.0</td>\n",
       "      <td>0.0</td>\n",
       "      <td>1.0</td>\n",
       "      <td>0.0</td>\n",
       "    </tr>\n",
       "    <tr>\n",
       "      <th>2</th>\n",
       "      <td>0.0</td>\n",
       "      <td>0.0</td>\n",
       "      <td>0.0</td>\n",
       "      <td>0.0</td>\n",
       "      <td>0.0</td>\n",
       "      <td>0.0</td>\n",
       "      <td>0.0</td>\n",
       "      <td>0.0</td>\n",
       "      <td>0.0</td>\n",
       "      <td>0.0</td>\n",
       "      <td>...</td>\n",
       "      <td>0.0</td>\n",
       "      <td>0.0</td>\n",
       "      <td>0.0</td>\n",
       "      <td>0.0</td>\n",
       "      <td>1.0</td>\n",
       "      <td>0.0</td>\n",
       "      <td>0.0</td>\n",
       "      <td>0.0</td>\n",
       "      <td>1.0</td>\n",
       "      <td>0.0</td>\n",
       "    </tr>\n",
       "    <tr>\n",
       "      <th>3</th>\n",
       "      <td>0.0</td>\n",
       "      <td>0.0</td>\n",
       "      <td>0.0</td>\n",
       "      <td>0.0</td>\n",
       "      <td>0.0</td>\n",
       "      <td>0.0</td>\n",
       "      <td>0.0</td>\n",
       "      <td>0.0</td>\n",
       "      <td>0.0</td>\n",
       "      <td>0.0</td>\n",
       "      <td>...</td>\n",
       "      <td>0.0</td>\n",
       "      <td>0.0</td>\n",
       "      <td>0.0</td>\n",
       "      <td>0.0</td>\n",
       "      <td>0.0</td>\n",
       "      <td>0.0</td>\n",
       "      <td>0.0</td>\n",
       "      <td>0.0</td>\n",
       "      <td>1.0</td>\n",
       "      <td>0.0</td>\n",
       "    </tr>\n",
       "    <tr>\n",
       "      <th>4</th>\n",
       "      <td>0.0</td>\n",
       "      <td>0.0</td>\n",
       "      <td>0.0</td>\n",
       "      <td>0.0</td>\n",
       "      <td>0.0</td>\n",
       "      <td>0.0</td>\n",
       "      <td>0.0</td>\n",
       "      <td>0.0</td>\n",
       "      <td>0.0</td>\n",
       "      <td>0.0</td>\n",
       "      <td>...</td>\n",
       "      <td>0.0</td>\n",
       "      <td>0.0</td>\n",
       "      <td>0.0</td>\n",
       "      <td>0.0</td>\n",
       "      <td>0.0</td>\n",
       "      <td>0.0</td>\n",
       "      <td>0.0</td>\n",
       "      <td>0.0</td>\n",
       "      <td>1.0</td>\n",
       "      <td>0.0</td>\n",
       "    </tr>\n",
       "  </tbody>\n",
       "</table>\n",
       "<p>5 rows × 31 columns</p>\n",
       "</div>"
      ],
      "text/plain": [
       "   Primary_Type_ARSON  Primary_Type_ASSAULT  Primary_Type_BATTERY  \\\n",
       "0                 0.0                   0.0                   0.0   \n",
       "1                 0.0                   0.0                   0.0   \n",
       "2                 0.0                   0.0                   0.0   \n",
       "3                 0.0                   0.0                   0.0   \n",
       "4                 0.0                   0.0                   0.0   \n",
       "\n",
       "   Primary_Type_BURGLARY  Primary_Type_CONCEALED CARRY LICENSE VIOLATION  \\\n",
       "0                    0.0                                             0.0   \n",
       "1                    0.0                                             0.0   \n",
       "2                    0.0                                             0.0   \n",
       "3                    0.0                                             0.0   \n",
       "4                    0.0                                             0.0   \n",
       "\n",
       "   Primary_Type_CRIM SEXUAL ASSAULT  Primary_Type_CRIMINAL DAMAGE  \\\n",
       "0                               0.0                           1.0   \n",
       "1                               0.0                           0.0   \n",
       "2                               0.0                           0.0   \n",
       "3                               0.0                           0.0   \n",
       "4                               0.0                           0.0   \n",
       "\n",
       "   Primary_Type_CRIMINAL SEXUAL ASSAULT  Primary_Type_CRIMINAL TRESPASS  \\\n",
       "0                                   0.0                             0.0   \n",
       "1                                   0.0                             0.0   \n",
       "2                                   0.0                             0.0   \n",
       "3                                   0.0                             0.0   \n",
       "4                                   0.0                             0.0   \n",
       "\n",
       "   Primary_Type_DECEPTIVE PRACTICE  ...  Primary_Type_PROSTITUTION  \\\n",
       "0                              0.0  ...                        0.0   \n",
       "1                              0.0  ...                        0.0   \n",
       "2                              0.0  ...                        0.0   \n",
       "3                              0.0  ...                        0.0   \n",
       "4                              0.0  ...                        0.0   \n",
       "\n",
       "   Primary_Type_PUBLIC INDECENCY  Primary_Type_PUBLIC PEACE VIOLATION  \\\n",
       "0                            0.0                                  0.0   \n",
       "1                            0.0                                  0.0   \n",
       "2                            0.0                                  0.0   \n",
       "3                            0.0                                  0.0   \n",
       "4                            0.0                                  0.0   \n",
       "\n",
       "   Primary_Type_ROBBERY  Primary_Type_SEX OFFENSE  Primary_Type_STALKING  \\\n",
       "0                   0.0                       0.0                    0.0   \n",
       "1                   0.0                       0.0                    0.0   \n",
       "2                   0.0                       1.0                    0.0   \n",
       "3                   0.0                       0.0                    0.0   \n",
       "4                   0.0                       0.0                    0.0   \n",
       "\n",
       "   Primary_Type_THEFT  Primary_Type_WEAPONS VIOLATION  Safety_Bad  Safety_Good  \n",
       "0                 0.0                             0.0         1.0          0.0  \n",
       "1                 1.0                             0.0         1.0          0.0  \n",
       "2                 0.0                             0.0         1.0          0.0  \n",
       "3                 0.0                             0.0         1.0          0.0  \n",
       "4                 0.0                             0.0         1.0          0.0  \n",
       "\n",
       "[5 rows x 31 columns]"
      ]
     },
     "execution_count": 417,
     "metadata": {},
     "output_type": "execute_result"
    }
   ],
   "source": [
    "# Create a OneHotEncoder instance\n",
    "enc = OneHotEncoder(sparse=False)\n",
    "\n",
    "# Fit and transform the OneHotEncoder using the categorical variable list\n",
    "encode_df = pd.DataFrame(enc.fit_transform(cleaned_crime[crime_obj]))\n",
    "\n",
    "# Add the encoded variable names to the dataframe\n",
    "encode_df.columns = enc.get_feature_names(crime_obj)\n",
    "encode_df.head()"
   ]
  },
  {
   "cell_type": "code",
   "execution_count": 418,
   "id": "9698e680",
   "metadata": {},
   "outputs": [
    {
     "data": {
      "text/html": [
       "<div>\n",
       "<style scoped>\n",
       "    .dataframe tbody tr th:only-of-type {\n",
       "        vertical-align: middle;\n",
       "    }\n",
       "\n",
       "    .dataframe tbody tr th {\n",
       "        vertical-align: top;\n",
       "    }\n",
       "\n",
       "    .dataframe thead th {\n",
       "        text-align: right;\n",
       "    }\n",
       "</style>\n",
       "<table border=\"1\" class=\"dataframe\">\n",
       "  <thead>\n",
       "    <tr style=\"text-align: right;\">\n",
       "      <th></th>\n",
       "      <th>ZIP</th>\n",
       "      <th>Ward</th>\n",
       "      <th>rankings</th>\n",
       "      <th>Latitude</th>\n",
       "      <th>Longitude</th>\n",
       "      <th>Arrest</th>\n",
       "      <th>Domestic</th>\n",
       "      <th>Population</th>\n",
       "      <th>People/Sq.Mile</th>\n",
       "      <th>National_Rank</th>\n",
       "      <th>...</th>\n",
       "      <th>Primary_Type_PROSTITUTION</th>\n",
       "      <th>Primary_Type_PUBLIC INDECENCY</th>\n",
       "      <th>Primary_Type_PUBLIC PEACE VIOLATION</th>\n",
       "      <th>Primary_Type_ROBBERY</th>\n",
       "      <th>Primary_Type_SEX OFFENSE</th>\n",
       "      <th>Primary_Type_STALKING</th>\n",
       "      <th>Primary_Type_THEFT</th>\n",
       "      <th>Primary_Type_WEAPONS VIOLATION</th>\n",
       "      <th>Safety_Bad</th>\n",
       "      <th>Safety_Good</th>\n",
       "    </tr>\n",
       "  </thead>\n",
       "  <tbody>\n",
       "    <tr>\n",
       "      <th>0</th>\n",
       "      <td>60602</td>\n",
       "      <td>42</td>\n",
       "      <td>3</td>\n",
       "      <td>41.881950</td>\n",
       "      <td>-87.633336</td>\n",
       "      <td>False</td>\n",
       "      <td>False</td>\n",
       "      <td>70</td>\n",
       "      <td>810.58</td>\n",
       "      <td>6855</td>\n",
       "      <td>...</td>\n",
       "      <td>0.0</td>\n",
       "      <td>0.0</td>\n",
       "      <td>0.0</td>\n",
       "      <td>0.0</td>\n",
       "      <td>0.0</td>\n",
       "      <td>0.0</td>\n",
       "      <td>0.0</td>\n",
       "      <td>0.0</td>\n",
       "      <td>1.0</td>\n",
       "      <td>0.0</td>\n",
       "    </tr>\n",
       "    <tr>\n",
       "      <th>1</th>\n",
       "      <td>60657</td>\n",
       "      <td>7</td>\n",
       "      <td>3</td>\n",
       "      <td>41.725687</td>\n",
       "      <td>-87.570565</td>\n",
       "      <td>False</td>\n",
       "      <td>True</td>\n",
       "      <td>66789</td>\n",
       "      <td>31204.02</td>\n",
       "      <td>112</td>\n",
       "      <td>...</td>\n",
       "      <td>0.0</td>\n",
       "      <td>0.0</td>\n",
       "      <td>0.0</td>\n",
       "      <td>0.0</td>\n",
       "      <td>0.0</td>\n",
       "      <td>0.0</td>\n",
       "      <td>1.0</td>\n",
       "      <td>0.0</td>\n",
       "      <td>1.0</td>\n",
       "      <td>0.0</td>\n",
       "    </tr>\n",
       "    <tr>\n",
       "      <th>2</th>\n",
       "      <td>60652</td>\n",
       "      <td>40</td>\n",
       "      <td>8</td>\n",
       "      <td>41.996803</td>\n",
       "      <td>-87.673947</td>\n",
       "      <td>False</td>\n",
       "      <td>False</td>\n",
       "      <td>39126</td>\n",
       "      <td>8425.81</td>\n",
       "      <td>757</td>\n",
       "      <td>...</td>\n",
       "      <td>0.0</td>\n",
       "      <td>0.0</td>\n",
       "      <td>0.0</td>\n",
       "      <td>0.0</td>\n",
       "      <td>1.0</td>\n",
       "      <td>0.0</td>\n",
       "      <td>0.0</td>\n",
       "      <td>0.0</td>\n",
       "      <td>1.0</td>\n",
       "      <td>0.0</td>\n",
       "    </tr>\n",
       "    <tr>\n",
       "      <th>3</th>\n",
       "      <td>60612</td>\n",
       "      <td>16</td>\n",
       "      <td>4</td>\n",
       "      <td>41.795188</td>\n",
       "      <td>-87.671907</td>\n",
       "      <td>False</td>\n",
       "      <td>False</td>\n",
       "      <td>37990</td>\n",
       "      <td>10195.72</td>\n",
       "      <td>586</td>\n",
       "      <td>...</td>\n",
       "      <td>0.0</td>\n",
       "      <td>0.0</td>\n",
       "      <td>0.0</td>\n",
       "      <td>0.0</td>\n",
       "      <td>0.0</td>\n",
       "      <td>0.0</td>\n",
       "      <td>0.0</td>\n",
       "      <td>0.0</td>\n",
       "      <td>1.0</td>\n",
       "      <td>0.0</td>\n",
       "    </tr>\n",
       "    <tr>\n",
       "      <th>4</th>\n",
       "      <td>60612</td>\n",
       "      <td>16</td>\n",
       "      <td>7</td>\n",
       "      <td>41.778622</td>\n",
       "      <td>-87.659337</td>\n",
       "      <td>True</td>\n",
       "      <td>True</td>\n",
       "      <td>37990</td>\n",
       "      <td>10195.72</td>\n",
       "      <td>586</td>\n",
       "      <td>...</td>\n",
       "      <td>0.0</td>\n",
       "      <td>0.0</td>\n",
       "      <td>0.0</td>\n",
       "      <td>0.0</td>\n",
       "      <td>0.0</td>\n",
       "      <td>0.0</td>\n",
       "      <td>0.0</td>\n",
       "      <td>0.0</td>\n",
       "      <td>1.0</td>\n",
       "      <td>0.0</td>\n",
       "    </tr>\n",
       "  </tbody>\n",
       "</table>\n",
       "<p>5 rows × 44 columns</p>\n",
       "</div>"
      ],
      "text/plain": [
       "     ZIP  Ward  rankings   Latitude  Longitude  Arrest  Domestic  Population  \\\n",
       "0  60602    42         3  41.881950 -87.633336   False     False          70   \n",
       "1  60657     7         3  41.725687 -87.570565   False      True       66789   \n",
       "2  60652    40         8  41.996803 -87.673947   False     False       39126   \n",
       "3  60612    16         4  41.795188 -87.671907   False     False       37990   \n",
       "4  60612    16         7  41.778622 -87.659337    True      True       37990   \n",
       "\n",
       "   People/Sq.Mile  National_Rank  ...  Primary_Type_PROSTITUTION  \\\n",
       "0          810.58           6855  ...                        0.0   \n",
       "1        31204.02            112  ...                        0.0   \n",
       "2         8425.81            757  ...                        0.0   \n",
       "3        10195.72            586  ...                        0.0   \n",
       "4        10195.72            586  ...                        0.0   \n",
       "\n",
       "   Primary_Type_PUBLIC INDECENCY  Primary_Type_PUBLIC PEACE VIOLATION  \\\n",
       "0                            0.0                                  0.0   \n",
       "1                            0.0                                  0.0   \n",
       "2                            0.0                                  0.0   \n",
       "3                            0.0                                  0.0   \n",
       "4                            0.0                                  0.0   \n",
       "\n",
       "   Primary_Type_ROBBERY  Primary_Type_SEX OFFENSE  Primary_Type_STALKING  \\\n",
       "0                   0.0                       0.0                    0.0   \n",
       "1                   0.0                       0.0                    0.0   \n",
       "2                   0.0                       1.0                    0.0   \n",
       "3                   0.0                       0.0                    0.0   \n",
       "4                   0.0                       0.0                    0.0   \n",
       "\n",
       "   Primary_Type_THEFT  Primary_Type_WEAPONS VIOLATION  Safety_Bad  Safety_Good  \n",
       "0                 0.0                             0.0         1.0          0.0  \n",
       "1                 1.0                             0.0         1.0          0.0  \n",
       "2                 0.0                             0.0         1.0          0.0  \n",
       "3                 0.0                             0.0         1.0          0.0  \n",
       "4                 0.0                             0.0         1.0          0.0  \n",
       "\n",
       "[5 rows x 44 columns]"
      ]
     },
     "execution_count": 418,
     "metadata": {},
     "output_type": "execute_result"
    }
   ],
   "source": [
    "# Merge one-hot encoded features and drop the originals\n",
    "sample = sample.merge(encode_df, left_index=True, right_index=True)\n",
    "sample = sample.drop(columns=crime_obj,axis=1)\n",
    "sample.head()"
   ]
  },
  {
   "cell_type": "code",
   "execution_count": 419,
   "id": "519dfa12",
   "metadata": {},
   "outputs": [],
   "source": [
    "# Split our preprocessed data into our features and target arrays\n",
    "X = sample.drop(columns=['Safety'],axis=1)\n",
    "y = sample['Safety']\n",
    "\n",
    "# Split the preprocessed data into a training and testing dataset\n",
    "X_train, X_test, y_train, y_test = train_test_split(X, y, random_state=78)"
   ]
  },
  {
   "cell_type": "markdown",
   "id": "d20deb78",
   "metadata": {},
   "source": [
    "# Resampling Techniques"
   ]
  },
  {
   "cell_type": "markdown",
   "id": "68b3bba4",
   "metadata": {},
   "source": [
    "### Naives Random"
   ]
  },
  {
   "cell_type": "code",
   "execution_count": 420,
   "id": "7a3d4813",
   "metadata": {},
   "outputs": [],
   "source": [
    "# Resample the training data with the RandomOversampler\n",
    "from imblearn.over_sampling import RandomOverSampler\n",
    "ros = RandomOverSampler(random_state=1)\n",
    "X_resampled_ros, y_resampled_ros = ros.fit_resample(X_train, y_train)"
   ]
  },
  {
   "cell_type": "code",
   "execution_count": 421,
   "id": "eeab1be5",
   "metadata": {},
   "outputs": [
    {
     "data": {
      "text/plain": [
       "LogisticRegression(random_state=1)"
      ]
     },
     "execution_count": 421,
     "metadata": {},
     "output_type": "execute_result"
    }
   ],
   "source": [
    "# Train the Logistic Regression model using the resampled data\n",
    "from sklearn.linear_model import LogisticRegression\n",
    "model_ros = LogisticRegression(solver='lbfgs', random_state=1)\n",
    "model_ros.fit(X_resampled_ros, y_resampled_ros)"
   ]
  },
  {
   "cell_type": "code",
   "execution_count": 422,
   "id": "e83f7a8a",
   "metadata": {},
   "outputs": [
    {
     "data": {
      "text/plain": [
       "0.5022931442080378"
      ]
     },
     "execution_count": 422,
     "metadata": {},
     "output_type": "execute_result"
    }
   ],
   "source": [
    "# Calculated the balanced accuracy score\n",
    "from sklearn.metrics import balanced_accuracy_score\n",
    "y_pred_ros = model_ros.predict(X_test)\n",
    "balanced_accuracy_score(y_test, y_pred_ros)"
   ]
  },
  {
   "cell_type": "code",
   "execution_count": 423,
   "id": "69558368",
   "metadata": {},
   "outputs": [
    {
     "data": {
      "text/plain": [
       "array([[3432, 3618],\n",
       "       [ 217,  233]], dtype=int64)"
      ]
     },
     "execution_count": 423,
     "metadata": {},
     "output_type": "execute_result"
    }
   ],
   "source": [
    "# Display the confusion matrix\n",
    "from sklearn.metrics import confusion_matrix\n",
    "confusion_matrix(y_test, y_pred_ros)"
   ]
  },
  {
   "cell_type": "code",
   "execution_count": 424,
   "id": "55e1c41c",
   "metadata": {},
   "outputs": [
    {
     "name": "stdout",
     "output_type": "stream",
     "text": [
      "                   pre       rec       spe        f1       geo       iba       sup\n",
      "\n",
      "        0.0       0.94      0.49      0.52      0.64      0.50      0.25      7050\n",
      "        1.0       0.06      0.52      0.49      0.11      0.50      0.25       450\n",
      "\n",
      "avg / total       0.89      0.49      0.52      0.61      0.50      0.25      7500\n",
      "\n"
     ]
    }
   ],
   "source": [
    "# Print the imbalanced classification report\n",
    "from imblearn.metrics import classification_report_imbalanced\n",
    "print(classification_report_imbalanced(y_test, y_pred_ros))"
   ]
  },
  {
   "cell_type": "markdown",
   "id": "bd9e6e0e",
   "metadata": {},
   "source": [
    "### SMOTE"
   ]
  },
  {
   "cell_type": "code",
   "execution_count": 425,
   "id": "486c463c",
   "metadata": {},
   "outputs": [],
   "source": [
    "# Resample the training data with SMOTE\n",
    "from imblearn.over_sampling import SMOTE\n",
    "smote = SMOTE(random_state=1, sampling_strategy='auto')\n",
    "X_resampled_smote, y_resampled_smote = smote.fit_resample(X_train, y_train)"
   ]
  },
  {
   "cell_type": "code",
   "execution_count": 426,
   "id": "2562cf25",
   "metadata": {},
   "outputs": [
    {
     "data": {
      "text/plain": [
       "LogisticRegression(random_state=1)"
      ]
     },
     "execution_count": 426,
     "metadata": {},
     "output_type": "execute_result"
    }
   ],
   "source": [
    "# Train the Logistic Regression model using the resampled data\n",
    "model_smote = LogisticRegression(solver='lbfgs', random_state=1)\n",
    "model_smote.fit(X_resampled_smote, y_resampled_smote)"
   ]
  },
  {
   "cell_type": "code",
   "execution_count": 427,
   "id": "81bb050e",
   "metadata": {},
   "outputs": [
    {
     "data": {
      "text/plain": [
       "0.4832387706855792"
      ]
     },
     "execution_count": 427,
     "metadata": {},
     "output_type": "execute_result"
    }
   ],
   "source": [
    "# Calculated the balanced accuracy score\n",
    "y_pred_smote = model_smote.predict(X_test)\n",
    "balanced_accuracy_score(y_test, y_pred_smote)"
   ]
  },
  {
   "cell_type": "code",
   "execution_count": 428,
   "id": "39121bc9",
   "metadata": {},
   "outputs": [
    {
     "data": {
      "text/plain": [
       "array([[3978, 3072],\n",
       "       [ 269,  181]], dtype=int64)"
      ]
     },
     "execution_count": 428,
     "metadata": {},
     "output_type": "execute_result"
    }
   ],
   "source": [
    "# Display the confusion matrix\n",
    "confusion_matrix(y_test, y_pred_smote)"
   ]
  },
  {
   "cell_type": "code",
   "execution_count": 429,
   "id": "3a418136",
   "metadata": {},
   "outputs": [
    {
     "name": "stdout",
     "output_type": "stream",
     "text": [
      "                   pre       rec       spe        f1       geo       iba       sup\n",
      "\n",
      "        0.0       0.94      0.56      0.40      0.70      0.48      0.23      7050\n",
      "        1.0       0.06      0.40      0.56      0.10      0.48      0.22       450\n",
      "\n",
      "avg / total       0.88      0.55      0.41      0.67      0.48      0.23      7500\n",
      "\n"
     ]
    }
   ],
   "source": [
    "# Print the imbalanced classification report\n",
    "print(classification_report_imbalanced(y_test, y_pred_smote))"
   ]
  },
  {
   "cell_type": "markdown",
   "id": "f17741da",
   "metadata": {},
   "source": [
    "### Cluster Centroids"
   ]
  },
  {
   "cell_type": "code",
   "execution_count": 430,
   "id": "11dbd14d",
   "metadata": {},
   "outputs": [],
   "source": [
    "# Resample the data using the ClusterCentroids resampler\n",
    "# Warning: This is a large dataset, and this step may take some time to complete\n",
    "from imblearn.under_sampling import ClusterCentroids\n",
    "cc = ClusterCentroids(random_state=1)\n",
    "X_resampled_cc, y_resampled_cc = cc.fit_resample(X_train, y_train)"
   ]
  },
  {
   "cell_type": "code",
   "execution_count": 431,
   "id": "92371805",
   "metadata": {},
   "outputs": [
    {
     "data": {
      "text/plain": [
       "LogisticRegression(random_state=1)"
      ]
     },
     "execution_count": 431,
     "metadata": {},
     "output_type": "execute_result"
    }
   ],
   "source": [
    "# Train the Logistic Regression model using the resampled data\n",
    "model_cc = LogisticRegression(solver='lbfgs', random_state=1)\n",
    "model_cc.fit(X_resampled_cc, y_resampled_cc)"
   ]
  },
  {
   "cell_type": "code",
   "execution_count": 432,
   "id": "d328b12f",
   "metadata": {},
   "outputs": [
    {
     "data": {
      "text/plain": [
       "0.5106382978723405"
      ]
     },
     "execution_count": 432,
     "metadata": {},
     "output_type": "execute_result"
    }
   ],
   "source": [
    "# Calculated the balanced accuracy score\n",
    "y_pred_cc = model_cc.predict(X_test)\n",
    "balanced_accuracy_score(y_test, y_pred_cc)"
   ]
  },
  {
   "cell_type": "code",
   "execution_count": 433,
   "id": "b0289439",
   "metadata": {},
   "outputs": [
    {
     "data": {
      "text/plain": [
       "array([[3675, 3375],\n",
       "       [ 225,  225]], dtype=int64)"
      ]
     },
     "execution_count": 433,
     "metadata": {},
     "output_type": "execute_result"
    }
   ],
   "source": [
    "# Display the confusion matrix\n",
    "confusion_matrix(y_test, y_pred_cc)"
   ]
  },
  {
   "cell_type": "code",
   "execution_count": 434,
   "id": "c95795f9",
   "metadata": {},
   "outputs": [
    {
     "name": "stdout",
     "output_type": "stream",
     "text": [
      "                   pre       rec       spe        f1       geo       iba       sup\n",
      "\n",
      "        0.0       0.94      0.52      0.50      0.67      0.51      0.26      7050\n",
      "        1.0       0.06      0.50      0.52      0.11      0.51      0.26       450\n",
      "\n",
      "avg / total       0.89      0.52      0.50      0.64      0.51      0.26      7500\n",
      "\n"
     ]
    }
   ],
   "source": [
    "# Print the imbalanced classification report\n",
    "print(classification_report_imbalanced(y_test, y_pred_cc))"
   ]
  },
  {
   "cell_type": "markdown",
   "id": "b38444f8",
   "metadata": {},
   "source": [
    "### Combination (Over and Under) Sampling"
   ]
  },
  {
   "cell_type": "code",
   "execution_count": 435,
   "id": "79b853d8",
   "metadata": {},
   "outputs": [],
   "source": [
    "# Resample the training data with SMOTEENN\n",
    "# Warning: This is a large dataset, and this step may take some time to complete\n",
    "# YOUR CODE HERE\n",
    "from imblearn.combine import SMOTEENN\n",
    "smoteenn = SMOTEENN(random_state=0)\n",
    "X_resampled_smoteenn, y_resampled_smoteenn = smoteenn.fit_resample(X, y)"
   ]
  },
  {
   "cell_type": "code",
   "execution_count": 436,
   "id": "c5377b6a",
   "metadata": {},
   "outputs": [
    {
     "data": {
      "text/plain": [
       "LogisticRegression(random_state=1)"
      ]
     },
     "execution_count": 436,
     "metadata": {},
     "output_type": "execute_result"
    }
   ],
   "source": [
    "# Train the Logistic Regression model using the resampled data\n",
    "model_smoteenn = LogisticRegression(solver='lbfgs', random_state=1)\n",
    "model_smoteenn.fit(X_resampled_smoteenn, y_resampled_smoteenn)"
   ]
  },
  {
   "cell_type": "code",
   "execution_count": 437,
   "id": "a1785d6a",
   "metadata": {},
   "outputs": [
    {
     "data": {
      "text/plain": [
       "0.5155082742316784"
      ]
     },
     "execution_count": 437,
     "metadata": {},
     "output_type": "execute_result"
    }
   ],
   "source": [
    "# Calculated the balanced accuracy score\n",
    "y_pred_smoteenn = model_smoteenn.predict(X_test)\n",
    "balanced_accuracy_score(y_test, y_pred_smoteenn)"
   ]
  },
  {
   "cell_type": "code",
   "execution_count": 438,
   "id": "d76285e7",
   "metadata": {},
   "outputs": [
    {
     "data": {
      "text/plain": [
       "array([[3070, 3980],\n",
       "       [ 182,  268]], dtype=int64)"
      ]
     },
     "execution_count": 438,
     "metadata": {},
     "output_type": "execute_result"
    }
   ],
   "source": [
    "# Display the confusion matrix\n",
    "confusion_matrix(y_test, y_pred_smoteenn)"
   ]
  },
  {
   "cell_type": "code",
   "execution_count": 439,
   "id": "4fbce862",
   "metadata": {},
   "outputs": [
    {
     "name": "stdout",
     "output_type": "stream",
     "text": [
      "                   pre       rec       spe        f1       geo       iba       sup\n",
      "\n",
      "        0.0       0.94      0.44      0.60      0.60      0.51      0.26      7050\n",
      "        1.0       0.06      0.60      0.44      0.11      0.51      0.26       450\n",
      "\n",
      "avg / total       0.89      0.45      0.59      0.57      0.51      0.26      7500\n",
      "\n"
     ]
    }
   ],
   "source": [
    "# Print the imbalanced classification report\n",
    "print(classification_report_imbalanced(y_test, y_pred_smoteenn))"
   ]
  },
  {
   "cell_type": "markdown",
   "id": "beff5afd",
   "metadata": {},
   "source": [
    "# Ensemble Techniques"
   ]
  },
  {
   "cell_type": "markdown",
   "id": "588f1552",
   "metadata": {},
   "source": [
    "### Balanced Random Forest"
   ]
  },
  {
   "cell_type": "code",
   "execution_count": 440,
   "id": "26cf50d0",
   "metadata": {},
   "outputs": [
    {
     "data": {
      "text/plain": [
       "BalancedRandomForestClassifier(random_state=1)"
      ]
     },
     "execution_count": 440,
     "metadata": {},
     "output_type": "execute_result"
    }
   ],
   "source": [
    "# Resample the training data with the BalancedRandomForestClassifier\n",
    "from imblearn.ensemble import BalancedRandomForestClassifier\n",
    "brfc_model = BalancedRandomForestClassifier(n_estimators=100, random_state=1)\n",
    "brfc_model.fit(X_train, y_train)"
   ]
  },
  {
   "cell_type": "code",
   "execution_count": 441,
   "id": "c523aa20",
   "metadata": {},
   "outputs": [
    {
     "data": {
      "text/plain": [
       "0.9352482269503546"
      ]
     },
     "execution_count": 441,
     "metadata": {},
     "output_type": "execute_result"
    }
   ],
   "source": [
    "# Calculated the balanced accuracy score\n",
    "y_pred_brfc = brfc_model.predict(X_test)\n",
    "balanced_accuracy_score(y_test, y_pred_brfc)"
   ]
  },
  {
   "cell_type": "code",
   "execution_count": 442,
   "id": "bfaaaa49",
   "metadata": {},
   "outputs": [
    {
     "data": {
      "text/plain": [
       "array([[6560,  490],\n",
       "       [  27,  423]], dtype=int64)"
      ]
     },
     "execution_count": 442,
     "metadata": {},
     "output_type": "execute_result"
    }
   ],
   "source": [
    "# Display the confusion matrix\n",
    "confusion_matrix(y_test, y_pred_brfc)"
   ]
  },
  {
   "cell_type": "code",
   "execution_count": 443,
   "id": "33ab5294",
   "metadata": {},
   "outputs": [
    {
     "name": "stdout",
     "output_type": "stream",
     "text": [
      "                   pre       rec       spe        f1       geo       iba       sup\n",
      "\n",
      "        0.0       1.00      0.93      0.94      0.96      0.94      0.87      7050\n",
      "        1.0       0.46      0.94      0.93      0.62      0.94      0.88       450\n",
      "\n",
      "avg / total       0.96      0.93      0.94      0.94      0.94      0.87      7500\n",
      "\n"
     ]
    }
   ],
   "source": [
    "# Print the imbalanced classification report\n",
    "print(classification_report_imbalanced(y_test, y_pred_brfc))"
   ]
  },
  {
   "cell_type": "code",
   "execution_count": 444,
   "id": "4f6691d2",
   "metadata": {},
   "outputs": [
    {
     "data": {
      "text/plain": [
       "[(0.46846282676790635, 'Primary_Type_ASSAULT'),\n",
       " (0.08895665689257837, 'Primary_Type_THEFT'),\n",
       " (0.08165191108202052, 'Primary_Type_BATTERY'),\n",
       " (0.05051543293122887, 'Longitude'),\n",
       " (0.05030993820551153, 'Latitude'),\n",
       " (0.04822871685093796, 'Primary_Type_DECEPTIVE PRACTICE'),\n",
       " (0.040707779088361734, 'Primary_Type_CRIMINAL DAMAGE'),\n",
       " (0.02087267671444719, 'rankings'),\n",
       " (0.01724625413221877, 'Primary_Type_BURGLARY'),\n",
       " (0.0171475827909164, 'Primary_Type_OTHER OFFENSE'),\n",
       " (0.015119699806775877, 'Primary_Type_MOTOR VEHICLE THEFT'),\n",
       " (0.012163241311598554, 'Primary_Type_NARCOTICS'),\n",
       " (0.008393418604180717, 'Primary_Type_ROBBERY'),\n",
       " (0.008123265434910532, 'chip_latitude'),\n",
       " (0.007854694769521501, 'Primary_Type_WEAPONS VIOLATION'),\n",
       " (0.007677651180465466, 'chip_longitude'),\n",
       " (0.006957734415195485, 'Primary_Type_CONCEALED CARRY LICENSE VIOLATION'),\n",
       " (0.006760158875245541, 'Primary_Type_CRIMINAL TRESPASS'),\n",
       " (0.006064021755847914, 'Ward'),\n",
       " (0.005684853215375099, 'Domestic'),\n",
       " (0.005390524800132548, 'Arrest'),\n",
       " (0.004671790842037874, 'People/Sq.Mile'),\n",
       " (0.004637911054653628, 'National_Rank'),\n",
       " (0.004439137244374888, 'Population'),\n",
       " (0.004197809789029816, 'ZIP'),\n",
       " (0.0020160815258068155, 'Primary_Type_OFFENSE INVOLVING CHILDREN'),\n",
       " (0.00153663586987833, 'Primary_Type_PUBLIC PEACE VIOLATION'),\n",
       " (0.0010001079123803758, 'Primary_Type_SEX OFFENSE'),\n",
       " (0.0009405456525380159, 'Primary_Type_INTERFERENCE WITH PUBLIC OFFICER'),\n",
       " (0.0007617253997013653, 'Primary_Type_CRIMINAL SEXUAL ASSAULT'),\n",
       " (0.0006858776880822794, 'Primary_Type_HOMICIDE'),\n",
       " (0.00021120254755120716, 'Primary_Type_ARSON'),\n",
       " (0.00018691195853909136, 'Primary_Type_PROSTITUTION'),\n",
       " (0.00013183707746557225, 'Primary_Type_CRIM SEXUAL ASSAULT'),\n",
       " (9.5249083892394e-05, 'Primary_Type_KIDNAPPING'),\n",
       " (7.22872460743527e-05, 'Primary_Type_STALKING'),\n",
       " (4.59168731064542e-05, 'Primary_Type_LIQUOR LAW VIOLATION'),\n",
       " (4.3741045219091065e-05, 'Primary_Type_OBSCENITY'),\n",
       " (2.3455526253268225e-05, 'Primary_Type_PUBLIC INDECENCY'),\n",
       " (1.2736038038169817e-05, 'Primary_Type_INTIMIDATION'),\n",
       " (0.0, 'chipotle'),\n",
       " (0.0, 'Primary_Type_GAMBLING')]"
      ]
     },
     "execution_count": 444,
     "metadata": {},
     "output_type": "execute_result"
    }
   ],
   "source": [
    "# List the features sorted in descending order by feature importance\n",
    "importances = brfc_model.feature_importances_\n",
    "sorted(zip(brfc_model.feature_importances_, X.columns), reverse=True)"
   ]
  },
  {
   "cell_type": "markdown",
   "id": "8f6696fd",
   "metadata": {},
   "source": [
    "### Easy Ensemble AdaBoost Classifier"
   ]
  },
  {
   "cell_type": "code",
   "execution_count": 445,
   "id": "60e8b33a",
   "metadata": {},
   "outputs": [
    {
     "data": {
      "text/plain": [
       "EasyEnsembleClassifier(n_estimators=100, random_state=1)"
      ]
     },
     "execution_count": 445,
     "metadata": {},
     "output_type": "execute_result"
    }
   ],
   "source": [
    "# Train the EasyEnsembleClassifier\n",
    "from imblearn.ensemble import EasyEnsembleClassifier\n",
    "ee_model = EasyEnsembleClassifier(n_estimators=100, random_state=1)\n",
    "ee_model.fit(X_train, y_train)\n",
    "# Train the EasyEnsembleClassifier"
   ]
  },
  {
   "cell_type": "code",
   "execution_count": 446,
   "id": "b68fe0e3",
   "metadata": {},
   "outputs": [
    {
     "data": {
      "text/plain": [
       "0.9457919621749409"
      ]
     },
     "execution_count": 446,
     "metadata": {},
     "output_type": "execute_result"
    }
   ],
   "source": [
    "# Calculated the balanced accuracy score\n",
    "y_pred_ee = ee_model.predict(X_test)\n",
    "balanced_accuracy_score(y_test, y_pred_ee)"
   ]
  },
  {
   "cell_type": "code",
   "execution_count": 447,
   "id": "a8dd55fa",
   "metadata": {},
   "outputs": [
    {
     "data": {
      "text/plain": [
       "array([[6411,  639],\n",
       "       [   8,  442]], dtype=int64)"
      ]
     },
     "execution_count": 447,
     "metadata": {},
     "output_type": "execute_result"
    }
   ],
   "source": [
    "# Display the confusion matrix\n",
    "confusion_matrix(y_test, y_pred_ee)"
   ]
  },
  {
   "cell_type": "code",
   "execution_count": 448,
   "id": "f9d84d08",
   "metadata": {},
   "outputs": [
    {
     "name": "stdout",
     "output_type": "stream",
     "text": [
      "                   pre       rec       spe        f1       geo       iba       sup\n",
      "\n",
      "        0.0       1.00      0.91      0.98      0.95      0.95      0.89      7050\n",
      "        1.0       0.41      0.98      0.91      0.58      0.95      0.90       450\n",
      "\n",
      "avg / total       0.96      0.91      0.98      0.93      0.95      0.89      7500\n",
      "\n"
     ]
    }
   ],
   "source": [
    "# Print the imbalanced classification report\n",
    "print(classification_report_imbalanced(y_test, y_pred_ee))"
   ]
  }
 ],
 "metadata": {
  "kernelspec": {
   "display_name": "mlenv",
   "language": "python",
   "name": "mlenv"
  },
  "language_info": {
   "codemirror_mode": {
    "name": "ipython",
    "version": 3
   },
   "file_extension": ".py",
   "mimetype": "text/x-python",
   "name": "python",
   "nbconvert_exporter": "python",
   "pygments_lexer": "ipython3",
   "version": "3.7.13"
  }
 },
 "nbformat": 4,
 "nbformat_minor": 5
}
