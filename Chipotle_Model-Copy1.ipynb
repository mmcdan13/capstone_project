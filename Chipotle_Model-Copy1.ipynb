{
 "cells": [
  {
   "cell_type": "code",
   "execution_count": 2,
   "id": "e638eb45",
   "metadata": {},
   "outputs": [],
   "source": [
    "import warnings\n",
    "warnings.filterwarnings('ignore')"
   ]
  },
  {
   "cell_type": "code",
   "execution_count": 3,
   "id": "8b26bb37",
   "metadata": {},
   "outputs": [],
   "source": [
    "import numpy as np\n",
    "import pandas as pd\n",
    "from pathlib import Path\n",
    "from collections import Counter\n",
    "from sklearn.preprocessing import StandardScaler,OneHotEncoder\n",
    "from sklearn.model_selection import train_test_split"
   ]
  },
  {
   "cell_type": "code",
   "execution_count": 4,
   "id": "36c8c794",
   "metadata": {},
   "outputs": [
    {
     "data": {
      "text/html": [
       "<div>\n",
       "<style scoped>\n",
       "    .dataframe tbody tr th:only-of-type {\n",
       "        vertical-align: middle;\n",
       "    }\n",
       "\n",
       "    .dataframe tbody tr th {\n",
       "        vertical-align: top;\n",
       "    }\n",
       "\n",
       "    .dataframe thead th {\n",
       "        text-align: right;\n",
       "    }\n",
       "</style>\n",
       "<table border=\"1\" class=\"dataframe\">\n",
       "  <thead>\n",
       "    <tr style=\"text-align: right;\">\n",
       "      <th></th>\n",
       "      <th>Unnamed: 0</th>\n",
       "      <th>ZIP</th>\n",
       "      <th>Ward</th>\n",
       "      <th>Primary_Type</th>\n",
       "      <th>rankings</th>\n",
       "      <th>Latitude</th>\n",
       "      <th>Longitude</th>\n",
       "      <th>Arrest</th>\n",
       "      <th>Domestic</th>\n",
       "      <th>Population</th>\n",
       "      <th>People/Sq.Mile</th>\n",
       "      <th>National_Rank</th>\n",
       "      <th>state</th>\n",
       "      <th>location</th>\n",
       "      <th>address</th>\n",
       "      <th>chip_latitude</th>\n",
       "      <th>chip_longitude</th>\n",
       "      <th>chipotle</th>\n",
       "      <th>Safety</th>\n",
       "    </tr>\n",
       "  </thead>\n",
       "  <tbody>\n",
       "    <tr>\n",
       "      <th>0</th>\n",
       "      <td>0</td>\n",
       "      <td>60601</td>\n",
       "      <td>27</td>\n",
       "      <td>THEFT</td>\n",
       "      <td>3</td>\n",
       "      <td>NaN</td>\n",
       "      <td>NaN</td>\n",
       "      <td>False</td>\n",
       "      <td>False</td>\n",
       "      <td>5,591</td>\n",
       "      <td>17,101.15</td>\n",
       "      <td>#271</td>\n",
       "      <td>Illinois</td>\n",
       "      <td>Chicago</td>\n",
       "      <td>316 N Michigan Ave Chicago, IL 60601 US</td>\n",
       "      <td>41.887288</td>\n",
       "      <td>-87.624848</td>\n",
       "      <td>1</td>\n",
       "      <td>Bad</td>\n",
       "    </tr>\n",
       "    <tr>\n",
       "      <th>1</th>\n",
       "      <td>1</td>\n",
       "      <td>60601</td>\n",
       "      <td>27</td>\n",
       "      <td>CRIMINAL DAMAGE</td>\n",
       "      <td>4</td>\n",
       "      <td>41.883932</td>\n",
       "      <td>-87.679964</td>\n",
       "      <td>False</td>\n",
       "      <td>False</td>\n",
       "      <td>5,591</td>\n",
       "      <td>17,101.15</td>\n",
       "      <td>#271</td>\n",
       "      <td>Illinois</td>\n",
       "      <td>Chicago</td>\n",
       "      <td>316 N Michigan Ave Chicago, IL 60601 US</td>\n",
       "      <td>41.887288</td>\n",
       "      <td>-87.624848</td>\n",
       "      <td>1</td>\n",
       "      <td>Bad</td>\n",
       "    </tr>\n",
       "    <tr>\n",
       "      <th>2</th>\n",
       "      <td>2</td>\n",
       "      <td>60601</td>\n",
       "      <td>27</td>\n",
       "      <td>THEFT</td>\n",
       "      <td>3</td>\n",
       "      <td>41.896569</td>\n",
       "      <td>-87.636063</td>\n",
       "      <td>False</td>\n",
       "      <td>False</td>\n",
       "      <td>5,591</td>\n",
       "      <td>17,101.15</td>\n",
       "      <td>#271</td>\n",
       "      <td>Illinois</td>\n",
       "      <td>Chicago</td>\n",
       "      <td>316 N Michigan Ave Chicago, IL 60601 US</td>\n",
       "      <td>41.887288</td>\n",
       "      <td>-87.624848</td>\n",
       "      <td>1</td>\n",
       "      <td>Bad</td>\n",
       "    </tr>\n",
       "    <tr>\n",
       "      <th>3</th>\n",
       "      <td>3</td>\n",
       "      <td>60601</td>\n",
       "      <td>27</td>\n",
       "      <td>SEX OFFENSE</td>\n",
       "      <td>3</td>\n",
       "      <td>41.883937</td>\n",
       "      <td>-87.683368</td>\n",
       "      <td>True</td>\n",
       "      <td>False</td>\n",
       "      <td>5,591</td>\n",
       "      <td>17,101.15</td>\n",
       "      <td>#271</td>\n",
       "      <td>Illinois</td>\n",
       "      <td>Chicago</td>\n",
       "      <td>316 N Michigan Ave Chicago, IL 60601 US</td>\n",
       "      <td>41.887288</td>\n",
       "      <td>-87.624848</td>\n",
       "      <td>1</td>\n",
       "      <td>Bad</td>\n",
       "    </tr>\n",
       "    <tr>\n",
       "      <th>4</th>\n",
       "      <td>4</td>\n",
       "      <td>60601</td>\n",
       "      <td>27</td>\n",
       "      <td>NARCOTICS</td>\n",
       "      <td>4</td>\n",
       "      <td>41.892856</td>\n",
       "      <td>-87.710137</td>\n",
       "      <td>True</td>\n",
       "      <td>False</td>\n",
       "      <td>5,591</td>\n",
       "      <td>17,101.15</td>\n",
       "      <td>#271</td>\n",
       "      <td>Illinois</td>\n",
       "      <td>Chicago</td>\n",
       "      <td>316 N Michigan Ave Chicago, IL 60601 US</td>\n",
       "      <td>41.887288</td>\n",
       "      <td>-87.624848</td>\n",
       "      <td>1</td>\n",
       "      <td>Bad</td>\n",
       "    </tr>\n",
       "  </tbody>\n",
       "</table>\n",
       "</div>"
      ],
      "text/plain": [
       "   Unnamed: 0    ZIP  Ward     Primary_Type  rankings   Latitude  Longitude  \\\n",
       "0           0  60601    27            THEFT         3        NaN        NaN   \n",
       "1           1  60601    27  CRIMINAL DAMAGE         4  41.883932 -87.679964   \n",
       "2           2  60601    27            THEFT         3  41.896569 -87.636063   \n",
       "3           3  60601    27      SEX OFFENSE         3  41.883937 -87.683368   \n",
       "4           4  60601    27        NARCOTICS         4  41.892856 -87.710137   \n",
       "\n",
       "   Arrest  Domestic Population People/Sq.Mile National_Rank     state  \\\n",
       "0   False     False      5,591      17,101.15          #271  Illinois   \n",
       "1   False     False      5,591      17,101.15          #271  Illinois   \n",
       "2   False     False      5,591      17,101.15          #271  Illinois   \n",
       "3    True     False      5,591      17,101.15          #271  Illinois   \n",
       "4    True     False      5,591      17,101.15          #271  Illinois   \n",
       "\n",
       "  location                                  address  chip_latitude  \\\n",
       "0  Chicago  316 N Michigan Ave Chicago, IL 60601 US      41.887288   \n",
       "1  Chicago  316 N Michigan Ave Chicago, IL 60601 US      41.887288   \n",
       "2  Chicago  316 N Michigan Ave Chicago, IL 60601 US      41.887288   \n",
       "3  Chicago  316 N Michigan Ave Chicago, IL 60601 US      41.887288   \n",
       "4  Chicago  316 N Michigan Ave Chicago, IL 60601 US      41.887288   \n",
       "\n",
       "   chip_longitude  chipotle Safety  \n",
       "0      -87.624848         1    Bad  \n",
       "1      -87.624848         1    Bad  \n",
       "2      -87.624848         1    Bad  \n",
       "3      -87.624848         1    Bad  \n",
       "4      -87.624848         1    Bad  "
      ]
     },
     "execution_count": 4,
     "metadata": {},
     "output_type": "execute_result"
    }
   ],
   "source": [
    "cleaned_crime = pd.read_csv('Resources/crime_chip_for_model.csv')\n",
    "cleaned_crime.head()"
   ]
  },
  {
   "cell_type": "code",
   "execution_count": 5,
   "id": "bdb5032f",
   "metadata": {},
   "outputs": [
    {
     "ename": "KeyError",
     "evalue": "'event_type'",
     "output_type": "error",
     "traceback": [
      "\u001b[1;31m---------------------------------------------------------------------------\u001b[0m",
      "\u001b[1;31mKeyError\u001b[0m                                  Traceback (most recent call last)",
      "\u001b[1;32m~\\AppData\\Local\\Temp\\ipykernel_17020\\2064379952.py\u001b[0m in \u001b[0;36m<module>\u001b[1;34m\u001b[0m\n\u001b[0;32m     10\u001b[0m     \u001b[1;32mreturn\u001b[0m \u001b[1;33m(\u001b[0m\u001b[0mweighted_sample\u001b[0m\u001b[1;33m)\u001b[0m\u001b[1;33m\u001b[0m\u001b[1;33m\u001b[0m\u001b[0m\n\u001b[0;32m     11\u001b[0m \u001b[1;33m\u001b[0m\u001b[0m\n\u001b[1;32m---> 12\u001b[1;33m \u001b[0msample\u001b[0m \u001b[1;33m=\u001b[0m \u001b[0mget_weighted_sample\u001b[0m\u001b[1;33m(\u001b[0m\u001b[0mcleaned_crime\u001b[0m\u001b[1;33m,\u001b[0m\u001b[1;36m30000\u001b[0m\u001b[1;33m)\u001b[0m\u001b[1;33m\u001b[0m\u001b[1;33m\u001b[0m\u001b[0m\n\u001b[0m\u001b[0;32m     13\u001b[0m \u001b[0msample\u001b[0m\u001b[1;33m\u001b[0m\u001b[1;33m\u001b[0m\u001b[0m\n",
      "\u001b[1;32m~\\AppData\\Local\\Temp\\ipykernel_17020\\2064379952.py\u001b[0m in \u001b[0;36mget_weighted_sample\u001b[1;34m(df, n)\u001b[0m\n\u001b[0;32m      6\u001b[0m         \u001b[1;31m# we are grouping by the target class we use for the proportions\u001b[0m\u001b[1;33m\u001b[0m\u001b[1;33m\u001b[0m\u001b[1;33m\u001b[0m\u001b[0m\n\u001b[0;32m      7\u001b[0m \u001b[1;33m\u001b[0m\u001b[0m\n\u001b[1;32m----> 8\u001b[1;33m     \u001b[0mweighted_sample\u001b[0m \u001b[1;33m=\u001b[0m \u001b[0mdf\u001b[0m\u001b[1;33m.\u001b[0m\u001b[0mgroupby\u001b[0m\u001b[1;33m(\u001b[0m\u001b[1;34m'event_type'\u001b[0m\u001b[1;33m)\u001b[0m\u001b[1;33m.\u001b[0m\u001b[0mapply\u001b[0m\u001b[1;33m(\u001b[0m\u001b[0mget_class_prob\u001b[0m\u001b[1;33m)\u001b[0m\u001b[1;33m\u001b[0m\u001b[1;33m\u001b[0m\u001b[0m\n\u001b[0m\u001b[0;32m      9\u001b[0m     \u001b[0mprint\u001b[0m\u001b[1;33m(\u001b[0m\u001b[0mweighted_sample\u001b[0m\u001b[1;33m[\u001b[0m\u001b[1;34m\"event_type\"\u001b[0m\u001b[1;33m]\u001b[0m\u001b[1;33m.\u001b[0m\u001b[0mvalue_counts\u001b[0m\u001b[1;33m(\u001b[0m\u001b[1;33m)\u001b[0m\u001b[1;33m)\u001b[0m\u001b[1;33m\u001b[0m\u001b[1;33m\u001b[0m\u001b[0m\n\u001b[0;32m     10\u001b[0m     \u001b[1;32mreturn\u001b[0m \u001b[1;33m(\u001b[0m\u001b[0mweighted_sample\u001b[0m\u001b[1;33m)\u001b[0m\u001b[1;33m\u001b[0m\u001b[1;33m\u001b[0m\u001b[0m\n",
      "\u001b[1;32m~\\anaconda3\\envs\\mlenv\\lib\\site-packages\\pandas\\core\\frame.py\u001b[0m in \u001b[0;36mgroupby\u001b[1;34m(self, by, axis, level, as_index, sort, group_keys, squeeze, observed, dropna)\u001b[0m\n\u001b[0;32m   7639\u001b[0m             \u001b[0msqueeze\u001b[0m\u001b[1;33m=\u001b[0m\u001b[0msqueeze\u001b[0m\u001b[1;33m,\u001b[0m  \u001b[1;31m# type: ignore[arg-type]\u001b[0m\u001b[1;33m\u001b[0m\u001b[1;33m\u001b[0m\u001b[0m\n\u001b[0;32m   7640\u001b[0m             \u001b[0mobserved\u001b[0m\u001b[1;33m=\u001b[0m\u001b[0mobserved\u001b[0m\u001b[1;33m,\u001b[0m\u001b[1;33m\u001b[0m\u001b[1;33m\u001b[0m\u001b[0m\n\u001b[1;32m-> 7641\u001b[1;33m             \u001b[0mdropna\u001b[0m\u001b[1;33m=\u001b[0m\u001b[0mdropna\u001b[0m\u001b[1;33m,\u001b[0m\u001b[1;33m\u001b[0m\u001b[1;33m\u001b[0m\u001b[0m\n\u001b[0m\u001b[0;32m   7642\u001b[0m         )\n\u001b[0;32m   7643\u001b[0m \u001b[1;33m\u001b[0m\u001b[0m\n",
      "\u001b[1;32m~\\anaconda3\\envs\\mlenv\\lib\\site-packages\\pandas\\core\\groupby\\groupby.py\u001b[0m in \u001b[0;36m__init__\u001b[1;34m(self, obj, keys, axis, level, grouper, exclusions, selection, as_index, sort, group_keys, squeeze, observed, mutated, dropna)\u001b[0m\n\u001b[0;32m    895\u001b[0m                 \u001b[0mobserved\u001b[0m\u001b[1;33m=\u001b[0m\u001b[0mobserved\u001b[0m\u001b[1;33m,\u001b[0m\u001b[1;33m\u001b[0m\u001b[1;33m\u001b[0m\u001b[0m\n\u001b[0;32m    896\u001b[0m                 \u001b[0mmutated\u001b[0m\u001b[1;33m=\u001b[0m\u001b[0mself\u001b[0m\u001b[1;33m.\u001b[0m\u001b[0mmutated\u001b[0m\u001b[1;33m,\u001b[0m\u001b[1;33m\u001b[0m\u001b[1;33m\u001b[0m\u001b[0m\n\u001b[1;32m--> 897\u001b[1;33m                 \u001b[0mdropna\u001b[0m\u001b[1;33m=\u001b[0m\u001b[0mself\u001b[0m\u001b[1;33m.\u001b[0m\u001b[0mdropna\u001b[0m\u001b[1;33m,\u001b[0m\u001b[1;33m\u001b[0m\u001b[1;33m\u001b[0m\u001b[0m\n\u001b[0m\u001b[0;32m    898\u001b[0m             )\n\u001b[0;32m    899\u001b[0m \u001b[1;33m\u001b[0m\u001b[0m\n",
      "\u001b[1;32m~\\anaconda3\\envs\\mlenv\\lib\\site-packages\\pandas\\core\\groupby\\grouper.py\u001b[0m in \u001b[0;36mget_grouper\u001b[1;34m(obj, key, axis, level, sort, observed, mutated, validate, dropna)\u001b[0m\n\u001b[0;32m    860\u001b[0m                 \u001b[0min_axis\u001b[0m\u001b[1;33m,\u001b[0m \u001b[0mlevel\u001b[0m\u001b[1;33m,\u001b[0m \u001b[0mgpr\u001b[0m \u001b[1;33m=\u001b[0m \u001b[1;32mFalse\u001b[0m\u001b[1;33m,\u001b[0m \u001b[0mgpr\u001b[0m\u001b[1;33m,\u001b[0m \u001b[1;32mNone\u001b[0m\u001b[1;33m\u001b[0m\u001b[1;33m\u001b[0m\u001b[0m\n\u001b[0;32m    861\u001b[0m             \u001b[1;32melse\u001b[0m\u001b[1;33m:\u001b[0m\u001b[1;33m\u001b[0m\u001b[1;33m\u001b[0m\u001b[0m\n\u001b[1;32m--> 862\u001b[1;33m                 \u001b[1;32mraise\u001b[0m \u001b[0mKeyError\u001b[0m\u001b[1;33m(\u001b[0m\u001b[0mgpr\u001b[0m\u001b[1;33m)\u001b[0m\u001b[1;33m\u001b[0m\u001b[1;33m\u001b[0m\u001b[0m\n\u001b[0m\u001b[0;32m    863\u001b[0m         \u001b[1;32melif\u001b[0m \u001b[0misinstance\u001b[0m\u001b[1;33m(\u001b[0m\u001b[0mgpr\u001b[0m\u001b[1;33m,\u001b[0m \u001b[0mGrouper\u001b[0m\u001b[1;33m)\u001b[0m \u001b[1;32mand\u001b[0m \u001b[0mgpr\u001b[0m\u001b[1;33m.\u001b[0m\u001b[0mkey\u001b[0m \u001b[1;32mis\u001b[0m \u001b[1;32mnot\u001b[0m \u001b[1;32mNone\u001b[0m\u001b[1;33m:\u001b[0m\u001b[1;33m\u001b[0m\u001b[1;33m\u001b[0m\u001b[0m\n\u001b[0;32m    864\u001b[0m             \u001b[1;31m# Add key to exclusions\u001b[0m\u001b[1;33m\u001b[0m\u001b[1;33m\u001b[0m\u001b[1;33m\u001b[0m\u001b[0m\n",
      "\u001b[1;31mKeyError\u001b[0m: 'event_type'"
     ]
    }
   ],
   "source": [
    "def get_weighted_sample(df,n):\n",
    "    def get_class_prob(x):\n",
    "        weight_x = int(np.rint(n * len(x[x.click != 0]) / len(df[df.click != 0])))\n",
    "        sampled_x = x.sample(weight_x).reset_index(drop=True)\n",
    "        return (sampled_x)\n",
    "        # we are grouping by the target class we use for the proportions\n",
    "\n",
    "    weighted_sample = df.groupby('event_type').apply(get_class_prob)\n",
    "    print(weighted_sample[\"event_type\"].value_counts())\n",
    "    return (weighted_sample)\n",
    "\n",
    "sample = get_weighted_sample(cleaned_crime,30000)\n",
    "sample"
   ]
  },
  {
   "cell_type": "code",
   "execution_count": 161,
   "id": "08fae94d",
   "metadata": {},
   "outputs": [
    {
     "data": {
      "text/html": [
       "<div>\n",
       "<style scoped>\n",
       "    .dataframe tbody tr th:only-of-type {\n",
       "        vertical-align: middle;\n",
       "    }\n",
       "\n",
       "    .dataframe tbody tr th {\n",
       "        vertical-align: top;\n",
       "    }\n",
       "\n",
       "    .dataframe thead th {\n",
       "        text-align: right;\n",
       "    }\n",
       "</style>\n",
       "<table border=\"1\" class=\"dataframe\">\n",
       "  <thead>\n",
       "    <tr style=\"text-align: right;\">\n",
       "      <th></th>\n",
       "      <th>ZIP</th>\n",
       "      <th>Ward</th>\n",
       "      <th>Primary_Type</th>\n",
       "      <th>rankings</th>\n",
       "      <th>Latitude</th>\n",
       "      <th>Longitude</th>\n",
       "      <th>Arrest</th>\n",
       "      <th>Domestic</th>\n",
       "      <th>Population</th>\n",
       "      <th>People/Sq.Mile</th>\n",
       "      <th>National_Rank</th>\n",
       "      <th>chipotle</th>\n",
       "      <th>Safety</th>\n",
       "    </tr>\n",
       "  </thead>\n",
       "  <tbody>\n",
       "    <tr>\n",
       "      <th>0</th>\n",
       "      <td>60602</td>\n",
       "      <td>26</td>\n",
       "      <td>BURGLARY</td>\n",
       "      <td>6</td>\n",
       "      <td>41.909784</td>\n",
       "      <td>-87.734127</td>\n",
       "      <td>False</td>\n",
       "      <td>False</td>\n",
       "      <td>70</td>\n",
       "      <td>810.58</td>\n",
       "      <td>6855</td>\n",
       "      <td>1</td>\n",
       "      <td>Bad</td>\n",
       "    </tr>\n",
       "    <tr>\n",
       "      <th>1</th>\n",
       "      <td>60657</td>\n",
       "      <td>7</td>\n",
       "      <td>CRIMINAL DAMAGE</td>\n",
       "      <td>4</td>\n",
       "      <td>41.763647</td>\n",
       "      <td>-87.586265</td>\n",
       "      <td>False</td>\n",
       "      <td>False</td>\n",
       "      <td>66789</td>\n",
       "      <td>31204.02</td>\n",
       "      <td>112</td>\n",
       "      <td>1</td>\n",
       "      <td>Bad</td>\n",
       "    </tr>\n",
       "    <tr>\n",
       "      <th>2</th>\n",
       "      <td>60622</td>\n",
       "      <td>36</td>\n",
       "      <td>DECEPTIVE PRACTICE</td>\n",
       "      <td>3</td>\n",
       "      <td>41.919490</td>\n",
       "      <td>-87.759691</td>\n",
       "      <td>False</td>\n",
       "      <td>False</td>\n",
       "      <td>76015</td>\n",
       "      <td>17489.00</td>\n",
       "      <td>258</td>\n",
       "      <td>0</td>\n",
       "      <td>Bad</td>\n",
       "    </tr>\n",
       "    <tr>\n",
       "      <th>3</th>\n",
       "      <td>60659</td>\n",
       "      <td>50</td>\n",
       "      <td>OFFENSE INVOLVING CHILDREN</td>\n",
       "      <td>3</td>\n",
       "      <td>41.994828</td>\n",
       "      <td>-87.699545</td>\n",
       "      <td>False</td>\n",
       "      <td>True</td>\n",
       "      <td>39155</td>\n",
       "      <td>19859.02</td>\n",
       "      <td>213</td>\n",
       "      <td>1</td>\n",
       "      <td>Bad</td>\n",
       "    </tr>\n",
       "    <tr>\n",
       "      <th>4</th>\n",
       "      <td>60602</td>\n",
       "      <td>26</td>\n",
       "      <td>BURGLARY</td>\n",
       "      <td>6</td>\n",
       "      <td>41.916262</td>\n",
       "      <td>-87.716739</td>\n",
       "      <td>False</td>\n",
       "      <td>False</td>\n",
       "      <td>70</td>\n",
       "      <td>810.58</td>\n",
       "      <td>6855</td>\n",
       "      <td>1</td>\n",
       "      <td>Bad</td>\n",
       "    </tr>\n",
       "  </tbody>\n",
       "</table>\n",
       "</div>"
      ],
      "text/plain": [
       "     ZIP  Ward                Primary_Type  rankings   Latitude  Longitude  \\\n",
       "0  60602    26                    BURGLARY         6  41.909784 -87.734127   \n",
       "1  60657     7             CRIMINAL DAMAGE         4  41.763647 -87.586265   \n",
       "2  60622    36          DECEPTIVE PRACTICE         3  41.919490 -87.759691   \n",
       "3  60659    50  OFFENSE INVOLVING CHILDREN         3  41.994828 -87.699545   \n",
       "4  60602    26                    BURGLARY         6  41.916262 -87.716739   \n",
       "\n",
       "   Arrest  Domestic  Population  People/Sq.Mile  National_Rank  chipotle  \\\n",
       "0   False     False          70          810.58           6855         1   \n",
       "1   False     False       66789        31204.02            112         1   \n",
       "2   False     False       76015        17489.00            258         0   \n",
       "3   False      True       39155        19859.02            213         1   \n",
       "4   False     False          70          810.58           6855         1   \n",
       "\n",
       "  Safety  \n",
       "0    Bad  \n",
       "1    Bad  \n",
       "2    Bad  \n",
       "3    Bad  \n",
       "4    Bad  "
      ]
     },
     "execution_count": 161,
     "metadata": {},
     "output_type": "execute_result"
    }
   ],
   "source": [
    "cleaned_crime = cleaned_crime.drop(columns=['Unnamed: 0', 'state', 'location', 'address' ,'chip_latitude', 'chip_longitude'])\n",
    "cleaned_crime = cleaned_crime.dropna()\n",
    "cleaned_crime['National_Rank'] = cleaned_crime['National_Rank'].str.replace('#', '')\n",
    "cleaned_crime['National_Rank'] = cleaned_crime['National_Rank'].str.replace(',', '')\n",
    "cleaned_crime['National_Rank'] = cleaned_crime['National_Rank'].astype('int')\n",
    "cleaned_crime['People/Sq.Mile'] = cleaned_crime['People/Sq.Mile'].str.replace(',', '')\n",
    "cleaned_crime['People/Sq.Mile'] = cleaned_crime['People/Sq.Mile'].astype('float')\n",
    "cleaned_crime['Population'] = cleaned_crime['Population'].str.replace(',', '')\n",
    "cleaned_crime['Population'] = cleaned_crime['Population'].astype('int')\n",
    "sample = cleaned_crime.sample(n=30000)\n",
    "sample = sample.reset_index()\n",
    "sample = sample.drop(columns=['index'])\n",
    "sample.head()"
   ]
  },
  {
   "cell_type": "code",
   "execution_count": 162,
   "id": "24d173fa",
   "metadata": {},
   "outputs": [],
   "source": [
    "primary_type = sample.Primary_Type.value_counts()"
   ]
  },
  {
   "cell_type": "code",
   "execution_count": 6,
   "id": "21a2be29",
   "metadata": {},
   "outputs": [
    {
     "ename": "NameError",
     "evalue": "name 'primary_type' is not defined",
     "output_type": "error",
     "traceback": [
      "\u001b[1;31m---------------------------------------------------------------------------\u001b[0m",
      "\u001b[1;31mNameError\u001b[0m                                 Traceback (most recent call last)",
      "\u001b[1;32m~\\AppData\\Local\\Temp\\ipykernel_17020\\1629776762.py\u001b[0m in \u001b[0;36m<module>\u001b[1;34m\u001b[0m\n\u001b[0;32m      1\u001b[0m \u001b[1;31m# Determine which values to replace if counts are less than ...?\u001b[0m\u001b[1;33m\u001b[0m\u001b[1;33m\u001b[0m\u001b[1;33m\u001b[0m\u001b[0m\n\u001b[1;32m----> 2\u001b[1;33m \u001b[0mreplace_primary\u001b[0m \u001b[1;33m=\u001b[0m \u001b[0mlist\u001b[0m\u001b[1;33m(\u001b[0m\u001b[0mprimary_type\u001b[0m\u001b[1;33m[\u001b[0m\u001b[0mprimary_type\u001b[0m \u001b[1;33m<\u001b[0m \u001b[1;36m1000\u001b[0m\u001b[1;33m]\u001b[0m\u001b[1;33m.\u001b[0m\u001b[0mindex\u001b[0m\u001b[1;33m)\u001b[0m\u001b[1;33m\u001b[0m\u001b[1;33m\u001b[0m\u001b[0m\n\u001b[0m\u001b[0;32m      3\u001b[0m \u001b[1;33m\u001b[0m\u001b[0m\n\u001b[0;32m      4\u001b[0m \u001b[1;31m# Replace in dataframe\u001b[0m\u001b[1;33m\u001b[0m\u001b[1;33m\u001b[0m\u001b[1;33m\u001b[0m\u001b[0m\n\u001b[0;32m      5\u001b[0m \u001b[1;32mfor\u001b[0m \u001b[0mprimary\u001b[0m \u001b[1;32min\u001b[0m \u001b[0mreplace_primary\u001b[0m\u001b[1;33m:\u001b[0m\u001b[1;33m\u001b[0m\u001b[1;33m\u001b[0m\u001b[0m\n",
      "\u001b[1;31mNameError\u001b[0m: name 'primary_type' is not defined"
     ]
    }
   ],
   "source": [
    "# Determine which values to replace if counts are less than ...?\n",
    "replace_primary = list(primary_type[primary_type < 1000].index)\n",
    "\n",
    "# Replace in dataframe\n",
    "for primary in replace_primary:\n",
    "    sample.Primary_Type = sample.Primary_Type.replace(primary,\"OTHER OFFENSE\")\n",
    "    \n",
    "# Check to make sure binning was successful\n",
    "sample.Primary_Type.value_counts()"
   ]
  },
  {
   "cell_type": "code",
   "execution_count": 164,
   "id": "17a4b3e2",
   "metadata": {},
   "outputs": [],
   "source": [
    "# Generate our categorical variable lists\n",
    "crime_obj = list(sample.dtypes[sample.dtypes == 'object'].index)"
   ]
  },
  {
   "cell_type": "code",
   "execution_count": 165,
   "id": "1c609de1",
   "metadata": {},
   "outputs": [
    {
     "data": {
      "text/html": [
       "<div>\n",
       "<style scoped>\n",
       "    .dataframe tbody tr th:only-of-type {\n",
       "        vertical-align: middle;\n",
       "    }\n",
       "\n",
       "    .dataframe tbody tr th {\n",
       "        vertical-align: top;\n",
       "    }\n",
       "\n",
       "    .dataframe thead th {\n",
       "        text-align: right;\n",
       "    }\n",
       "</style>\n",
       "<table border=\"1\" class=\"dataframe\">\n",
       "  <thead>\n",
       "    <tr style=\"text-align: right;\">\n",
       "      <th></th>\n",
       "      <th>Primary_Type_ARSON</th>\n",
       "      <th>Primary_Type_ASSAULT</th>\n",
       "      <th>Primary_Type_BATTERY</th>\n",
       "      <th>Primary_Type_BURGLARY</th>\n",
       "      <th>Primary_Type_CONCEALED CARRY LICENSE VIOLATION</th>\n",
       "      <th>Primary_Type_CRIM SEXUAL ASSAULT</th>\n",
       "      <th>Primary_Type_CRIMINAL DAMAGE</th>\n",
       "      <th>Primary_Type_CRIMINAL SEXUAL ASSAULT</th>\n",
       "      <th>Primary_Type_CRIMINAL TRESPASS</th>\n",
       "      <th>Primary_Type_DECEPTIVE PRACTICE</th>\n",
       "      <th>...</th>\n",
       "      <th>Primary_Type_PROSTITUTION</th>\n",
       "      <th>Primary_Type_PUBLIC INDECENCY</th>\n",
       "      <th>Primary_Type_PUBLIC PEACE VIOLATION</th>\n",
       "      <th>Primary_Type_ROBBERY</th>\n",
       "      <th>Primary_Type_SEX OFFENSE</th>\n",
       "      <th>Primary_Type_STALKING</th>\n",
       "      <th>Primary_Type_THEFT</th>\n",
       "      <th>Primary_Type_WEAPONS VIOLATION</th>\n",
       "      <th>Safety_Bad</th>\n",
       "      <th>Safety_Good</th>\n",
       "    </tr>\n",
       "  </thead>\n",
       "  <tbody>\n",
       "    <tr>\n",
       "      <th>0</th>\n",
       "      <td>0.0</td>\n",
       "      <td>0.0</td>\n",
       "      <td>0.0</td>\n",
       "      <td>0.0</td>\n",
       "      <td>0.0</td>\n",
       "      <td>0.0</td>\n",
       "      <td>1.0</td>\n",
       "      <td>0.0</td>\n",
       "      <td>0.0</td>\n",
       "      <td>0.0</td>\n",
       "      <td>...</td>\n",
       "      <td>0.0</td>\n",
       "      <td>0.0</td>\n",
       "      <td>0.0</td>\n",
       "      <td>0.0</td>\n",
       "      <td>0.0</td>\n",
       "      <td>0.0</td>\n",
       "      <td>0.0</td>\n",
       "      <td>0.0</td>\n",
       "      <td>1.0</td>\n",
       "      <td>0.0</td>\n",
       "    </tr>\n",
       "    <tr>\n",
       "      <th>1</th>\n",
       "      <td>0.0</td>\n",
       "      <td>0.0</td>\n",
       "      <td>0.0</td>\n",
       "      <td>0.0</td>\n",
       "      <td>0.0</td>\n",
       "      <td>0.0</td>\n",
       "      <td>0.0</td>\n",
       "      <td>0.0</td>\n",
       "      <td>0.0</td>\n",
       "      <td>0.0</td>\n",
       "      <td>...</td>\n",
       "      <td>0.0</td>\n",
       "      <td>0.0</td>\n",
       "      <td>0.0</td>\n",
       "      <td>0.0</td>\n",
       "      <td>0.0</td>\n",
       "      <td>0.0</td>\n",
       "      <td>1.0</td>\n",
       "      <td>0.0</td>\n",
       "      <td>1.0</td>\n",
       "      <td>0.0</td>\n",
       "    </tr>\n",
       "    <tr>\n",
       "      <th>2</th>\n",
       "      <td>0.0</td>\n",
       "      <td>0.0</td>\n",
       "      <td>0.0</td>\n",
       "      <td>0.0</td>\n",
       "      <td>0.0</td>\n",
       "      <td>0.0</td>\n",
       "      <td>0.0</td>\n",
       "      <td>0.0</td>\n",
       "      <td>0.0</td>\n",
       "      <td>0.0</td>\n",
       "      <td>...</td>\n",
       "      <td>0.0</td>\n",
       "      <td>0.0</td>\n",
       "      <td>0.0</td>\n",
       "      <td>0.0</td>\n",
       "      <td>1.0</td>\n",
       "      <td>0.0</td>\n",
       "      <td>0.0</td>\n",
       "      <td>0.0</td>\n",
       "      <td>1.0</td>\n",
       "      <td>0.0</td>\n",
       "    </tr>\n",
       "    <tr>\n",
       "      <th>3</th>\n",
       "      <td>0.0</td>\n",
       "      <td>0.0</td>\n",
       "      <td>0.0</td>\n",
       "      <td>0.0</td>\n",
       "      <td>0.0</td>\n",
       "      <td>0.0</td>\n",
       "      <td>0.0</td>\n",
       "      <td>0.0</td>\n",
       "      <td>0.0</td>\n",
       "      <td>0.0</td>\n",
       "      <td>...</td>\n",
       "      <td>0.0</td>\n",
       "      <td>0.0</td>\n",
       "      <td>0.0</td>\n",
       "      <td>0.0</td>\n",
       "      <td>0.0</td>\n",
       "      <td>0.0</td>\n",
       "      <td>0.0</td>\n",
       "      <td>0.0</td>\n",
       "      <td>1.0</td>\n",
       "      <td>0.0</td>\n",
       "    </tr>\n",
       "    <tr>\n",
       "      <th>4</th>\n",
       "      <td>0.0</td>\n",
       "      <td>0.0</td>\n",
       "      <td>0.0</td>\n",
       "      <td>0.0</td>\n",
       "      <td>0.0</td>\n",
       "      <td>0.0</td>\n",
       "      <td>0.0</td>\n",
       "      <td>0.0</td>\n",
       "      <td>0.0</td>\n",
       "      <td>0.0</td>\n",
       "      <td>...</td>\n",
       "      <td>0.0</td>\n",
       "      <td>0.0</td>\n",
       "      <td>0.0</td>\n",
       "      <td>0.0</td>\n",
       "      <td>0.0</td>\n",
       "      <td>0.0</td>\n",
       "      <td>0.0</td>\n",
       "      <td>0.0</td>\n",
       "      <td>1.0</td>\n",
       "      <td>0.0</td>\n",
       "    </tr>\n",
       "  </tbody>\n",
       "</table>\n",
       "<p>5 rows × 33 columns</p>\n",
       "</div>"
      ],
      "text/plain": [
       "   Primary_Type_ARSON  Primary_Type_ASSAULT  Primary_Type_BATTERY  \\\n",
       "0                 0.0                   0.0                   0.0   \n",
       "1                 0.0                   0.0                   0.0   \n",
       "2                 0.0                   0.0                   0.0   \n",
       "3                 0.0                   0.0                   0.0   \n",
       "4                 0.0                   0.0                   0.0   \n",
       "\n",
       "   Primary_Type_BURGLARY  Primary_Type_CONCEALED CARRY LICENSE VIOLATION  \\\n",
       "0                    0.0                                             0.0   \n",
       "1                    0.0                                             0.0   \n",
       "2                    0.0                                             0.0   \n",
       "3                    0.0                                             0.0   \n",
       "4                    0.0                                             0.0   \n",
       "\n",
       "   Primary_Type_CRIM SEXUAL ASSAULT  Primary_Type_CRIMINAL DAMAGE  \\\n",
       "0                               0.0                           1.0   \n",
       "1                               0.0                           0.0   \n",
       "2                               0.0                           0.0   \n",
       "3                               0.0                           0.0   \n",
       "4                               0.0                           0.0   \n",
       "\n",
       "   Primary_Type_CRIMINAL SEXUAL ASSAULT  Primary_Type_CRIMINAL TRESPASS  \\\n",
       "0                                   0.0                             0.0   \n",
       "1                                   0.0                             0.0   \n",
       "2                                   0.0                             0.0   \n",
       "3                                   0.0                             0.0   \n",
       "4                                   0.0                             0.0   \n",
       "\n",
       "   Primary_Type_DECEPTIVE PRACTICE  ...  Primary_Type_PROSTITUTION  \\\n",
       "0                              0.0  ...                        0.0   \n",
       "1                              0.0  ...                        0.0   \n",
       "2                              0.0  ...                        0.0   \n",
       "3                              0.0  ...                        0.0   \n",
       "4                              0.0  ...                        0.0   \n",
       "\n",
       "   Primary_Type_PUBLIC INDECENCY  Primary_Type_PUBLIC PEACE VIOLATION  \\\n",
       "0                            0.0                                  0.0   \n",
       "1                            0.0                                  0.0   \n",
       "2                            0.0                                  0.0   \n",
       "3                            0.0                                  0.0   \n",
       "4                            0.0                                  0.0   \n",
       "\n",
       "   Primary_Type_ROBBERY  Primary_Type_SEX OFFENSE  Primary_Type_STALKING  \\\n",
       "0                   0.0                       0.0                    0.0   \n",
       "1                   0.0                       0.0                    0.0   \n",
       "2                   0.0                       1.0                    0.0   \n",
       "3                   0.0                       0.0                    0.0   \n",
       "4                   0.0                       0.0                    0.0   \n",
       "\n",
       "   Primary_Type_THEFT  Primary_Type_WEAPONS VIOLATION  Safety_Bad  Safety_Good  \n",
       "0                 0.0                             0.0         1.0          0.0  \n",
       "1                 1.0                             0.0         1.0          0.0  \n",
       "2                 0.0                             0.0         1.0          0.0  \n",
       "3                 0.0                             0.0         1.0          0.0  \n",
       "4                 0.0                             0.0         1.0          0.0  \n",
       "\n",
       "[5 rows x 33 columns]"
      ]
     },
     "execution_count": 165,
     "metadata": {},
     "output_type": "execute_result"
    }
   ],
   "source": [
    "# Create a OneHotEncoder instance\n",
    "enc = OneHotEncoder(sparse=False)\n",
    "\n",
    "# Fit and transform the OneHotEncoder using the categorical variable list\n",
    "encode_df = pd.DataFrame(enc.fit_transform(cleaned_crime[crime_obj]))\n",
    "\n",
    "# Add the encoded variable names to the dataframe\n",
    "encode_df.columns = enc.get_feature_names(crime_obj)\n",
    "encode_df.head()"
   ]
  },
  {
   "cell_type": "code",
   "execution_count": 166,
   "id": "c5429b58",
   "metadata": {},
   "outputs": [
    {
     "data": {
      "text/html": [
       "<div>\n",
       "<style scoped>\n",
       "    .dataframe tbody tr th:only-of-type {\n",
       "        vertical-align: middle;\n",
       "    }\n",
       "\n",
       "    .dataframe tbody tr th {\n",
       "        vertical-align: top;\n",
       "    }\n",
       "\n",
       "    .dataframe thead th {\n",
       "        text-align: right;\n",
       "    }\n",
       "</style>\n",
       "<table border=\"1\" class=\"dataframe\">\n",
       "  <thead>\n",
       "    <tr style=\"text-align: right;\">\n",
       "      <th></th>\n",
       "      <th>ZIP</th>\n",
       "      <th>Ward</th>\n",
       "      <th>rankings</th>\n",
       "      <th>Latitude</th>\n",
       "      <th>Longitude</th>\n",
       "      <th>Arrest</th>\n",
       "      <th>Domestic</th>\n",
       "      <th>Population</th>\n",
       "      <th>People/Sq.Mile</th>\n",
       "      <th>National_Rank</th>\n",
       "      <th>...</th>\n",
       "      <th>Primary_Type_PROSTITUTION</th>\n",
       "      <th>Primary_Type_PUBLIC INDECENCY</th>\n",
       "      <th>Primary_Type_PUBLIC PEACE VIOLATION</th>\n",
       "      <th>Primary_Type_ROBBERY</th>\n",
       "      <th>Primary_Type_SEX OFFENSE</th>\n",
       "      <th>Primary_Type_STALKING</th>\n",
       "      <th>Primary_Type_THEFT</th>\n",
       "      <th>Primary_Type_WEAPONS VIOLATION</th>\n",
       "      <th>Safety_Bad</th>\n",
       "      <th>Safety_Good</th>\n",
       "    </tr>\n",
       "  </thead>\n",
       "  <tbody>\n",
       "    <tr>\n",
       "      <th>0</th>\n",
       "      <td>60602</td>\n",
       "      <td>26</td>\n",
       "      <td>6</td>\n",
       "      <td>41.909784</td>\n",
       "      <td>-87.734127</td>\n",
       "      <td>False</td>\n",
       "      <td>False</td>\n",
       "      <td>70</td>\n",
       "      <td>810.58</td>\n",
       "      <td>6855</td>\n",
       "      <td>...</td>\n",
       "      <td>0.0</td>\n",
       "      <td>0.0</td>\n",
       "      <td>0.0</td>\n",
       "      <td>0.0</td>\n",
       "      <td>0.0</td>\n",
       "      <td>0.0</td>\n",
       "      <td>0.0</td>\n",
       "      <td>0.0</td>\n",
       "      <td>1.0</td>\n",
       "      <td>0.0</td>\n",
       "    </tr>\n",
       "    <tr>\n",
       "      <th>1</th>\n",
       "      <td>60657</td>\n",
       "      <td>7</td>\n",
       "      <td>4</td>\n",
       "      <td>41.763647</td>\n",
       "      <td>-87.586265</td>\n",
       "      <td>False</td>\n",
       "      <td>False</td>\n",
       "      <td>66789</td>\n",
       "      <td>31204.02</td>\n",
       "      <td>112</td>\n",
       "      <td>...</td>\n",
       "      <td>0.0</td>\n",
       "      <td>0.0</td>\n",
       "      <td>0.0</td>\n",
       "      <td>0.0</td>\n",
       "      <td>0.0</td>\n",
       "      <td>0.0</td>\n",
       "      <td>1.0</td>\n",
       "      <td>0.0</td>\n",
       "      <td>1.0</td>\n",
       "      <td>0.0</td>\n",
       "    </tr>\n",
       "    <tr>\n",
       "      <th>2</th>\n",
       "      <td>60622</td>\n",
       "      <td>36</td>\n",
       "      <td>3</td>\n",
       "      <td>41.919490</td>\n",
       "      <td>-87.759691</td>\n",
       "      <td>False</td>\n",
       "      <td>False</td>\n",
       "      <td>76015</td>\n",
       "      <td>17489.00</td>\n",
       "      <td>258</td>\n",
       "      <td>...</td>\n",
       "      <td>0.0</td>\n",
       "      <td>0.0</td>\n",
       "      <td>0.0</td>\n",
       "      <td>0.0</td>\n",
       "      <td>1.0</td>\n",
       "      <td>0.0</td>\n",
       "      <td>0.0</td>\n",
       "      <td>0.0</td>\n",
       "      <td>1.0</td>\n",
       "      <td>0.0</td>\n",
       "    </tr>\n",
       "    <tr>\n",
       "      <th>3</th>\n",
       "      <td>60659</td>\n",
       "      <td>50</td>\n",
       "      <td>3</td>\n",
       "      <td>41.994828</td>\n",
       "      <td>-87.699545</td>\n",
       "      <td>False</td>\n",
       "      <td>True</td>\n",
       "      <td>39155</td>\n",
       "      <td>19859.02</td>\n",
       "      <td>213</td>\n",
       "      <td>...</td>\n",
       "      <td>0.0</td>\n",
       "      <td>0.0</td>\n",
       "      <td>0.0</td>\n",
       "      <td>0.0</td>\n",
       "      <td>0.0</td>\n",
       "      <td>0.0</td>\n",
       "      <td>0.0</td>\n",
       "      <td>0.0</td>\n",
       "      <td>1.0</td>\n",
       "      <td>0.0</td>\n",
       "    </tr>\n",
       "    <tr>\n",
       "      <th>4</th>\n",
       "      <td>60602</td>\n",
       "      <td>26</td>\n",
       "      <td>6</td>\n",
       "      <td>41.916262</td>\n",
       "      <td>-87.716739</td>\n",
       "      <td>False</td>\n",
       "      <td>False</td>\n",
       "      <td>70</td>\n",
       "      <td>810.58</td>\n",
       "      <td>6855</td>\n",
       "      <td>...</td>\n",
       "      <td>0.0</td>\n",
       "      <td>0.0</td>\n",
       "      <td>0.0</td>\n",
       "      <td>0.0</td>\n",
       "      <td>0.0</td>\n",
       "      <td>0.0</td>\n",
       "      <td>0.0</td>\n",
       "      <td>0.0</td>\n",
       "      <td>1.0</td>\n",
       "      <td>0.0</td>\n",
       "    </tr>\n",
       "  </tbody>\n",
       "</table>\n",
       "<p>5 rows × 44 columns</p>\n",
       "</div>"
      ],
      "text/plain": [
       "     ZIP  Ward  rankings   Latitude  Longitude  Arrest  Domestic  Population  \\\n",
       "0  60602    26         6  41.909784 -87.734127   False     False          70   \n",
       "1  60657     7         4  41.763647 -87.586265   False     False       66789   \n",
       "2  60622    36         3  41.919490 -87.759691   False     False       76015   \n",
       "3  60659    50         3  41.994828 -87.699545   False      True       39155   \n",
       "4  60602    26         6  41.916262 -87.716739   False     False          70   \n",
       "\n",
       "   People/Sq.Mile  National_Rank  ...  Primary_Type_PROSTITUTION  \\\n",
       "0          810.58           6855  ...                        0.0   \n",
       "1        31204.02            112  ...                        0.0   \n",
       "2        17489.00            258  ...                        0.0   \n",
       "3        19859.02            213  ...                        0.0   \n",
       "4          810.58           6855  ...                        0.0   \n",
       "\n",
       "   Primary_Type_PUBLIC INDECENCY  Primary_Type_PUBLIC PEACE VIOLATION  \\\n",
       "0                            0.0                                  0.0   \n",
       "1                            0.0                                  0.0   \n",
       "2                            0.0                                  0.0   \n",
       "3                            0.0                                  0.0   \n",
       "4                            0.0                                  0.0   \n",
       "\n",
       "   Primary_Type_ROBBERY  Primary_Type_SEX OFFENSE  Primary_Type_STALKING  \\\n",
       "0                   0.0                       0.0                    0.0   \n",
       "1                   0.0                       0.0                    0.0   \n",
       "2                   0.0                       1.0                    0.0   \n",
       "3                   0.0                       0.0                    0.0   \n",
       "4                   0.0                       0.0                    0.0   \n",
       "\n",
       "   Primary_Type_THEFT  Primary_Type_WEAPONS VIOLATION  Safety_Bad  Safety_Good  \n",
       "0                 0.0                             0.0         1.0          0.0  \n",
       "1                 1.0                             0.0         1.0          0.0  \n",
       "2                 0.0                             0.0         1.0          0.0  \n",
       "3                 0.0                             0.0         1.0          0.0  \n",
       "4                 0.0                             0.0         1.0          0.0  \n",
       "\n",
       "[5 rows x 44 columns]"
      ]
     },
     "execution_count": 166,
     "metadata": {},
     "output_type": "execute_result"
    }
   ],
   "source": [
    "# Merge one-hot encoded features and drop the originals\n",
    "sample = sample.merge(encode_df, left_index=True, right_index=True)\n",
    "sample = sample.drop(columns=crime_obj,axis=1)\n",
    "sample.head()"
   ]
  },
  {
   "cell_type": "code",
   "execution_count": 167,
   "id": "519dfa12",
   "metadata": {},
   "outputs": [],
   "source": [
    "# Split our preprocessed data into our features and target arrays\n",
    "X = sample.drop(columns=['chipotle'],axis=1)\n",
    "y = sample['chipotle']\n",
    "\n",
    "# Split the preprocessed data into a training and testing dataset\n",
    "X_train, X_test, y_train, y_test = train_test_split(X, y, random_state=78)"
   ]
  },
  {
   "cell_type": "markdown",
   "id": "d20deb78",
   "metadata": {},
   "source": [
    "# Resampling Techniques"
   ]
  },
  {
   "cell_type": "markdown",
   "id": "68b3bba4",
   "metadata": {},
   "source": [
    "### Naives Random"
   ]
  },
  {
   "cell_type": "code",
   "execution_count": 168,
   "id": "7a3d4813",
   "metadata": {},
   "outputs": [],
   "source": [
    "# Resample the training data with the RandomOversampler\n",
    "from imblearn.over_sampling import RandomOverSampler\n",
    "ros = RandomOverSampler(random_state=1)\n",
    "X_resampled_ros, y_resampled_ros = ros.fit_resample(X_train, y_train)"
   ]
  },
  {
   "cell_type": "code",
   "execution_count": 169,
   "id": "eeab1be5",
   "metadata": {},
   "outputs": [
    {
     "data": {
      "text/plain": [
       "LogisticRegression(random_state=1)"
      ]
     },
     "execution_count": 169,
     "metadata": {},
     "output_type": "execute_result"
    }
   ],
   "source": [
    "# Train the Logistic Regression model using the resampled data\n",
    "from sklearn.linear_model import LogisticRegression\n",
    "model_ros = LogisticRegression(solver='lbfgs', random_state=1)\n",
    "model_ros.fit(X_resampled_ros, y_resampled_ros)"
   ]
  },
  {
   "cell_type": "code",
   "execution_count": 170,
   "id": "e83f7a8a",
   "metadata": {},
   "outputs": [
    {
     "data": {
      "text/plain": [
       "0.616732340356009"
      ]
     },
     "execution_count": 170,
     "metadata": {},
     "output_type": "execute_result"
    }
   ],
   "source": [
    "# Calculated the balanced accuracy score\n",
    "from sklearn.metrics import balanced_accuracy_score\n",
    "y_pred_ros = model_ros.predict(X_test)\n",
    "balanced_accuracy_score(y_test, y_pred_ros)"
   ]
  },
  {
   "cell_type": "code",
   "execution_count": 171,
   "id": "69558368",
   "metadata": {},
   "outputs": [
    {
     "data": {
      "text/plain": [
       "array([[1926,  920],\n",
       "       [2063, 2591]], dtype=int64)"
      ]
     },
     "execution_count": 171,
     "metadata": {},
     "output_type": "execute_result"
    }
   ],
   "source": [
    "# Display the confusion matrix\n",
    "from sklearn.metrics import confusion_matrix\n",
    "confusion_matrix(y_test, y_pred_ros)"
   ]
  },
  {
   "cell_type": "code",
   "execution_count": 172,
   "id": "55e1c41c",
   "metadata": {},
   "outputs": [
    {
     "name": "stdout",
     "output_type": "stream",
     "text": [
      "                   pre       rec       spe        f1       geo       iba       sup\n",
      "\n",
      "          0       0.48      0.68      0.56      0.56      0.61      0.38      2846\n",
      "          1       0.74      0.56      0.68      0.63      0.61      0.37      4654\n",
      "\n",
      "avg / total       0.64      0.60      0.63      0.61      0.61      0.38      7500\n",
      "\n"
     ]
    }
   ],
   "source": [
    "# Print the imbalanced classification report\n",
    "from imblearn.metrics import classification_report_imbalanced\n",
    "print(classification_report_imbalanced(y_test, y_pred_ros))"
   ]
  },
  {
   "cell_type": "markdown",
   "id": "bd9e6e0e",
   "metadata": {},
   "source": [
    "### SMOTE"
   ]
  },
  {
   "cell_type": "code",
   "execution_count": 173,
   "id": "486c463c",
   "metadata": {},
   "outputs": [],
   "source": [
    "# Resample the training data with SMOTE\n",
    "from imblearn.over_sampling import SMOTE\n",
    "smote = SMOTE(random_state=1, sampling_strategy='auto')\n",
    "X_resampled_smote, y_resampled_smote = smote.fit_resample(X_train, y_train)"
   ]
  },
  {
   "cell_type": "code",
   "execution_count": 174,
   "id": "2562cf25",
   "metadata": {},
   "outputs": [
    {
     "data": {
      "text/plain": [
       "LogisticRegression(random_state=1)"
      ]
     },
     "execution_count": 174,
     "metadata": {},
     "output_type": "execute_result"
    }
   ],
   "source": [
    "# Train the Logistic Regression model using the resampled data\n",
    "model_smote = LogisticRegression(solver='lbfgs', random_state=1)\n",
    "model_smote.fit(X_resampled_smote, y_resampled_smote)"
   ]
  },
  {
   "cell_type": "code",
   "execution_count": 175,
   "id": "81bb050e",
   "metadata": {},
   "outputs": [
    {
     "data": {
      "text/plain": [
       "0.6544487834311443"
      ]
     },
     "execution_count": 175,
     "metadata": {},
     "output_type": "execute_result"
    }
   ],
   "source": [
    "# Calculated the balanced accuracy score\n",
    "y_pred_smote = model_smote.predict(X_test)\n",
    "balanced_accuracy_score(y_test, y_pred_smote)"
   ]
  },
  {
   "cell_type": "code",
   "execution_count": 176,
   "id": "39121bc9",
   "metadata": {},
   "outputs": [
    {
     "data": {
      "text/plain": [
       "array([[2285,  561],\n",
       "       [2299, 2355]], dtype=int64)"
      ]
     },
     "execution_count": 176,
     "metadata": {},
     "output_type": "execute_result"
    }
   ],
   "source": [
    "# Display the confusion matrix\n",
    "confusion_matrix(y_test, y_pred_smote)"
   ]
  },
  {
   "cell_type": "code",
   "execution_count": 177,
   "id": "3a418136",
   "metadata": {},
   "outputs": [
    {
     "name": "stdout",
     "output_type": "stream",
     "text": [
      "                   pre       rec       spe        f1       geo       iba       sup\n",
      "\n",
      "          0       0.50      0.80      0.51      0.62      0.64      0.42      2846\n",
      "          1       0.81      0.51      0.80      0.62      0.64      0.39      4654\n",
      "\n",
      "avg / total       0.69      0.62      0.69      0.62      0.64      0.40      7500\n",
      "\n"
     ]
    }
   ],
   "source": [
    "# Print the imbalanced classification report\n",
    "print(classification_report_imbalanced(y_test, y_pred_smote))"
   ]
  },
  {
   "cell_type": "markdown",
   "id": "f17741da",
   "metadata": {},
   "source": [
    "### Cluster Centroids"
   ]
  },
  {
   "cell_type": "code",
   "execution_count": 178,
   "id": "11dbd14d",
   "metadata": {},
   "outputs": [],
   "source": [
    "# Resample the data using the ClusterCentroids resampler\n",
    "# Warning: This is a large dataset, and this step may take some time to complete\n",
    "from imblearn.under_sampling import ClusterCentroids\n",
    "cc = ClusterCentroids(random_state=1)\n",
    "X_resampled_cc, y_resampled_cc = cc.fit_resample(X_train, y_train)"
   ]
  },
  {
   "cell_type": "code",
   "execution_count": 179,
   "id": "92371805",
   "metadata": {},
   "outputs": [
    {
     "data": {
      "text/plain": [
       "LogisticRegression(random_state=1)"
      ]
     },
     "execution_count": 179,
     "metadata": {},
     "output_type": "execute_result"
    }
   ],
   "source": [
    "# Train the Logistic Regression model using the resampled data\n",
    "model_cc = LogisticRegression(solver='lbfgs', random_state=1)\n",
    "model_cc.fit(X_resampled_cc, y_resampled_cc)"
   ]
  },
  {
   "cell_type": "code",
   "execution_count": 180,
   "id": "d328b12f",
   "metadata": {},
   "outputs": [
    {
     "data": {
      "text/plain": [
       "0.6048111161678376"
      ]
     },
     "execution_count": 180,
     "metadata": {},
     "output_type": "execute_result"
    }
   ],
   "source": [
    "# Calculated the balanced accuracy score\n",
    "y_pred_cc = model_cc.predict(X_test)\n",
    "balanced_accuracy_score(y_test, y_pred_cc)"
   ]
  },
  {
   "cell_type": "code",
   "execution_count": 181,
   "id": "b0289439",
   "metadata": {},
   "outputs": [
    {
     "data": {
      "text/plain": [
       "array([[1808, 1038],\n",
       "       [1981, 2673]], dtype=int64)"
      ]
     },
     "execution_count": 181,
     "metadata": {},
     "output_type": "execute_result"
    }
   ],
   "source": [
    "# Display the confusion matrix\n",
    "confusion_matrix(y_test, y_pred_cc)"
   ]
  },
  {
   "cell_type": "code",
   "execution_count": 182,
   "id": "c95795f9",
   "metadata": {},
   "outputs": [
    {
     "name": "stdout",
     "output_type": "stream",
     "text": [
      "                   pre       rec       spe        f1       geo       iba       sup\n",
      "\n",
      "          0       0.48      0.64      0.57      0.54      0.60      0.37      2846\n",
      "          1       0.72      0.57      0.64      0.64      0.60      0.36      4654\n",
      "\n",
      "avg / total       0.63      0.60      0.61      0.60      0.60      0.36      7500\n",
      "\n"
     ]
    }
   ],
   "source": [
    "# Print the imbalanced classification report\n",
    "print(classification_report_imbalanced(y_test, y_pred_cc))"
   ]
  },
  {
   "cell_type": "markdown",
   "id": "b38444f8",
   "metadata": {},
   "source": [
    "### Combination (Over and Under) Sampling"
   ]
  },
  {
   "cell_type": "code",
   "execution_count": 183,
   "id": "79b853d8",
   "metadata": {},
   "outputs": [],
   "source": [
    "# Resample the training data with SMOTEENN\n",
    "# Warning: This is a large dataset, and this step may take some time to complete\n",
    "# YOUR CODE HERE\n",
    "from imblearn.combine import SMOTEENN\n",
    "smoteenn = SMOTEENN(random_state=0)\n",
    "X_resampled_smoteenn, y_resampled_smoteenn = smoteenn.fit_resample(X, y)"
   ]
  },
  {
   "cell_type": "code",
   "execution_count": 184,
   "id": "c5377b6a",
   "metadata": {},
   "outputs": [
    {
     "data": {
      "text/plain": [
       "LogisticRegression(random_state=1)"
      ]
     },
     "execution_count": 184,
     "metadata": {},
     "output_type": "execute_result"
    }
   ],
   "source": [
    "# Train the Logistic Regression model using the resampled data\n",
    "model_smoteenn = LogisticRegression(solver='lbfgs', random_state=1)\n",
    "model_smoteenn.fit(X_resampled_smoteenn, y_resampled_smoteenn)"
   ]
  },
  {
   "cell_type": "code",
   "execution_count": 185,
   "id": "a1785d6a",
   "metadata": {},
   "outputs": [
    {
     "data": {
      "text/plain": [
       "0.6804479239554244"
      ]
     },
     "execution_count": 185,
     "metadata": {},
     "output_type": "execute_result"
    }
   ],
   "source": [
    "# Calculated the balanced accuracy score\n",
    "y_pred_smoteenn = model_smoteenn.predict(X_test)\n",
    "balanced_accuracy_score(y_test, y_pred_smoteenn)"
   ]
  },
  {
   "cell_type": "code",
   "execution_count": 186,
   "id": "d76285e7",
   "metadata": {},
   "outputs": [
    {
     "data": {
      "text/plain": [
       "array([[2285,  561],\n",
       "       [2057, 2597]], dtype=int64)"
      ]
     },
     "execution_count": 186,
     "metadata": {},
     "output_type": "execute_result"
    }
   ],
   "source": [
    "# Display the confusion matrix\n",
    "confusion_matrix(y_test, y_pred_smoteenn)"
   ]
  },
  {
   "cell_type": "code",
   "execution_count": 187,
   "id": "4fbce862",
   "metadata": {},
   "outputs": [
    {
     "name": "stdout",
     "output_type": "stream",
     "text": [
      "                   pre       rec       spe        f1       geo       iba       sup\n",
      "\n",
      "          0       0.53      0.80      0.56      0.64      0.67      0.46      2846\n",
      "          1       0.82      0.56      0.80      0.66      0.67      0.44      4654\n",
      "\n",
      "avg / total       0.71      0.65      0.71      0.65      0.67      0.45      7500\n",
      "\n"
     ]
    }
   ],
   "source": [
    "# Print the imbalanced classification report\n",
    "print(classification_report_imbalanced(y_test, y_pred_smoteenn))"
   ]
  },
  {
   "cell_type": "markdown",
   "id": "beff5afd",
   "metadata": {},
   "source": [
    "# Ensemble Techniques"
   ]
  },
  {
   "cell_type": "markdown",
   "id": "588f1552",
   "metadata": {},
   "source": [
    "### Balanced Random Forest"
   ]
  },
  {
   "cell_type": "code",
   "execution_count": 188,
   "id": "26cf50d0",
   "metadata": {},
   "outputs": [
    {
     "data": {
      "text/plain": [
       "BalancedRandomForestClassifier(random_state=1)"
      ]
     },
     "execution_count": 188,
     "metadata": {},
     "output_type": "execute_result"
    }
   ],
   "source": [
    "# Resample the training data with the BalancedRandomForestClassifier\n",
    "from imblearn.ensemble import BalancedRandomForestClassifier\n",
    "brfc_model = BalancedRandomForestClassifier(n_estimators=100, random_state=1)\n",
    "brfc_model.fit(X_train, y_train)"
   ]
  },
  {
   "cell_type": "code",
   "execution_count": 189,
   "id": "c523aa20",
   "metadata": {},
   "outputs": [
    {
     "data": {
      "text/plain": [
       "1.0"
      ]
     },
     "execution_count": 189,
     "metadata": {},
     "output_type": "execute_result"
    }
   ],
   "source": [
    "# Calculated the balanced accuracy score\n",
    "y_pred_brfc = brfc_model.predict(X_test)\n",
    "balanced_accuracy_score(y_test, y_pred_brfc)"
   ]
  },
  {
   "cell_type": "code",
   "execution_count": 190,
   "id": "bfaaaa49",
   "metadata": {},
   "outputs": [
    {
     "data": {
      "text/plain": [
       "array([[2846,    0],\n",
       "       [   0, 4654]], dtype=int64)"
      ]
     },
     "execution_count": 190,
     "metadata": {},
     "output_type": "execute_result"
    }
   ],
   "source": [
    "# Display the confusion matrix\n",
    "confusion_matrix(y_test, y_pred_brfc)"
   ]
  },
  {
   "cell_type": "code",
   "execution_count": 191,
   "id": "33ab5294",
   "metadata": {},
   "outputs": [
    {
     "name": "stdout",
     "output_type": "stream",
     "text": [
      "                   pre       rec       spe        f1       geo       iba       sup\n",
      "\n",
      "          0       1.00      1.00      1.00      1.00      1.00      1.00      2846\n",
      "          1       1.00      1.00      1.00      1.00      1.00      1.00      4654\n",
      "\n",
      "avg / total       1.00      1.00      1.00      1.00      1.00      1.00      7500\n",
      "\n"
     ]
    }
   ],
   "source": [
    "# Print the imbalanced classification report\n",
    "print(classification_report_imbalanced(y_test, y_pred_brfc))"
   ]
  },
  {
   "cell_type": "code",
   "execution_count": 192,
   "id": "4f6691d2",
   "metadata": {},
   "outputs": [
    {
     "data": {
      "text/plain": [
       "[(0.192748449314745, 'People/Sq.Mile'),\n",
       " (0.17811185826054618, 'Population'),\n",
       " (0.17447432527080234, 'ZIP'),\n",
       " (0.17221812152129443, 'National_Rank'),\n",
       " (0.15402229594525368, 'Ward'),\n",
       " (0.06953172026272202, 'Latitude'),\n",
       " (0.05450832214763789, 'Longitude'),\n",
       " (0.0011603823493585273, 'rankings'),\n",
       " (0.0007100553850966744, 'Domestic'),\n",
       " (0.00034671768828469445, 'Arrest'),\n",
       " (0.0001300862419524161, 'Safety_Bad'),\n",
       " (0.00012305773371559895, 'Safety_Good'),\n",
       " (0.00012235695713013378, 'Primary_Type_ASSAULT'),\n",
       " (0.00011766138631463764, 'Primary_Type_OTHER OFFENSE'),\n",
       " (0.00011505349139550997, 'Primary_Type_WEAPONS VIOLATION'),\n",
       " (0.00010834832650737047, 'Primary_Type_DECEPTIVE PRACTICE'),\n",
       " (0.0001083271203531448, 'Primary_Type_NARCOTICS'),\n",
       " (9.929905687491392e-05, 'Primary_Type_BATTERY'),\n",
       " (9.795461659531515e-05, 'Primary_Type_MOTOR VEHICLE THEFT'),\n",
       " (9.694033938015772e-05, 'Primary_Type_CRIMINAL DAMAGE'),\n",
       " (9.520316561189722e-05, 'Primary_Type_THEFT'),\n",
       " (9.517186010165456e-05, 'Primary_Type_CRIMINAL TRESPASS'),\n",
       " (8.444921651482083e-05, 'Primary_Type_ROBBERY'),\n",
       " (8.276276316332833e-05, 'Primary_Type_BURGLARY'),\n",
       " (8.03963069897092e-05, 'Primary_Type_CRIMINAL SEXUAL ASSAULT'),\n",
       " (7.911700946674227e-05, 'Primary_Type_OFFENSE INVOLVING CHILDREN'),\n",
       " (7.680609394804499e-05, 'Primary_Type_HOMICIDE'),\n",
       " (7.338091037957941e-05, 'Primary_Type_SEX OFFENSE'),\n",
       " (5.9397849794273606e-05, 'Primary_Type_INTERFERENCE WITH PUBLIC OFFICER'),\n",
       " (5.2002119085870364e-05, 'Primary_Type_ARSON'),\n",
       " (4.654099977369909e-05, 'Primary_Type_LIQUOR LAW VIOLATION'),\n",
       " (4.511313320200343e-05, 'Primary_Type_PUBLIC PEACE VIOLATION'),\n",
       " (3.923094708009172e-05, 'Primary_Type_CRIM SEXUAL ASSAULT'),\n",
       " (3.640104556845835e-05, 'Primary_Type_PROSTITUTION'),\n",
       " (3.134844881864375e-05, 'Primary_Type_CONCEALED CARRY LICENSE VIOLATION'),\n",
       " (2.110505576085546e-05, 'Primary_Type_OBSCENITY'),\n",
       " (1.4111238811339996e-05, 'Primary_Type_GAMBLING'),\n",
       " (1.3012499524144101e-05, 'Primary_Type_INTIMIDATION'),\n",
       " (1.2657864300421554e-05, 'Primary_Type_KIDNAPPING'),\n",
       " (8.708111881254483e-06, 'Primary_Type_STALKING'),\n",
       " (1.7499442625987206e-06, 'Primary_Type_PUBLIC INDECENCY'),\n",
       " (0.0, 'Primary_Type_OTHER NARCOTIC VIOLATION'),\n",
       " (0.0, 'Primary_Type_HUMAN TRAFFICKING')]"
      ]
     },
     "execution_count": 192,
     "metadata": {},
     "output_type": "execute_result"
    }
   ],
   "source": [
    "# List the features sorted in descending order by feature importance\n",
    "importances = brfc_model.feature_importances_\n",
    "sorted(zip(brfc_model.feature_importances_, X.columns), reverse=True)"
   ]
  },
  {
   "cell_type": "markdown",
   "id": "8f6696fd",
   "metadata": {},
   "source": [
    "### Easy Ensemble AdaBoost Classifier"
   ]
  },
  {
   "cell_type": "code",
   "execution_count": 193,
   "id": "60e8b33a",
   "metadata": {},
   "outputs": [
    {
     "data": {
      "text/plain": [
       "EasyEnsembleClassifier(n_estimators=100, random_state=1)"
      ]
     },
     "execution_count": 193,
     "metadata": {},
     "output_type": "execute_result"
    }
   ],
   "source": [
    "# Train the EasyEnsembleClassifier\n",
    "from imblearn.ensemble import EasyEnsembleClassifier\n",
    "ee_model = EasyEnsembleClassifier(n_estimators=100, random_state=1)\n",
    "ee_model.fit(X_train, y_train)\n",
    "# Train the EasyEnsembleClassifier"
   ]
  },
  {
   "cell_type": "code",
   "execution_count": 194,
   "id": "b68fe0e3",
   "metadata": {},
   "outputs": [
    {
     "data": {
      "text/plain": [
       "1.0"
      ]
     },
     "execution_count": 194,
     "metadata": {},
     "output_type": "execute_result"
    }
   ],
   "source": [
    "# Calculated the balanced accuracy score\n",
    "y_pred_ee = ee_model.predict(X_test)\n",
    "balanced_accuracy_score(y_test, y_pred_ee)"
   ]
  },
  {
   "cell_type": "code",
   "execution_count": 195,
   "id": "a8dd55fa",
   "metadata": {},
   "outputs": [
    {
     "data": {
      "text/plain": [
       "array([[2846,    0],\n",
       "       [   0, 4654]], dtype=int64)"
      ]
     },
     "execution_count": 195,
     "metadata": {},
     "output_type": "execute_result"
    }
   ],
   "source": [
    "# Display the confusion matrix\n",
    "confusion_matrix(y_test, y_pred_ee)"
   ]
  },
  {
   "cell_type": "code",
   "execution_count": 196,
   "id": "f9d84d08",
   "metadata": {},
   "outputs": [
    {
     "name": "stdout",
     "output_type": "stream",
     "text": [
      "                   pre       rec       spe        f1       geo       iba       sup\n",
      "\n",
      "          0       1.00      1.00      1.00      1.00      1.00      1.00      2846\n",
      "          1       1.00      1.00      1.00      1.00      1.00      1.00      4654\n",
      "\n",
      "avg / total       1.00      1.00      1.00      1.00      1.00      1.00      7500\n",
      "\n"
     ]
    }
   ],
   "source": [
    "# Print the imbalanced classification report\n",
    "print(classification_report_imbalanced(y_test, y_pred_ee))"
   ]
  }
 ],
 "metadata": {
  "kernelspec": {
   "display_name": "mlenv",
   "language": "python",
   "name": "mlenv"
  },
  "language_info": {
   "codemirror_mode": {
    "name": "ipython",
    "version": 3
   },
   "file_extension": ".py",
   "mimetype": "text/x-python",
   "name": "python",
   "nbconvert_exporter": "python",
   "pygments_lexer": "ipython3",
   "version": "3.7.13"
  }
 },
 "nbformat": 4,
 "nbformat_minor": 5
}
