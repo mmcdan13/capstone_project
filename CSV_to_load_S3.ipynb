{
 "cells": [
  {
   "cell_type": "code",
   "execution_count": 1,
   "id": "51482080",
   "metadata": {},
   "outputs": [],
   "source": [
    "import boto3\n",
    "from pprint import pprint\n",
    "import pathlib\n",
    "import os"
   ]
  },
  {
   "cell_type": "code",
   "execution_count": 3,
   "id": "13f6ffea",
   "metadata": {},
   "outputs": [],
   "source": [
    "def upload_file_using_client():\n",
    "    \"\"\"\n",
    "    Uploads file to S3 bucket using S3 client object\n",
    "    :return: None\n",
    "    \"\"\"\n",
    "    s3 = boto3.client(\"s3\")\n",
    "    bucket_name = \"cagurr-capstone\"\n",
    "    object_name = \"clean_pop.csv\"\n",
    "    file_name = os.path.join(\"Resources/\", \"clean_pop.csv\")\n",
    "    \n",
    "    response = s3.upload_file(file_name, bucket_name, object_name)\n",
    "    pprint(response)  # prints None"
   ]
  },
  {
   "cell_type": "code",
   "execution_count": 4,
   "id": "d0ababd8",
   "metadata": {},
   "outputs": [
    {
     "name": "stdout",
     "output_type": "stream",
     "text": [
      "None\n"
     ]
    }
   ],
   "source": [
    "upload_file_using_client()"
   ]
  },
  {
   "cell_type": "code",
   "execution_count": null,
   "id": "72aabb8b",
   "metadata": {},
   "outputs": [],
   "source": [
    "def upload_file_using_client2():\n",
    "    \"\"\"\n",
    "    Uploads file to S3 bucket using S3 client object\n",
    "    :return: None\n",
    "    \"\"\"\n",
    "    s3 = boto3.client(\"s3\")\n",
    "    bucket_name = \"cagurr-capstone\"\n",
    "    object_name = \"clean_pop.csv\"\n",
    "    file_name = os.path.join(\"Resources/\", \"clean_pop.csv\")\n",
    "    \n",
    "    response = s3.upload_file(file_name, bucket_name, object_name)\n",
    "    pprint(response)  # prints None"
   ]
  },
  {
   "cell_type": "code",
   "execution_count": null,
   "id": "d446d868",
   "metadata": {},
   "outputs": [],
   "source": [
    "upload_file_using_client2()"
   ]
  }
 ],
 "metadata": {
  "kernelspec": {
   "display_name": "mlenv",
   "language": "python",
   "name": "mlenv"
  },
  "language_info": {
   "codemirror_mode": {
    "name": "ipython",
    "version": 3
   },
   "file_extension": ".py",
   "mimetype": "text/x-python",
   "name": "python",
   "nbconvert_exporter": "python",
   "pygments_lexer": "ipython3",
   "version": "3.7.13"
  }
 },
 "nbformat": 4,
 "nbformat_minor": 5
}
