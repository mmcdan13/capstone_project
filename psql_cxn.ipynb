{
 "cells": [
  {
   "cell_type": "code",
   "execution_count": 1,
   "id": "3e1d2a84",
   "metadata": {},
   "outputs": [],
   "source": [
    "import csv\n",
    "import os\n",
    "import psycopg2\n",
    "import boto3\n",
    "from pprint import pprint\n",
    "from config import db_password"
   ]
  },
  {
   "cell_type": "code",
   "execution_count": 2,
   "id": "888a6c63",
   "metadata": {},
   "outputs": [],
   "source": [
    "# File path and name.\n",
    "filePath_source = 'C:\\\\Users\\\\Public\\\\'\n",
    "filePath_dest = 'C:\\\\Users\\\\Gurr1\\\\OneDrive\\\\Documents\\\\Bootcamp\\\\capstone_project\\\\Resources\\\\'\n",
    "fileName = 'final_data.csv'"
   ]
  },
  {
   "cell_type": "code",
   "execution_count": 3,
   "id": "1510f78b",
   "metadata": {},
   "outputs": [],
   "source": [
    "# connection establishment\n",
    "conn = psycopg2.connect(\n",
    "    database=\"postgres\",\n",
    "    user='postgres',\n",
    "    password=db_password,\n",
    "    host='capstoneproject.cs3wfmxfib5g.us-east-1.rds.amazonaws.com',\n",
    "    port='5432'\n",
    ")"
   ]
  },
  {
   "cell_type": "code",
   "execution_count": 4,
   "id": "674f990d",
   "metadata": {},
   "outputs": [],
   "source": [
    "conn.autocommit = True"
   ]
  },
  {
   "cell_type": "code",
   "execution_count": 5,
   "id": "7e7fb4d5",
   "metadata": {},
   "outputs": [],
   "source": [
    "# Creating a cursor object\n",
    "cursor = conn.cursor()"
   ]
  },
  {
   "cell_type": "code",
   "execution_count": 6,
   "id": "62efe257",
   "metadata": {},
   "outputs": [],
   "source": [
    "# query to export table into csv\n",
    "sql = \\\n",
    "    \"SELECT * \\\n",
    "    FROM final_data \\\n",
    "    ORDER BY index, zip\""
   ]
  },
  {
   "cell_type": "code",
   "execution_count": 7,
   "id": "811ea68c",
   "metadata": {},
   "outputs": [
    {
     "name": "stdout",
     "output_type": "stream",
     "text": [
      "Data export successful.\n"
     ]
    }
   ],
   "source": [
    "try:\n",
    "    # executing above query\n",
    "    cursor.execute(sql)\n",
    "    \n",
    "    # Fetch the data returned.\n",
    "    results = cursor.fetchall()\n",
    "\n",
    "    # Extract the table headers.\n",
    "    headers = [i[0] for i in cursor.description]\n",
    "\n",
    "    # Open CSV file for writing.\n",
    "    csvFile = csv.writer(open(filePath_source + fileName, 'w', newline=''),\n",
    "                         delimiter=',', lineterminator='\\r\\n',\n",
    "                         quoting=csv.QUOTE_ALL, escapechar='\\\\')\n",
    "\n",
    "    # Add the headers and data to the CSV file.\n",
    "    csvFile.writerow(headers)\n",
    "    csvFile.writerows(results)\n",
    "\n",
    "    # Message stating export successful.\n",
    "    print(\"Data export successful.\")\n",
    "\n",
    "except psycopg2.DatabaseError as e:\n",
    "\n",
    "    # Message stating export unsuccessful.\n",
    "    print(\"Data export unsuccessful.\")\n",
    "    quit()\n",
    "\n",
    "finally:\n",
    "\n",
    "    # Close database connection.\n",
    "    conn.close()    "
   ]
  },
  {
   "cell_type": "code",
   "execution_count": 8,
   "id": "8121136a",
   "metadata": {},
   "outputs": [],
   "source": [
    "def upload_file_using_client():\n",
    "    \"\"\"\n",
    "    Uploads file to S3 bucket using S3 client object\n",
    "    :return: None\n",
    "    \"\"\"\n",
    "    s3 = boto3.client(\"s3\")\n",
    "    bucket_name = \"cagurr-capstone\"\n",
    "    object_name = \"final_data.csv\"\n",
    "    file_name = os.path.join(filePath_source, \"final_data.csv\")\n",
    "    \n",
    "    response = s3.upload_file(file_name, bucket_name, object_name)\n",
    "    pprint(response)  # prints None"
   ]
  },
  {
   "cell_type": "code",
   "execution_count": 9,
   "id": "211eab40",
   "metadata": {},
   "outputs": [
    {
     "name": "stdout",
     "output_type": "stream",
     "text": [
      "None\n"
     ]
    }
   ],
   "source": [
    "upload_file_using_client()"
   ]
  },
  {
   "cell_type": "code",
   "execution_count": 10,
   "id": "1061a31e",
   "metadata": {},
   "outputs": [],
   "source": [
    "def download_file_using_client():\n",
    "    \"\"\"\n",
    "    Downloads file to S3 bucket using S3 client object\n",
    "    :return: None\n",
    "    \"\"\"\n",
    "    s3 = boto3.client(\"s3\")\n",
    "    bucket_name = \"cagurr-capstone\"\n",
    "    object_name = \"final_data.csv\"\n",
    "    file_name = os.path.join(\"Resources/\", \"final_data.csv\")\n",
    "    \n",
    "    response = s3.download_file(bucket_name, object_name, file_name)\n",
    "    pprint(response)  # prints None"
   ]
  },
  {
   "cell_type": "code",
   "execution_count": 11,
   "id": "9892688e",
   "metadata": {},
   "outputs": [],
   "source": [
    "# download_file_using_client()"
   ]
  }
 ],
 "metadata": {
  "kernelspec": {
   "display_name": "mlenv",
   "language": "python",
   "name": "mlenv"
  },
  "language_info": {
   "codemirror_mode": {
    "name": "ipython",
    "version": 3
   },
   "file_extension": ".py",
   "mimetype": "text/x-python",
   "name": "python",
   "nbconvert_exporter": "python",
   "pygments_lexer": "ipython3",
   "version": "3.7.13"
  }
 },
 "nbformat": 4,
 "nbformat_minor": 5
}
