{
 "cells": [
  {
   "cell_type": "code",
   "execution_count": 250,
   "id": "e638eb45",
   "metadata": {},
   "outputs": [],
   "source": [
    "import warnings\n",
    "warnings.filterwarnings('ignore')"
   ]
  },
  {
   "cell_type": "code",
   "execution_count": 251,
   "id": "8b26bb37",
   "metadata": {},
   "outputs": [],
   "source": [
    "import numpy as np\n",
    "import pandas as pd\n",
    "from pathlib import Path\n",
    "from collections import Counter\n",
    "from sklearn.preprocessing import StandardScaler,OneHotEncoder\n",
    "from sklearn.model_selection import train_test_split"
   ]
  },
  {
   "cell_type": "code",
   "execution_count": 252,
   "id": "36c8c794",
   "metadata": {},
   "outputs": [
    {
     "data": {
      "text/html": [
       "<div>\n",
       "<style scoped>\n",
       "    .dataframe tbody tr th:only-of-type {\n",
       "        vertical-align: middle;\n",
       "    }\n",
       "\n",
       "    .dataframe tbody tr th {\n",
       "        vertical-align: top;\n",
       "    }\n",
       "\n",
       "    .dataframe thead th {\n",
       "        text-align: right;\n",
       "    }\n",
       "</style>\n",
       "<table border=\"1\" class=\"dataframe\">\n",
       "  <thead>\n",
       "    <tr style=\"text-align: right;\">\n",
       "      <th></th>\n",
       "      <th>Unnamed: 0</th>\n",
       "      <th>ZIP</th>\n",
       "      <th>Ward</th>\n",
       "      <th>Primary_Type</th>\n",
       "      <th>rankings</th>\n",
       "      <th>Latitude</th>\n",
       "      <th>Longitude</th>\n",
       "      <th>Arrest</th>\n",
       "      <th>Domestic</th>\n",
       "      <th>Population</th>\n",
       "      <th>...</th>\n",
       "      <th>National_Rank</th>\n",
       "      <th>state</th>\n",
       "      <th>location</th>\n",
       "      <th>address</th>\n",
       "      <th>chip_latitude</th>\n",
       "      <th>chip_longitude</th>\n",
       "      <th>chipotle</th>\n",
       "      <th>Safety</th>\n",
       "      <th>Arrest_1</th>\n",
       "      <th>Domestic_1</th>\n",
       "    </tr>\n",
       "  </thead>\n",
       "  <tbody>\n",
       "    <tr>\n",
       "      <th>0</th>\n",
       "      <td>0</td>\n",
       "      <td>60601</td>\n",
       "      <td>27</td>\n",
       "      <td>THEFT</td>\n",
       "      <td>3</td>\n",
       "      <td>NaN</td>\n",
       "      <td>NaN</td>\n",
       "      <td>0</td>\n",
       "      <td>0</td>\n",
       "      <td>5,591</td>\n",
       "      <td>...</td>\n",
       "      <td>#271</td>\n",
       "      <td>Illinois</td>\n",
       "      <td>Chicago</td>\n",
       "      <td>316 N Michigan Ave Chicago, IL 60601 US</td>\n",
       "      <td>41.887288</td>\n",
       "      <td>-87.624848</td>\n",
       "      <td>1</td>\n",
       "      <td>1</td>\n",
       "      <td>False</td>\n",
       "      <td>False</td>\n",
       "    </tr>\n",
       "    <tr>\n",
       "      <th>1</th>\n",
       "      <td>1</td>\n",
       "      <td>60601</td>\n",
       "      <td>27</td>\n",
       "      <td>CRIMINAL DAMAGE</td>\n",
       "      <td>4</td>\n",
       "      <td>41.883932</td>\n",
       "      <td>-87.679964</td>\n",
       "      <td>0</td>\n",
       "      <td>0</td>\n",
       "      <td>5,591</td>\n",
       "      <td>...</td>\n",
       "      <td>#271</td>\n",
       "      <td>Illinois</td>\n",
       "      <td>Chicago</td>\n",
       "      <td>316 N Michigan Ave Chicago, IL 60601 US</td>\n",
       "      <td>41.887288</td>\n",
       "      <td>-87.624848</td>\n",
       "      <td>1</td>\n",
       "      <td>0</td>\n",
       "      <td>False</td>\n",
       "      <td>False</td>\n",
       "    </tr>\n",
       "    <tr>\n",
       "      <th>2</th>\n",
       "      <td>2</td>\n",
       "      <td>60601</td>\n",
       "      <td>27</td>\n",
       "      <td>THEFT</td>\n",
       "      <td>3</td>\n",
       "      <td>41.896569</td>\n",
       "      <td>-87.636063</td>\n",
       "      <td>0</td>\n",
       "      <td>0</td>\n",
       "      <td>5,591</td>\n",
       "      <td>...</td>\n",
       "      <td>#271</td>\n",
       "      <td>Illinois</td>\n",
       "      <td>Chicago</td>\n",
       "      <td>316 N Michigan Ave Chicago, IL 60601 US</td>\n",
       "      <td>41.887288</td>\n",
       "      <td>-87.624848</td>\n",
       "      <td>1</td>\n",
       "      <td>1</td>\n",
       "      <td>False</td>\n",
       "      <td>False</td>\n",
       "    </tr>\n",
       "    <tr>\n",
       "      <th>3</th>\n",
       "      <td>3</td>\n",
       "      <td>60601</td>\n",
       "      <td>27</td>\n",
       "      <td>SEX OFFENSE</td>\n",
       "      <td>3</td>\n",
       "      <td>41.883937</td>\n",
       "      <td>-87.683368</td>\n",
       "      <td>1</td>\n",
       "      <td>0</td>\n",
       "      <td>5,591</td>\n",
       "      <td>...</td>\n",
       "      <td>#271</td>\n",
       "      <td>Illinois</td>\n",
       "      <td>Chicago</td>\n",
       "      <td>316 N Michigan Ave Chicago, IL 60601 US</td>\n",
       "      <td>41.887288</td>\n",
       "      <td>-87.624848</td>\n",
       "      <td>1</td>\n",
       "      <td>1</td>\n",
       "      <td>True</td>\n",
       "      <td>False</td>\n",
       "    </tr>\n",
       "    <tr>\n",
       "      <th>4</th>\n",
       "      <td>4</td>\n",
       "      <td>60601</td>\n",
       "      <td>27</td>\n",
       "      <td>NARCOTICS</td>\n",
       "      <td>4</td>\n",
       "      <td>41.892856</td>\n",
       "      <td>-87.710137</td>\n",
       "      <td>1</td>\n",
       "      <td>0</td>\n",
       "      <td>5,591</td>\n",
       "      <td>...</td>\n",
       "      <td>#271</td>\n",
       "      <td>Illinois</td>\n",
       "      <td>Chicago</td>\n",
       "      <td>316 N Michigan Ave Chicago, IL 60601 US</td>\n",
       "      <td>41.887288</td>\n",
       "      <td>-87.624848</td>\n",
       "      <td>1</td>\n",
       "      <td>0</td>\n",
       "      <td>True</td>\n",
       "      <td>False</td>\n",
       "    </tr>\n",
       "  </tbody>\n",
       "</table>\n",
       "<p>5 rows × 21 columns</p>\n",
       "</div>"
      ],
      "text/plain": [
       "   Unnamed: 0    ZIP  Ward     Primary_Type  rankings   Latitude  Longitude  \\\n",
       "0           0  60601    27            THEFT         3        NaN        NaN   \n",
       "1           1  60601    27  CRIMINAL DAMAGE         4  41.883932 -87.679964   \n",
       "2           2  60601    27            THEFT         3  41.896569 -87.636063   \n",
       "3           3  60601    27      SEX OFFENSE         3  41.883937 -87.683368   \n",
       "4           4  60601    27        NARCOTICS         4  41.892856 -87.710137   \n",
       "\n",
       "   Arrest  Domestic Population  ... National_Rank     state location  \\\n",
       "0       0         0      5,591  ...          #271  Illinois  Chicago   \n",
       "1       0         0      5,591  ...          #271  Illinois  Chicago   \n",
       "2       0         0      5,591  ...          #271  Illinois  Chicago   \n",
       "3       1         0      5,591  ...          #271  Illinois  Chicago   \n",
       "4       1         0      5,591  ...          #271  Illinois  Chicago   \n",
       "\n",
       "                                   address chip_latitude  chip_longitude  \\\n",
       "0  316 N Michigan Ave Chicago, IL 60601 US     41.887288      -87.624848   \n",
       "1  316 N Michigan Ave Chicago, IL 60601 US     41.887288      -87.624848   \n",
       "2  316 N Michigan Ave Chicago, IL 60601 US     41.887288      -87.624848   \n",
       "3  316 N Michigan Ave Chicago, IL 60601 US     41.887288      -87.624848   \n",
       "4  316 N Michigan Ave Chicago, IL 60601 US     41.887288      -87.624848   \n",
       "\n",
       "   chipotle  Safety  Arrest_1  Domestic_1  \n",
       "0         1       1     False       False  \n",
       "1         1       0     False       False  \n",
       "2         1       1     False       False  \n",
       "3         1       1      True       False  \n",
       "4         1       0      True       False  \n",
       "\n",
       "[5 rows x 21 columns]"
      ]
     },
     "execution_count": 252,
     "metadata": {},
     "output_type": "execute_result"
    }
   ],
   "source": [
    "cleaned_crime = pd.read_csv('Resources/crime_chip_for_model.csv')\n",
    "cleaned_crime.head()"
   ]
  },
  {
   "cell_type": "code",
   "execution_count": 253,
   "id": "08fae94d",
   "metadata": {},
   "outputs": [
    {
     "data": {
      "text/html": [
       "<div>\n",
       "<style scoped>\n",
       "    .dataframe tbody tr th:only-of-type {\n",
       "        vertical-align: middle;\n",
       "    }\n",
       "\n",
       "    .dataframe tbody tr th {\n",
       "        vertical-align: top;\n",
       "    }\n",
       "\n",
       "    .dataframe thead th {\n",
       "        text-align: right;\n",
       "    }\n",
       "</style>\n",
       "<table border=\"1\" class=\"dataframe\">\n",
       "  <thead>\n",
       "    <tr style=\"text-align: right;\">\n",
       "      <th></th>\n",
       "      <th>ZIP</th>\n",
       "      <th>Ward</th>\n",
       "      <th>Primary_Type</th>\n",
       "      <th>rankings</th>\n",
       "      <th>Latitude</th>\n",
       "      <th>Longitude</th>\n",
       "      <th>Arrest</th>\n",
       "      <th>Domestic</th>\n",
       "      <th>Population</th>\n",
       "      <th>People/Sq.Mile</th>\n",
       "      <th>National_Rank</th>\n",
       "      <th>chipotle</th>\n",
       "      <th>Safety</th>\n",
       "    </tr>\n",
       "  </thead>\n",
       "  <tbody>\n",
       "    <tr>\n",
       "      <th>0</th>\n",
       "      <td>60639</td>\n",
       "      <td>34</td>\n",
       "      <td>CRIMINAL DAMAGE</td>\n",
       "      <td>4</td>\n",
       "      <td>41.682615</td>\n",
       "      <td>-87.633615</td>\n",
       "      <td>0</td>\n",
       "      <td>1</td>\n",
       "      <td>92951</td>\n",
       "      <td>19854.06</td>\n",
       "      <td>214</td>\n",
       "      <td>1</td>\n",
       "      <td>0</td>\n",
       "    </tr>\n",
       "    <tr>\n",
       "      <th>1</th>\n",
       "      <td>60601</td>\n",
       "      <td>27</td>\n",
       "      <td>WEAPONS VIOLATION</td>\n",
       "      <td>5</td>\n",
       "      <td>41.898106</td>\n",
       "      <td>-87.718842</td>\n",
       "      <td>1</td>\n",
       "      <td>0</td>\n",
       "      <td>5591</td>\n",
       "      <td>17101.15</td>\n",
       "      <td>271</td>\n",
       "      <td>1</td>\n",
       "      <td>0</td>\n",
       "    </tr>\n",
       "    <tr>\n",
       "      <th>2</th>\n",
       "      <td>60601</td>\n",
       "      <td>27</td>\n",
       "      <td>CRIMINAL DAMAGE</td>\n",
       "      <td>4</td>\n",
       "      <td>41.881442</td>\n",
       "      <td>-87.667838</td>\n",
       "      <td>0</td>\n",
       "      <td>0</td>\n",
       "      <td>5591</td>\n",
       "      <td>17101.15</td>\n",
       "      <td>271</td>\n",
       "      <td>1</td>\n",
       "      <td>0</td>\n",
       "    </tr>\n",
       "    <tr>\n",
       "      <th>3</th>\n",
       "      <td>60607</td>\n",
       "      <td>29</td>\n",
       "      <td>CRIMINAL DAMAGE</td>\n",
       "      <td>4</td>\n",
       "      <td>41.908245</td>\n",
       "      <td>-87.775570</td>\n",
       "      <td>0</td>\n",
       "      <td>0</td>\n",
       "      <td>15552</td>\n",
       "      <td>6428.11</td>\n",
       "      <td>1194</td>\n",
       "      <td>1</td>\n",
       "      <td>0</td>\n",
       "    </tr>\n",
       "    <tr>\n",
       "      <th>4</th>\n",
       "      <td>60657</td>\n",
       "      <td>7</td>\n",
       "      <td>WEAPONS VIOLATION</td>\n",
       "      <td>3</td>\n",
       "      <td>41.741920</td>\n",
       "      <td>-87.561219</td>\n",
       "      <td>0</td>\n",
       "      <td>0</td>\n",
       "      <td>66789</td>\n",
       "      <td>31204.02</td>\n",
       "      <td>112</td>\n",
       "      <td>1</td>\n",
       "      <td>1</td>\n",
       "    </tr>\n",
       "  </tbody>\n",
       "</table>\n",
       "</div>"
      ],
      "text/plain": [
       "     ZIP  Ward       Primary_Type  rankings   Latitude  Longitude  Arrest  \\\n",
       "0  60639    34    CRIMINAL DAMAGE         4  41.682615 -87.633615       0   \n",
       "1  60601    27  WEAPONS VIOLATION         5  41.898106 -87.718842       1   \n",
       "2  60601    27    CRIMINAL DAMAGE         4  41.881442 -87.667838       0   \n",
       "3  60607    29    CRIMINAL DAMAGE         4  41.908245 -87.775570       0   \n",
       "4  60657     7  WEAPONS VIOLATION         3  41.741920 -87.561219       0   \n",
       "\n",
       "   Domestic  Population  People/Sq.Mile  National_Rank  chipotle  Safety  \n",
       "0         1       92951        19854.06            214         1       0  \n",
       "1         0        5591        17101.15            271         1       0  \n",
       "2         0        5591        17101.15            271         1       0  \n",
       "3         0       15552         6428.11           1194         1       0  \n",
       "4         0       66789        31204.02            112         1       1  "
      ]
     },
     "execution_count": 253,
     "metadata": {},
     "output_type": "execute_result"
    }
   ],
   "source": [
    "cleaned_crime = cleaned_crime.drop(columns=['Unnamed: 0', 'state', 'location', 'address' ,'chip_latitude', 'chip_longitude', 'Arrest_1', 'Domestic_1'])\n",
    "cleaned_crime = cleaned_crime.dropna()\n",
    "cleaned_crime['National_Rank'] = cleaned_crime['National_Rank'].str.replace('#', '')\n",
    "cleaned_crime['National_Rank'] = cleaned_crime['National_Rank'].str.replace(',', '')\n",
    "cleaned_crime['National_Rank'] = cleaned_crime['National_Rank'].astype('int')\n",
    "cleaned_crime['People/Sq.Mile'] = cleaned_crime['People/Sq.Mile'].str.replace(',', '')\n",
    "cleaned_crime['People/Sq.Mile'] = cleaned_crime['People/Sq.Mile'].astype('float')\n",
    "cleaned_crime['Population'] = cleaned_crime['Population'].str.replace(',', '')\n",
    "cleaned_crime['Population'] = cleaned_crime['Population'].astype('int')\n",
    "sample = cleaned_crime.sample(n=30000)\n",
    "sample = sample.reset_index()\n",
    "sample = sample.drop(columns=['index'])\n",
    "sample.head()"
   ]
  },
  {
   "cell_type": "code",
   "execution_count": 254,
   "id": "24d173fa",
   "metadata": {},
   "outputs": [],
   "source": [
    "primary_type = sample.Primary_Type.value_counts()"
   ]
  },
  {
   "cell_type": "code",
   "execution_count": 255,
   "id": "21a2be29",
   "metadata": {},
   "outputs": [
    {
     "data": {
      "text/plain": [
       "BATTERY                6291\n",
       "THEFT                  5795\n",
       "OTHER OFFENSE          3829\n",
       "CRIMINAL DAMAGE        3681\n",
       "ASSAULT                2642\n",
       "DECEPTIVE PRACTICE     1834\n",
       "BURGLARY               1317\n",
       "MOTOR VEHICLE THEFT    1294\n",
       "NARCOTICS              1168\n",
       "WEAPONS VIOLATION      1092\n",
       "ROBBERY                1057\n",
       "Name: Primary_Type, dtype: int64"
      ]
     },
     "execution_count": 255,
     "metadata": {},
     "output_type": "execute_result"
    }
   ],
   "source": [
    "# Determine which values to replace if counts are less than ...?\n",
    "replace_primary = list(primary_type[primary_type < 1000].index)\n",
    "\n",
    "# Replace in dataframe\n",
    "for primary in replace_primary:\n",
    "    sample.Primary_Type = sample.Primary_Type.replace(primary,\"OTHER OFFENSE\")\n",
    "    \n",
    "# Check to make sure binning was successful\n",
    "sample.Primary_Type.value_counts()"
   ]
  },
  {
   "cell_type": "code",
   "execution_count": 256,
   "id": "17a4b3e2",
   "metadata": {},
   "outputs": [],
   "source": [
    "# Generate our categorical variable lists\n",
    "crime_obj = list(sample.dtypes[sample.dtypes == 'object'].index)"
   ]
  },
  {
   "cell_type": "code",
   "execution_count": 257,
   "id": "1c609de1",
   "metadata": {},
   "outputs": [
    {
     "data": {
      "text/html": [
       "<div>\n",
       "<style scoped>\n",
       "    .dataframe tbody tr th:only-of-type {\n",
       "        vertical-align: middle;\n",
       "    }\n",
       "\n",
       "    .dataframe tbody tr th {\n",
       "        vertical-align: top;\n",
       "    }\n",
       "\n",
       "    .dataframe thead th {\n",
       "        text-align: right;\n",
       "    }\n",
       "</style>\n",
       "<table border=\"1\" class=\"dataframe\">\n",
       "  <thead>\n",
       "    <tr style=\"text-align: right;\">\n",
       "      <th></th>\n",
       "      <th>Primary_Type_ARSON</th>\n",
       "      <th>Primary_Type_ASSAULT</th>\n",
       "      <th>Primary_Type_BATTERY</th>\n",
       "      <th>Primary_Type_BURGLARY</th>\n",
       "      <th>Primary_Type_CONCEALED CARRY LICENSE VIOLATION</th>\n",
       "      <th>Primary_Type_CRIM SEXUAL ASSAULT</th>\n",
       "      <th>Primary_Type_CRIMINAL DAMAGE</th>\n",
       "      <th>Primary_Type_CRIMINAL SEXUAL ASSAULT</th>\n",
       "      <th>Primary_Type_CRIMINAL TRESPASS</th>\n",
       "      <th>Primary_Type_DECEPTIVE PRACTICE</th>\n",
       "      <th>...</th>\n",
       "      <th>Primary_Type_OTHER NARCOTIC VIOLATION</th>\n",
       "      <th>Primary_Type_OTHER OFFENSE</th>\n",
       "      <th>Primary_Type_PROSTITUTION</th>\n",
       "      <th>Primary_Type_PUBLIC INDECENCY</th>\n",
       "      <th>Primary_Type_PUBLIC PEACE VIOLATION</th>\n",
       "      <th>Primary_Type_ROBBERY</th>\n",
       "      <th>Primary_Type_SEX OFFENSE</th>\n",
       "      <th>Primary_Type_STALKING</th>\n",
       "      <th>Primary_Type_THEFT</th>\n",
       "      <th>Primary_Type_WEAPONS VIOLATION</th>\n",
       "    </tr>\n",
       "  </thead>\n",
       "  <tbody>\n",
       "    <tr>\n",
       "      <th>0</th>\n",
       "      <td>0.0</td>\n",
       "      <td>0.0</td>\n",
       "      <td>0.0</td>\n",
       "      <td>0.0</td>\n",
       "      <td>0.0</td>\n",
       "      <td>0.0</td>\n",
       "      <td>1.0</td>\n",
       "      <td>0.0</td>\n",
       "      <td>0.0</td>\n",
       "      <td>0.0</td>\n",
       "      <td>...</td>\n",
       "      <td>0.0</td>\n",
       "      <td>0.0</td>\n",
       "      <td>0.0</td>\n",
       "      <td>0.0</td>\n",
       "      <td>0.0</td>\n",
       "      <td>0.0</td>\n",
       "      <td>0.0</td>\n",
       "      <td>0.0</td>\n",
       "      <td>0.0</td>\n",
       "      <td>0.0</td>\n",
       "    </tr>\n",
       "    <tr>\n",
       "      <th>1</th>\n",
       "      <td>0.0</td>\n",
       "      <td>0.0</td>\n",
       "      <td>0.0</td>\n",
       "      <td>0.0</td>\n",
       "      <td>0.0</td>\n",
       "      <td>0.0</td>\n",
       "      <td>0.0</td>\n",
       "      <td>0.0</td>\n",
       "      <td>0.0</td>\n",
       "      <td>0.0</td>\n",
       "      <td>...</td>\n",
       "      <td>0.0</td>\n",
       "      <td>0.0</td>\n",
       "      <td>0.0</td>\n",
       "      <td>0.0</td>\n",
       "      <td>0.0</td>\n",
       "      <td>0.0</td>\n",
       "      <td>0.0</td>\n",
       "      <td>0.0</td>\n",
       "      <td>1.0</td>\n",
       "      <td>0.0</td>\n",
       "    </tr>\n",
       "    <tr>\n",
       "      <th>2</th>\n",
       "      <td>0.0</td>\n",
       "      <td>0.0</td>\n",
       "      <td>0.0</td>\n",
       "      <td>0.0</td>\n",
       "      <td>0.0</td>\n",
       "      <td>0.0</td>\n",
       "      <td>0.0</td>\n",
       "      <td>0.0</td>\n",
       "      <td>0.0</td>\n",
       "      <td>0.0</td>\n",
       "      <td>...</td>\n",
       "      <td>0.0</td>\n",
       "      <td>0.0</td>\n",
       "      <td>0.0</td>\n",
       "      <td>0.0</td>\n",
       "      <td>0.0</td>\n",
       "      <td>0.0</td>\n",
       "      <td>1.0</td>\n",
       "      <td>0.0</td>\n",
       "      <td>0.0</td>\n",
       "      <td>0.0</td>\n",
       "    </tr>\n",
       "    <tr>\n",
       "      <th>3</th>\n",
       "      <td>0.0</td>\n",
       "      <td>0.0</td>\n",
       "      <td>0.0</td>\n",
       "      <td>0.0</td>\n",
       "      <td>0.0</td>\n",
       "      <td>0.0</td>\n",
       "      <td>0.0</td>\n",
       "      <td>0.0</td>\n",
       "      <td>0.0</td>\n",
       "      <td>0.0</td>\n",
       "      <td>...</td>\n",
       "      <td>0.0</td>\n",
       "      <td>0.0</td>\n",
       "      <td>0.0</td>\n",
       "      <td>0.0</td>\n",
       "      <td>0.0</td>\n",
       "      <td>0.0</td>\n",
       "      <td>0.0</td>\n",
       "      <td>0.0</td>\n",
       "      <td>0.0</td>\n",
       "      <td>0.0</td>\n",
       "    </tr>\n",
       "    <tr>\n",
       "      <th>4</th>\n",
       "      <td>0.0</td>\n",
       "      <td>0.0</td>\n",
       "      <td>0.0</td>\n",
       "      <td>0.0</td>\n",
       "      <td>0.0</td>\n",
       "      <td>0.0</td>\n",
       "      <td>0.0</td>\n",
       "      <td>0.0</td>\n",
       "      <td>0.0</td>\n",
       "      <td>0.0</td>\n",
       "      <td>...</td>\n",
       "      <td>0.0</td>\n",
       "      <td>0.0</td>\n",
       "      <td>0.0</td>\n",
       "      <td>0.0</td>\n",
       "      <td>0.0</td>\n",
       "      <td>0.0</td>\n",
       "      <td>0.0</td>\n",
       "      <td>0.0</td>\n",
       "      <td>0.0</td>\n",
       "      <td>0.0</td>\n",
       "    </tr>\n",
       "  </tbody>\n",
       "</table>\n",
       "<p>5 rows × 31 columns</p>\n",
       "</div>"
      ],
      "text/plain": [
       "   Primary_Type_ARSON  Primary_Type_ASSAULT  Primary_Type_BATTERY  \\\n",
       "0                 0.0                   0.0                   0.0   \n",
       "1                 0.0                   0.0                   0.0   \n",
       "2                 0.0                   0.0                   0.0   \n",
       "3                 0.0                   0.0                   0.0   \n",
       "4                 0.0                   0.0                   0.0   \n",
       "\n",
       "   Primary_Type_BURGLARY  Primary_Type_CONCEALED CARRY LICENSE VIOLATION  \\\n",
       "0                    0.0                                             0.0   \n",
       "1                    0.0                                             0.0   \n",
       "2                    0.0                                             0.0   \n",
       "3                    0.0                                             0.0   \n",
       "4                    0.0                                             0.0   \n",
       "\n",
       "   Primary_Type_CRIM SEXUAL ASSAULT  Primary_Type_CRIMINAL DAMAGE  \\\n",
       "0                               0.0                           1.0   \n",
       "1                               0.0                           0.0   \n",
       "2                               0.0                           0.0   \n",
       "3                               0.0                           0.0   \n",
       "4                               0.0                           0.0   \n",
       "\n",
       "   Primary_Type_CRIMINAL SEXUAL ASSAULT  Primary_Type_CRIMINAL TRESPASS  \\\n",
       "0                                   0.0                             0.0   \n",
       "1                                   0.0                             0.0   \n",
       "2                                   0.0                             0.0   \n",
       "3                                   0.0                             0.0   \n",
       "4                                   0.0                             0.0   \n",
       "\n",
       "   Primary_Type_DECEPTIVE PRACTICE  ...  \\\n",
       "0                              0.0  ...   \n",
       "1                              0.0  ...   \n",
       "2                              0.0  ...   \n",
       "3                              0.0  ...   \n",
       "4                              0.0  ...   \n",
       "\n",
       "   Primary_Type_OTHER NARCOTIC VIOLATION  Primary_Type_OTHER OFFENSE  \\\n",
       "0                                    0.0                         0.0   \n",
       "1                                    0.0                         0.0   \n",
       "2                                    0.0                         0.0   \n",
       "3                                    0.0                         0.0   \n",
       "4                                    0.0                         0.0   \n",
       "\n",
       "   Primary_Type_PROSTITUTION  Primary_Type_PUBLIC INDECENCY  \\\n",
       "0                        0.0                            0.0   \n",
       "1                        0.0                            0.0   \n",
       "2                        0.0                            0.0   \n",
       "3                        0.0                            0.0   \n",
       "4                        0.0                            0.0   \n",
       "\n",
       "   Primary_Type_PUBLIC PEACE VIOLATION  Primary_Type_ROBBERY  \\\n",
       "0                                  0.0                   0.0   \n",
       "1                                  0.0                   0.0   \n",
       "2                                  0.0                   0.0   \n",
       "3                                  0.0                   0.0   \n",
       "4                                  0.0                   0.0   \n",
       "\n",
       "   Primary_Type_SEX OFFENSE  Primary_Type_STALKING  Primary_Type_THEFT  \\\n",
       "0                       0.0                    0.0                 0.0   \n",
       "1                       0.0                    0.0                 1.0   \n",
       "2                       1.0                    0.0                 0.0   \n",
       "3                       0.0                    0.0                 0.0   \n",
       "4                       0.0                    0.0                 0.0   \n",
       "\n",
       "   Primary_Type_WEAPONS VIOLATION  \n",
       "0                             0.0  \n",
       "1                             0.0  \n",
       "2                             0.0  \n",
       "3                             0.0  \n",
       "4                             0.0  \n",
       "\n",
       "[5 rows x 31 columns]"
      ]
     },
     "execution_count": 257,
     "metadata": {},
     "output_type": "execute_result"
    }
   ],
   "source": [
    "# Create a OneHotEncoder instance\n",
    "enc = OneHotEncoder(sparse=False)\n",
    "\n",
    "# Fit and transform the OneHotEncoder using the categorical variable list\n",
    "encode_df = pd.DataFrame(enc.fit_transform(cleaned_crime[crime_obj]))\n",
    "\n",
    "# Add the encoded variable names to the dataframe\n",
    "encode_df.columns = enc.get_feature_names(crime_obj)\n",
    "encode_df.head()"
   ]
  },
  {
   "cell_type": "code",
   "execution_count": 258,
   "id": "c5429b58",
   "metadata": {},
   "outputs": [
    {
     "data": {
      "text/html": [
       "<div>\n",
       "<style scoped>\n",
       "    .dataframe tbody tr th:only-of-type {\n",
       "        vertical-align: middle;\n",
       "    }\n",
       "\n",
       "    .dataframe tbody tr th {\n",
       "        vertical-align: top;\n",
       "    }\n",
       "\n",
       "    .dataframe thead th {\n",
       "        text-align: right;\n",
       "    }\n",
       "</style>\n",
       "<table border=\"1\" class=\"dataframe\">\n",
       "  <thead>\n",
       "    <tr style=\"text-align: right;\">\n",
       "      <th></th>\n",
       "      <th>ZIP</th>\n",
       "      <th>Ward</th>\n",
       "      <th>rankings</th>\n",
       "      <th>Latitude</th>\n",
       "      <th>Longitude</th>\n",
       "      <th>Arrest</th>\n",
       "      <th>Domestic</th>\n",
       "      <th>Population</th>\n",
       "      <th>People/Sq.Mile</th>\n",
       "      <th>National_Rank</th>\n",
       "      <th>chipotle</th>\n",
       "      <th>Safety</th>\n",
       "    </tr>\n",
       "  </thead>\n",
       "  <tbody>\n",
       "    <tr>\n",
       "      <th>0</th>\n",
       "      <td>60639</td>\n",
       "      <td>34</td>\n",
       "      <td>4</td>\n",
       "      <td>41.682615</td>\n",
       "      <td>-87.633615</td>\n",
       "      <td>0</td>\n",
       "      <td>1</td>\n",
       "      <td>92951</td>\n",
       "      <td>19854.06</td>\n",
       "      <td>214</td>\n",
       "      <td>1</td>\n",
       "      <td>0</td>\n",
       "    </tr>\n",
       "    <tr>\n",
       "      <th>1</th>\n",
       "      <td>60601</td>\n",
       "      <td>27</td>\n",
       "      <td>5</td>\n",
       "      <td>41.898106</td>\n",
       "      <td>-87.718842</td>\n",
       "      <td>1</td>\n",
       "      <td>0</td>\n",
       "      <td>5591</td>\n",
       "      <td>17101.15</td>\n",
       "      <td>271</td>\n",
       "      <td>1</td>\n",
       "      <td>0</td>\n",
       "    </tr>\n",
       "    <tr>\n",
       "      <th>2</th>\n",
       "      <td>60601</td>\n",
       "      <td>27</td>\n",
       "      <td>4</td>\n",
       "      <td>41.881442</td>\n",
       "      <td>-87.667838</td>\n",
       "      <td>0</td>\n",
       "      <td>0</td>\n",
       "      <td>5591</td>\n",
       "      <td>17101.15</td>\n",
       "      <td>271</td>\n",
       "      <td>1</td>\n",
       "      <td>0</td>\n",
       "    </tr>\n",
       "    <tr>\n",
       "      <th>3</th>\n",
       "      <td>60607</td>\n",
       "      <td>29</td>\n",
       "      <td>4</td>\n",
       "      <td>41.908245</td>\n",
       "      <td>-87.775570</td>\n",
       "      <td>0</td>\n",
       "      <td>0</td>\n",
       "      <td>15552</td>\n",
       "      <td>6428.11</td>\n",
       "      <td>1194</td>\n",
       "      <td>1</td>\n",
       "      <td>0</td>\n",
       "    </tr>\n",
       "    <tr>\n",
       "      <th>4</th>\n",
       "      <td>60657</td>\n",
       "      <td>7</td>\n",
       "      <td>3</td>\n",
       "      <td>41.741920</td>\n",
       "      <td>-87.561219</td>\n",
       "      <td>0</td>\n",
       "      <td>0</td>\n",
       "      <td>66789</td>\n",
       "      <td>31204.02</td>\n",
       "      <td>112</td>\n",
       "      <td>1</td>\n",
       "      <td>1</td>\n",
       "    </tr>\n",
       "  </tbody>\n",
       "</table>\n",
       "</div>"
      ],
      "text/plain": [
       "     ZIP  Ward  rankings   Latitude  Longitude  Arrest  Domestic  Population  \\\n",
       "0  60639    34         4  41.682615 -87.633615       0         1       92951   \n",
       "1  60601    27         5  41.898106 -87.718842       1         0        5591   \n",
       "2  60601    27         4  41.881442 -87.667838       0         0        5591   \n",
       "3  60607    29         4  41.908245 -87.775570       0         0       15552   \n",
       "4  60657     7         3  41.741920 -87.561219       0         0       66789   \n",
       "\n",
       "   People/Sq.Mile  National_Rank  chipotle  Safety  \n",
       "0        19854.06            214         1       0  \n",
       "1        17101.15            271         1       0  \n",
       "2        17101.15            271         1       0  \n",
       "3         6428.11           1194         1       0  \n",
       "4        31204.02            112         1       1  "
      ]
     },
     "execution_count": 258,
     "metadata": {},
     "output_type": "execute_result"
    }
   ],
   "source": [
    "# Merge one-hot encoded features and drop the originals\n",
    "# sample = sample.merge(encode_df, left_index=True, right_index=True)\n",
    "sample = sample.drop(columns=crime_obj,axis=1)\n",
    "sample.head()"
   ]
  },
  {
   "cell_type": "code",
   "execution_count": 259,
   "id": "519dfa12",
   "metadata": {},
   "outputs": [],
   "source": [
    "# Split our preprocessed data into our features and target arrays\n",
    "X = sample.drop(columns=['chipotle','Ward','Population','rankings','Latitude','Longitude'],axis=1)\n",
    "y = sample['chipotle']\n",
    "\n",
    "# Split the preprocessed data into a training and testing dataset\n",
    "X_train, X_test, y_train, y_test = train_test_split(X, y, random_state=78)"
   ]
  },
  {
   "cell_type": "markdown",
   "id": "d20deb78",
   "metadata": {},
   "source": [
    "# Resampling Techniques"
   ]
  },
  {
   "cell_type": "markdown",
   "id": "68b3bba4",
   "metadata": {},
   "source": [
    "### Naives Random"
   ]
  },
  {
   "cell_type": "code",
   "execution_count": 260,
   "id": "7a3d4813",
   "metadata": {},
   "outputs": [],
   "source": [
    "# Resample the training data with the RandomOversampler\n",
    "from imblearn.over_sampling import RandomOverSampler\n",
    "ros = RandomOverSampler(random_state=1)\n",
    "X_resampled_ros, y_resampled_ros = ros.fit_resample(X_train, y_train)"
   ]
  },
  {
   "cell_type": "code",
   "execution_count": 261,
   "id": "eeab1be5",
   "metadata": {},
   "outputs": [
    {
     "data": {
      "text/plain": [
       "LogisticRegression(random_state=1)"
      ]
     },
     "execution_count": 261,
     "metadata": {},
     "output_type": "execute_result"
    }
   ],
   "source": [
    "# Train the Logistic Regression model using the resampled data\n",
    "from sklearn.linear_model import LogisticRegression\n",
    "model_ros = LogisticRegression(solver='lbfgs', random_state=1)\n",
    "model_ros.fit(X_resampled_ros, y_resampled_ros)"
   ]
  },
  {
   "cell_type": "code",
   "execution_count": 262,
   "id": "e83f7a8a",
   "metadata": {},
   "outputs": [
    {
     "data": {
      "text/plain": [
       "0.5261783749438314"
      ]
     },
     "execution_count": 262,
     "metadata": {},
     "output_type": "execute_result"
    }
   ],
   "source": [
    "# Calculated the balanced accuracy score\n",
    "from sklearn.metrics import balanced_accuracy_score\n",
    "y_pred_ros = model_ros.predict(X_test)\n",
    "balanced_accuracy_score(y_test, y_pred_ros)"
   ]
  },
  {
   "cell_type": "code",
   "execution_count": 263,
   "id": "69558368",
   "metadata": {},
   "outputs": [
    {
     "data": {
      "text/plain": [
       "array([[2162,  660],\n",
       "       [3339, 1339]], dtype=int64)"
      ]
     },
     "execution_count": 263,
     "metadata": {},
     "output_type": "execute_result"
    }
   ],
   "source": [
    "# Display the confusion matrix\n",
    "from sklearn.metrics import confusion_matrix\n",
    "confusion_matrix(y_test, y_pred_ros)"
   ]
  },
  {
   "cell_type": "code",
   "execution_count": 264,
   "id": "55e1c41c",
   "metadata": {},
   "outputs": [
    {
     "name": "stdout",
     "output_type": "stream",
     "text": [
      "                   pre       rec       spe        f1       geo       iba       sup\n",
      "\n",
      "          0       0.39      0.77      0.29      0.52      0.47      0.23      2822\n",
      "          1       0.67      0.29      0.77      0.40      0.47      0.21      4678\n",
      "\n",
      "avg / total       0.57      0.47      0.59      0.45      0.47      0.22      7500\n",
      "\n"
     ]
    }
   ],
   "source": [
    "# Print the imbalanced classification report\n",
    "from imblearn.metrics import classification_report_imbalanced\n",
    "print(classification_report_imbalanced(y_test, y_pred_ros))"
   ]
  },
  {
   "cell_type": "markdown",
   "id": "bd9e6e0e",
   "metadata": {},
   "source": [
    "### SMOTE"
   ]
  },
  {
   "cell_type": "code",
   "execution_count": 265,
   "id": "486c463c",
   "metadata": {},
   "outputs": [],
   "source": [
    "# Resample the training data with SMOTE\n",
    "from imblearn.over_sampling import SMOTE\n",
    "smote = SMOTE(random_state=1, sampling_strategy='auto')\n",
    "X_resampled_smote, y_resampled_smote = smote.fit_resample(X_train, y_train)"
   ]
  },
  {
   "cell_type": "code",
   "execution_count": 266,
   "id": "2562cf25",
   "metadata": {},
   "outputs": [
    {
     "data": {
      "text/plain": [
       "LogisticRegression(random_state=1)"
      ]
     },
     "execution_count": 266,
     "metadata": {},
     "output_type": "execute_result"
    }
   ],
   "source": [
    "# Train the Logistic Regression model using the resampled data\n",
    "model_smote = LogisticRegression(solver='lbfgs', random_state=1)\n",
    "model_smote.fit(X_resampled_smote, y_resampled_smote)"
   ]
  },
  {
   "cell_type": "code",
   "execution_count": 267,
   "id": "81bb050e",
   "metadata": {},
   "outputs": [
    {
     "data": {
      "text/plain": [
       "0.5390330782173535"
      ]
     },
     "execution_count": 267,
     "metadata": {},
     "output_type": "execute_result"
    }
   ],
   "source": [
    "# Calculated the balanced accuracy score\n",
    "y_pred_smote = model_smote.predict(X_test)\n",
    "balanced_accuracy_score(y_test, y_pred_smote)"
   ]
  },
  {
   "cell_type": "code",
   "execution_count": 268,
   "id": "39121bc9",
   "metadata": {},
   "outputs": [
    {
     "data": {
      "text/plain": [
       "array([[2392,  430],\n",
       "       [3600, 1078]], dtype=int64)"
      ]
     },
     "execution_count": 268,
     "metadata": {},
     "output_type": "execute_result"
    }
   ],
   "source": [
    "# Display the confusion matrix\n",
    "confusion_matrix(y_test, y_pred_smote)"
   ]
  },
  {
   "cell_type": "code",
   "execution_count": 269,
   "id": "3a418136",
   "metadata": {},
   "outputs": [
    {
     "name": "stdout",
     "output_type": "stream",
     "text": [
      "                   pre       rec       spe        f1       geo       iba       sup\n",
      "\n",
      "          0       0.40      0.85      0.23      0.54      0.44      0.21      2822\n",
      "          1       0.71      0.23      0.85      0.35      0.44      0.18      4678\n",
      "\n",
      "avg / total       0.60      0.46      0.62      0.42      0.44      0.19      7500\n",
      "\n"
     ]
    }
   ],
   "source": [
    "# Print the imbalanced classification report\n",
    "print(classification_report_imbalanced(y_test, y_pred_smote))"
   ]
  },
  {
   "cell_type": "markdown",
   "id": "f17741da",
   "metadata": {},
   "source": [
    "### Cluster Centroids"
   ]
  },
  {
   "cell_type": "code",
   "execution_count": 270,
   "id": "11dbd14d",
   "metadata": {},
   "outputs": [],
   "source": [
    "# Resample the data using the ClusterCentroids resampler\n",
    "# Warning: This is a large dataset, and this step may take some time to complete\n",
    "from imblearn.under_sampling import ClusterCentroids\n",
    "cc = ClusterCentroids(random_state=1)\n",
    "X_resampled_cc, y_resampled_cc = cc.fit_resample(X_train, y_train)"
   ]
  },
  {
   "cell_type": "code",
   "execution_count": 271,
   "id": "92371805",
   "metadata": {},
   "outputs": [
    {
     "data": {
      "text/plain": [
       "LogisticRegression(random_state=1)"
      ]
     },
     "execution_count": 271,
     "metadata": {},
     "output_type": "execute_result"
    }
   ],
   "source": [
    "# Train the Logistic Regression model using the resampled data\n",
    "model_cc = LogisticRegression(solver='lbfgs', random_state=1)\n",
    "model_cc.fit(X_resampled_cc, y_resampled_cc)"
   ]
  },
  {
   "cell_type": "code",
   "execution_count": 272,
   "id": "d328b12f",
   "metadata": {},
   "outputs": [
    {
     "data": {
      "text/plain": [
       "0.5452323086577127"
      ]
     },
     "execution_count": 272,
     "metadata": {},
     "output_type": "execute_result"
    }
   ],
   "source": [
    "# Calculated the balanced accuracy score\n",
    "y_pred_cc = model_cc.predict(X_test)\n",
    "balanced_accuracy_score(y_test, y_pred_cc)"
   ]
  },
  {
   "cell_type": "code",
   "execution_count": 273,
   "id": "b0289439",
   "metadata": {},
   "outputs": [
    {
     "data": {
      "text/plain": [
       "array([[2392,  430],\n",
       "       [3542, 1136]], dtype=int64)"
      ]
     },
     "execution_count": 273,
     "metadata": {},
     "output_type": "execute_result"
    }
   ],
   "source": [
    "# Display the confusion matrix\n",
    "confusion_matrix(y_test, y_pred_cc)"
   ]
  },
  {
   "cell_type": "code",
   "execution_count": 274,
   "id": "c95795f9",
   "metadata": {},
   "outputs": [
    {
     "name": "stdout",
     "output_type": "stream",
     "text": [
      "                   pre       rec       spe        f1       geo       iba       sup\n",
      "\n",
      "          0       0.40      0.85      0.24      0.55      0.45      0.22      2822\n",
      "          1       0.73      0.24      0.85      0.36      0.45      0.19      4678\n",
      "\n",
      "avg / total       0.60      0.47      0.62      0.43      0.45      0.20      7500\n",
      "\n"
     ]
    }
   ],
   "source": [
    "# Print the imbalanced classification report\n",
    "print(classification_report_imbalanced(y_test, y_pred_cc))"
   ]
  },
  {
   "cell_type": "markdown",
   "id": "b38444f8",
   "metadata": {},
   "source": [
    "### Combination (Over and Under) Sampling"
   ]
  },
  {
   "cell_type": "code",
   "execution_count": 275,
   "id": "79b853d8",
   "metadata": {},
   "outputs": [],
   "source": [
    "# Resample the training data with SMOTEENN\n",
    "# Warning: This is a large dataset, and this step may take some time to complete\n",
    "# YOUR CODE HERE\n",
    "from imblearn.combine import SMOTEENN\n",
    "smoteenn = SMOTEENN(random_state=0)\n",
    "X_resampled_smoteenn, y_resampled_smoteenn = smoteenn.fit_resample(X, y)"
   ]
  },
  {
   "cell_type": "code",
   "execution_count": 276,
   "id": "c5377b6a",
   "metadata": {},
   "outputs": [
    {
     "data": {
      "text/plain": [
       "LogisticRegression(random_state=1)"
      ]
     },
     "execution_count": 276,
     "metadata": {},
     "output_type": "execute_result"
    }
   ],
   "source": [
    "# Train the Logistic Regression model using the resampled data\n",
    "model_smoteenn = LogisticRegression(solver='lbfgs', random_state=1)\n",
    "model_smoteenn.fit(X_resampled_smoteenn, y_resampled_smoteenn)"
   ]
  },
  {
   "cell_type": "code",
   "execution_count": 277,
   "id": "a1785d6a",
   "metadata": {},
   "outputs": [
    {
     "data": {
      "text/plain": [
       "0.5261783749438314"
      ]
     },
     "execution_count": 277,
     "metadata": {},
     "output_type": "execute_result"
    }
   ],
   "source": [
    "# Calculated the balanced accuracy score\n",
    "y_pred_smoteenn = model_smoteenn.predict(X_test)\n",
    "balanced_accuracy_score(y_test, y_pred_smoteenn)"
   ]
  },
  {
   "cell_type": "code",
   "execution_count": 278,
   "id": "d76285e7",
   "metadata": {},
   "outputs": [
    {
     "data": {
      "text/plain": [
       "array([[2162,  660],\n",
       "       [3339, 1339]], dtype=int64)"
      ]
     },
     "execution_count": 278,
     "metadata": {},
     "output_type": "execute_result"
    }
   ],
   "source": [
    "# Display the confusion matrix\n",
    "confusion_matrix(y_test, y_pred_smoteenn)"
   ]
  },
  {
   "cell_type": "code",
   "execution_count": 279,
   "id": "4fbce862",
   "metadata": {},
   "outputs": [
    {
     "name": "stdout",
     "output_type": "stream",
     "text": [
      "                   pre       rec       spe        f1       geo       iba       sup\n",
      "\n",
      "          0       0.39      0.77      0.29      0.52      0.47      0.23      2822\n",
      "          1       0.67      0.29      0.77      0.40      0.47      0.21      4678\n",
      "\n",
      "avg / total       0.57      0.47      0.59      0.45      0.47      0.22      7500\n",
      "\n"
     ]
    }
   ],
   "source": [
    "# Print the imbalanced classification report\n",
    "print(classification_report_imbalanced(y_test, y_pred_smoteenn))"
   ]
  },
  {
   "cell_type": "markdown",
   "id": "beff5afd",
   "metadata": {},
   "source": [
    "# Ensemble Techniques"
   ]
  },
  {
   "cell_type": "markdown",
   "id": "588f1552",
   "metadata": {},
   "source": [
    "### Balanced Random Forest"
   ]
  },
  {
   "cell_type": "code",
   "execution_count": 280,
   "id": "26cf50d0",
   "metadata": {},
   "outputs": [
    {
     "data": {
      "text/plain": [
       "BalancedRandomForestClassifier(random_state=1)"
      ]
     },
     "execution_count": 280,
     "metadata": {},
     "output_type": "execute_result"
    }
   ],
   "source": [
    "# Resample the training data with the BalancedRandomForestClassifier\n",
    "from imblearn.ensemble import BalancedRandomForestClassifier\n",
    "brfc_model = BalancedRandomForestClassifier(n_estimators=100, random_state=1)\n",
    "brfc_model.fit(X_train, y_train)"
   ]
  },
  {
   "cell_type": "code",
   "execution_count": 281,
   "id": "c523aa20",
   "metadata": {},
   "outputs": [
    {
     "data": {
      "text/plain": [
       "1.0"
      ]
     },
     "execution_count": 281,
     "metadata": {},
     "output_type": "execute_result"
    }
   ],
   "source": [
    "# Calculated the balanced accuracy score\n",
    "y_pred_brfc = brfc_model.predict(X_test)\n",
    "balanced_accuracy_score(y_test, y_pred_brfc)"
   ]
  },
  {
   "cell_type": "code",
   "execution_count": 282,
   "id": "bfaaaa49",
   "metadata": {},
   "outputs": [
    {
     "data": {
      "text/plain": [
       "array([[2822,    0],\n",
       "       [   0, 4678]], dtype=int64)"
      ]
     },
     "execution_count": 282,
     "metadata": {},
     "output_type": "execute_result"
    }
   ],
   "source": [
    "# Display the confusion matrix\n",
    "confusion_matrix(y_test, y_pred_brfc)"
   ]
  },
  {
   "cell_type": "code",
   "execution_count": 283,
   "id": "33ab5294",
   "metadata": {},
   "outputs": [
    {
     "name": "stdout",
     "output_type": "stream",
     "text": [
      "                   pre       rec       spe        f1       geo       iba       sup\n",
      "\n",
      "          0       1.00      1.00      1.00      1.00      1.00      1.00      2822\n",
      "          1       1.00      1.00      1.00      1.00      1.00      1.00      4678\n",
      "\n",
      "avg / total       1.00      1.00      1.00      1.00      1.00      1.00      7500\n",
      "\n"
     ]
    }
   ],
   "source": [
    "# Print the imbalanced classification report\n",
    "print(classification_report_imbalanced(y_test, y_pred_brfc))"
   ]
  },
  {
   "cell_type": "code",
   "execution_count": 284,
   "id": "4f6691d2",
   "metadata": {},
   "outputs": [
    {
     "data": {
      "text/plain": [
       "[(0.4021372069048553, 'ZIP'),\n",
       " (0.29946969256982064, 'People/Sq.Mile'),\n",
       " (0.2958119688644478, 'National_Rank'),\n",
       " (0.001179080080704252, 'Safety'),\n",
       " (0.0010192444276757345, 'Domestic'),\n",
       " (0.0003828071524960761, 'Arrest')]"
      ]
     },
     "execution_count": 284,
     "metadata": {},
     "output_type": "execute_result"
    }
   ],
   "source": [
    "# List the features sorted in descending order by feature importance\n",
    "importances = brfc_model.feature_importances_\n",
    "sorted(zip(brfc_model.feature_importances_, X.columns), reverse=True)"
   ]
  },
  {
   "cell_type": "markdown",
   "id": "8f6696fd",
   "metadata": {},
   "source": [
    "### Easy Ensemble AdaBoost Classifier"
   ]
  },
  {
   "cell_type": "code",
   "execution_count": 285,
   "id": "60e8b33a",
   "metadata": {},
   "outputs": [
    {
     "data": {
      "text/plain": [
       "EasyEnsembleClassifier(n_estimators=100, random_state=1)"
      ]
     },
     "execution_count": 285,
     "metadata": {},
     "output_type": "execute_result"
    }
   ],
   "source": [
    "# Train the EasyEnsembleClassifier\n",
    "from imblearn.ensemble import EasyEnsembleClassifier\n",
    "ee_model = EasyEnsembleClassifier(n_estimators=100, random_state=1)\n",
    "ee_model.fit(X_train, y_train)\n",
    "# Train the EasyEnsembleClassifier"
   ]
  },
  {
   "cell_type": "code",
   "execution_count": 286,
   "id": "b68fe0e3",
   "metadata": {},
   "outputs": [
    {
     "data": {
      "text/plain": [
       "1.0"
      ]
     },
     "execution_count": 286,
     "metadata": {},
     "output_type": "execute_result"
    }
   ],
   "source": [
    "# Calculated the balanced accuracy score\n",
    "y_pred_ee = ee_model.predict(X_test)\n",
    "balanced_accuracy_score(y_test, y_pred_ee)"
   ]
  },
  {
   "cell_type": "code",
   "execution_count": 287,
   "id": "a8dd55fa",
   "metadata": {},
   "outputs": [
    {
     "data": {
      "text/plain": [
       "array([[2822,    0],\n",
       "       [   0, 4678]], dtype=int64)"
      ]
     },
     "execution_count": 287,
     "metadata": {},
     "output_type": "execute_result"
    }
   ],
   "source": [
    "# Display the confusion matrix\n",
    "confusion_matrix(y_test, y_pred_ee)"
   ]
  },
  {
   "cell_type": "code",
   "execution_count": 288,
   "id": "f9d84d08",
   "metadata": {},
   "outputs": [
    {
     "name": "stdout",
     "output_type": "stream",
     "text": [
      "                   pre       rec       spe        f1       geo       iba       sup\n",
      "\n",
      "          0       1.00      1.00      1.00      1.00      1.00      1.00      2822\n",
      "          1       1.00      1.00      1.00      1.00      1.00      1.00      4678\n",
      "\n",
      "avg / total       1.00      1.00      1.00      1.00      1.00      1.00      7500\n",
      "\n"
     ]
    }
   ],
   "source": [
    "# Print the imbalanced classification report\n",
    "print(classification_report_imbalanced(y_test, y_pred_ee))"
   ]
  }
 ],
 "metadata": {
  "kernelspec": {
   "display_name": "mlenv",
   "language": "python",
   "name": "mlenv"
  },
  "language_info": {
   "codemirror_mode": {
    "name": "ipython",
    "version": 3
   },
   "file_extension": ".py",
   "mimetype": "text/x-python",
   "name": "python",
   "nbconvert_exporter": "python",
   "pygments_lexer": "ipython3",
   "version": "3.7.13"
  }
 },
 "nbformat": 4,
 "nbformat_minor": 5
}
