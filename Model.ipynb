{
 "cells": [
  {
   "cell_type": "code",
   "execution_count": 276,
   "id": "e638eb45",
   "metadata": {},
   "outputs": [],
   "source": [
    "import warnings\n",
    "warnings.filterwarnings('ignore')"
   ]
  },
  {
   "cell_type": "code",
   "execution_count": 277,
   "id": "8b26bb37",
   "metadata": {},
   "outputs": [],
   "source": [
    "import numpy as np\n",
    "import pandas as pd\n",
    "from pathlib import Path\n",
    "from collections import Counter\n",
    "from sklearn.preprocessing import StandardScaler,OneHotEncoder\n",
    "from sklearn.model_selection import train_test_split"
   ]
  },
  {
   "cell_type": "code",
   "execution_count": 278,
   "id": "36c8c794",
   "metadata": {},
   "outputs": [
    {
     "data": {
      "text/html": [
       "<div>\n",
       "<style scoped>\n",
       "    .dataframe tbody tr th:only-of-type {\n",
       "        vertical-align: middle;\n",
       "    }\n",
       "\n",
       "    .dataframe tbody tr th {\n",
       "        vertical-align: top;\n",
       "    }\n",
       "\n",
       "    .dataframe thead th {\n",
       "        text-align: right;\n",
       "    }\n",
       "</style>\n",
       "<table border=\"1\" class=\"dataframe\">\n",
       "  <thead>\n",
       "    <tr style=\"text-align: right;\">\n",
       "      <th></th>\n",
       "      <th>Unnamed: 0</th>\n",
       "      <th>ZIP</th>\n",
       "      <th>Ward</th>\n",
       "      <th>Primary_Type</th>\n",
       "      <th>rankings</th>\n",
       "      <th>Latitude</th>\n",
       "      <th>Longitude</th>\n",
       "      <th>Arrest</th>\n",
       "      <th>Domestic</th>\n",
       "      <th>Population</th>\n",
       "      <th>People/Sq.Mile</th>\n",
       "      <th>National_Rank</th>\n",
       "      <th>state</th>\n",
       "      <th>location</th>\n",
       "      <th>address</th>\n",
       "      <th>chip_latitude</th>\n",
       "      <th>chip_longitude</th>\n",
       "      <th>chipotle</th>\n",
       "      <th>Safety</th>\n",
       "    </tr>\n",
       "  </thead>\n",
       "  <tbody>\n",
       "    <tr>\n",
       "      <th>0</th>\n",
       "      <td>0</td>\n",
       "      <td>60601</td>\n",
       "      <td>27</td>\n",
       "      <td>THEFT</td>\n",
       "      <td>3</td>\n",
       "      <td>NaN</td>\n",
       "      <td>NaN</td>\n",
       "      <td>False</td>\n",
       "      <td>False</td>\n",
       "      <td>5,591</td>\n",
       "      <td>17,101.15</td>\n",
       "      <td>#271</td>\n",
       "      <td>Illinois</td>\n",
       "      <td>Chicago</td>\n",
       "      <td>316 N Michigan Ave Chicago, IL 60601 US</td>\n",
       "      <td>41.887288</td>\n",
       "      <td>-87.624848</td>\n",
       "      <td>1</td>\n",
       "      <td>Bad</td>\n",
       "    </tr>\n",
       "    <tr>\n",
       "      <th>1</th>\n",
       "      <td>1</td>\n",
       "      <td>60601</td>\n",
       "      <td>27</td>\n",
       "      <td>CRIMINAL DAMAGE</td>\n",
       "      <td>4</td>\n",
       "      <td>41.883932</td>\n",
       "      <td>-87.679964</td>\n",
       "      <td>False</td>\n",
       "      <td>False</td>\n",
       "      <td>5,591</td>\n",
       "      <td>17,101.15</td>\n",
       "      <td>#271</td>\n",
       "      <td>Illinois</td>\n",
       "      <td>Chicago</td>\n",
       "      <td>316 N Michigan Ave Chicago, IL 60601 US</td>\n",
       "      <td>41.887288</td>\n",
       "      <td>-87.624848</td>\n",
       "      <td>1</td>\n",
       "      <td>Bad</td>\n",
       "    </tr>\n",
       "    <tr>\n",
       "      <th>2</th>\n",
       "      <td>2</td>\n",
       "      <td>60601</td>\n",
       "      <td>27</td>\n",
       "      <td>THEFT</td>\n",
       "      <td>3</td>\n",
       "      <td>41.896569</td>\n",
       "      <td>-87.636063</td>\n",
       "      <td>False</td>\n",
       "      <td>False</td>\n",
       "      <td>5,591</td>\n",
       "      <td>17,101.15</td>\n",
       "      <td>#271</td>\n",
       "      <td>Illinois</td>\n",
       "      <td>Chicago</td>\n",
       "      <td>316 N Michigan Ave Chicago, IL 60601 US</td>\n",
       "      <td>41.887288</td>\n",
       "      <td>-87.624848</td>\n",
       "      <td>1</td>\n",
       "      <td>Bad</td>\n",
       "    </tr>\n",
       "    <tr>\n",
       "      <th>3</th>\n",
       "      <td>3</td>\n",
       "      <td>60601</td>\n",
       "      <td>27</td>\n",
       "      <td>SEX OFFENSE</td>\n",
       "      <td>3</td>\n",
       "      <td>41.883937</td>\n",
       "      <td>-87.683368</td>\n",
       "      <td>True</td>\n",
       "      <td>False</td>\n",
       "      <td>5,591</td>\n",
       "      <td>17,101.15</td>\n",
       "      <td>#271</td>\n",
       "      <td>Illinois</td>\n",
       "      <td>Chicago</td>\n",
       "      <td>316 N Michigan Ave Chicago, IL 60601 US</td>\n",
       "      <td>41.887288</td>\n",
       "      <td>-87.624848</td>\n",
       "      <td>1</td>\n",
       "      <td>Bad</td>\n",
       "    </tr>\n",
       "    <tr>\n",
       "      <th>4</th>\n",
       "      <td>4</td>\n",
       "      <td>60601</td>\n",
       "      <td>27</td>\n",
       "      <td>NARCOTICS</td>\n",
       "      <td>4</td>\n",
       "      <td>41.892856</td>\n",
       "      <td>-87.710137</td>\n",
       "      <td>True</td>\n",
       "      <td>False</td>\n",
       "      <td>5,591</td>\n",
       "      <td>17,101.15</td>\n",
       "      <td>#271</td>\n",
       "      <td>Illinois</td>\n",
       "      <td>Chicago</td>\n",
       "      <td>316 N Michigan Ave Chicago, IL 60601 US</td>\n",
       "      <td>41.887288</td>\n",
       "      <td>-87.624848</td>\n",
       "      <td>1</td>\n",
       "      <td>Bad</td>\n",
       "    </tr>\n",
       "  </tbody>\n",
       "</table>\n",
       "</div>"
      ],
      "text/plain": [
       "   Unnamed: 0    ZIP  Ward     Primary_Type  rankings   Latitude  Longitude  \\\n",
       "0           0  60601    27            THEFT         3        NaN        NaN   \n",
       "1           1  60601    27  CRIMINAL DAMAGE         4  41.883932 -87.679964   \n",
       "2           2  60601    27            THEFT         3  41.896569 -87.636063   \n",
       "3           3  60601    27      SEX OFFENSE         3  41.883937 -87.683368   \n",
       "4           4  60601    27        NARCOTICS         4  41.892856 -87.710137   \n",
       "\n",
       "   Arrest  Domestic Population People/Sq.Mile National_Rank     state  \\\n",
       "0   False     False      5,591      17,101.15          #271  Illinois   \n",
       "1   False     False      5,591      17,101.15          #271  Illinois   \n",
       "2   False     False      5,591      17,101.15          #271  Illinois   \n",
       "3    True     False      5,591      17,101.15          #271  Illinois   \n",
       "4    True     False      5,591      17,101.15          #271  Illinois   \n",
       "\n",
       "  location                                  address  chip_latitude  \\\n",
       "0  Chicago  316 N Michigan Ave Chicago, IL 60601 US      41.887288   \n",
       "1  Chicago  316 N Michigan Ave Chicago, IL 60601 US      41.887288   \n",
       "2  Chicago  316 N Michigan Ave Chicago, IL 60601 US      41.887288   \n",
       "3  Chicago  316 N Michigan Ave Chicago, IL 60601 US      41.887288   \n",
       "4  Chicago  316 N Michigan Ave Chicago, IL 60601 US      41.887288   \n",
       "\n",
       "   chip_longitude  chipotle Safety  \n",
       "0      -87.624848         1    Bad  \n",
       "1      -87.624848         1    Bad  \n",
       "2      -87.624848         1    Bad  \n",
       "3      -87.624848         1    Bad  \n",
       "4      -87.624848         1    Bad  "
      ]
     },
     "execution_count": 278,
     "metadata": {},
     "output_type": "execute_result"
    }
   ],
   "source": [
    "cleaned_crime = pd.read_csv('Resources/crime_chip_for_model.csv')\n",
    "cleaned_crime.head()"
   ]
  },
  {
   "cell_type": "code",
   "execution_count": 279,
   "id": "08fae94d",
   "metadata": {},
   "outputs": [
    {
     "data": {
      "text/html": [
       "<div>\n",
       "<style scoped>\n",
       "    .dataframe tbody tr th:only-of-type {\n",
       "        vertical-align: middle;\n",
       "    }\n",
       "\n",
       "    .dataframe tbody tr th {\n",
       "        vertical-align: top;\n",
       "    }\n",
       "\n",
       "    .dataframe thead th {\n",
       "        text-align: right;\n",
       "    }\n",
       "</style>\n",
       "<table border=\"1\" class=\"dataframe\">\n",
       "  <thead>\n",
       "    <tr style=\"text-align: right;\">\n",
       "      <th></th>\n",
       "      <th>ZIP</th>\n",
       "      <th>Ward</th>\n",
       "      <th>Primary_Type</th>\n",
       "      <th>rankings</th>\n",
       "      <th>Latitude</th>\n",
       "      <th>Longitude</th>\n",
       "      <th>Arrest</th>\n",
       "      <th>Domestic</th>\n",
       "      <th>Population</th>\n",
       "      <th>People/Sq.Mile</th>\n",
       "      <th>National_Rank</th>\n",
       "      <th>chip_latitude</th>\n",
       "      <th>chip_longitude</th>\n",
       "      <th>chipotle</th>\n",
       "      <th>Safety</th>\n",
       "    </tr>\n",
       "  </thead>\n",
       "  <tbody>\n",
       "    <tr>\n",
       "      <th>1</th>\n",
       "      <td>60601</td>\n",
       "      <td>27</td>\n",
       "      <td>CRIMINAL DAMAGE</td>\n",
       "      <td>4</td>\n",
       "      <td>41.883932</td>\n",
       "      <td>-87.679964</td>\n",
       "      <td>False</td>\n",
       "      <td>False</td>\n",
       "      <td>5591</td>\n",
       "      <td>17101.15</td>\n",
       "      <td>271</td>\n",
       "      <td>41.887288</td>\n",
       "      <td>-87.624848</td>\n",
       "      <td>1</td>\n",
       "      <td>Bad</td>\n",
       "    </tr>\n",
       "    <tr>\n",
       "      <th>2</th>\n",
       "      <td>60601</td>\n",
       "      <td>27</td>\n",
       "      <td>THEFT</td>\n",
       "      <td>3</td>\n",
       "      <td>41.896569</td>\n",
       "      <td>-87.636063</td>\n",
       "      <td>False</td>\n",
       "      <td>False</td>\n",
       "      <td>5591</td>\n",
       "      <td>17101.15</td>\n",
       "      <td>271</td>\n",
       "      <td>41.887288</td>\n",
       "      <td>-87.624848</td>\n",
       "      <td>1</td>\n",
       "      <td>Bad</td>\n",
       "    </tr>\n",
       "    <tr>\n",
       "      <th>3</th>\n",
       "      <td>60601</td>\n",
       "      <td>27</td>\n",
       "      <td>SEX OFFENSE</td>\n",
       "      <td>3</td>\n",
       "      <td>41.883937</td>\n",
       "      <td>-87.683368</td>\n",
       "      <td>True</td>\n",
       "      <td>False</td>\n",
       "      <td>5591</td>\n",
       "      <td>17101.15</td>\n",
       "      <td>271</td>\n",
       "      <td>41.887288</td>\n",
       "      <td>-87.624848</td>\n",
       "      <td>1</td>\n",
       "      <td>Bad</td>\n",
       "    </tr>\n",
       "    <tr>\n",
       "      <th>4</th>\n",
       "      <td>60601</td>\n",
       "      <td>27</td>\n",
       "      <td>NARCOTICS</td>\n",
       "      <td>4</td>\n",
       "      <td>41.892856</td>\n",
       "      <td>-87.710137</td>\n",
       "      <td>True</td>\n",
       "      <td>False</td>\n",
       "      <td>5591</td>\n",
       "      <td>17101.15</td>\n",
       "      <td>271</td>\n",
       "      <td>41.887288</td>\n",
       "      <td>-87.624848</td>\n",
       "      <td>1</td>\n",
       "      <td>Bad</td>\n",
       "    </tr>\n",
       "    <tr>\n",
       "      <th>5</th>\n",
       "      <td>60601</td>\n",
       "      <td>27</td>\n",
       "      <td>OFFENSE INVOLVING CHILDREN</td>\n",
       "      <td>7</td>\n",
       "      <td>41.901683</td>\n",
       "      <td>-87.718962</td>\n",
       "      <td>False</td>\n",
       "      <td>True</td>\n",
       "      <td>5591</td>\n",
       "      <td>17101.15</td>\n",
       "      <td>271</td>\n",
       "      <td>41.887288</td>\n",
       "      <td>-87.624848</td>\n",
       "      <td>1</td>\n",
       "      <td>Bad</td>\n",
       "    </tr>\n",
       "  </tbody>\n",
       "</table>\n",
       "</div>"
      ],
      "text/plain": [
       "     ZIP  Ward                Primary_Type  rankings   Latitude  Longitude  \\\n",
       "1  60601    27             CRIMINAL DAMAGE         4  41.883932 -87.679964   \n",
       "2  60601    27                       THEFT         3  41.896569 -87.636063   \n",
       "3  60601    27                 SEX OFFENSE         3  41.883937 -87.683368   \n",
       "4  60601    27                   NARCOTICS         4  41.892856 -87.710137   \n",
       "5  60601    27  OFFENSE INVOLVING CHILDREN         7  41.901683 -87.718962   \n",
       "\n",
       "   Arrest  Domestic  Population  People/Sq.Mile  National_Rank  chip_latitude  \\\n",
       "1   False     False        5591        17101.15            271      41.887288   \n",
       "2   False     False        5591        17101.15            271      41.887288   \n",
       "3    True     False        5591        17101.15            271      41.887288   \n",
       "4    True     False        5591        17101.15            271      41.887288   \n",
       "5   False      True        5591        17101.15            271      41.887288   \n",
       "\n",
       "   chip_longitude  chipotle Safety  \n",
       "1      -87.624848         1    Bad  \n",
       "2      -87.624848         1    Bad  \n",
       "3      -87.624848         1    Bad  \n",
       "4      -87.624848         1    Bad  \n",
       "5      -87.624848         1    Bad  "
      ]
     },
     "execution_count": 279,
     "metadata": {},
     "output_type": "execute_result"
    }
   ],
   "source": [
    "cleaned_crime = cleaned_crime.drop(columns=['Unnamed: 0', 'state', 'location', 'address'])\n",
    "cleaned_crime = cleaned_crime.dropna()\n",
    "cleaned_crime['National_Rank'] = cleaned_crime['National_Rank'].str.replace('#', '')\n",
    "cleaned_crime['National_Rank'] = cleaned_crime['National_Rank'].str.replace(',', '')\n",
    "cleaned_crime['National_Rank'] = cleaned_crime['National_Rank'].astype('int')\n",
    "cleaned_crime['People/Sq.Mile'] = cleaned_crime['People/Sq.Mile'].str.replace(',', '')\n",
    "cleaned_crime['People/Sq.Mile'] = cleaned_crime['People/Sq.Mile'].astype('float')\n",
    "cleaned_crime['Population'] = cleaned_crime['Population'].str.replace(',', '')\n",
    "cleaned_crime['Population'] = cleaned_crime['Population'].astype('int')\n",
    "cleaned_crime.head()"
   ]
  },
  {
   "cell_type": "code",
   "execution_count": 280,
   "id": "24d173fa",
   "metadata": {},
   "outputs": [],
   "source": [
    "primary_type = cleaned_crime.Primary_Type.value_counts()"
   ]
  },
  {
   "cell_type": "code",
   "execution_count": 281,
   "id": "21a2be29",
   "metadata": {},
   "outputs": [
    {
     "data": {
      "text/plain": [
       "BATTERY                15820\n",
       "THEFT                  14747\n",
       "CRIMINAL DAMAGE         9184\n",
       "ASSAULT                 6521\n",
       "OTHER OFFENSE           4639\n",
       "DECEPTIVE PRACTICE      4575\n",
       "BURGLARY                3528\n",
       "Other                   3243\n",
       "MOTOR VEHICLE THEFT     3151\n",
       "NARCOTICS               2890\n",
       "WEAPONS VIOLATION       2689\n",
       "ROBBERY                 2512\n",
       "CRIMINAL TRESPASS       1611\n",
       "Name: Primary_Type, dtype: int64"
      ]
     },
     "execution_count": 281,
     "metadata": {},
     "output_type": "execute_result"
    }
   ],
   "source": [
    "# Determine which values to replace if counts are less than ...?\n",
    "replace_primary = list(primary_type[primary_type < 1000].index)\n",
    "\n",
    "# Replace in dataframe\n",
    "for primary in replace_primary:\n",
    "    cleaned_crime.Primary_Type = cleaned_crime.Primary_Type.replace(primary,\"Other\")\n",
    "    \n",
    "# Check to make sure binning was successful\n",
    "cleaned_crime.Primary_Type.value_counts()"
   ]
  },
  {
   "cell_type": "code",
   "execution_count": 282,
   "id": "17a4b3e2",
   "metadata": {},
   "outputs": [],
   "source": [
    "# Generate our categorical variable lists\n",
    "crime_obj = list(cleaned_crime.dtypes[cleaned_crime.dtypes == 'object'].index)"
   ]
  },
  {
   "cell_type": "code",
   "execution_count": 283,
   "id": "1c609de1",
   "metadata": {},
   "outputs": [
    {
     "data": {
      "text/html": [
       "<div>\n",
       "<style scoped>\n",
       "    .dataframe tbody tr th:only-of-type {\n",
       "        vertical-align: middle;\n",
       "    }\n",
       "\n",
       "    .dataframe tbody tr th {\n",
       "        vertical-align: top;\n",
       "    }\n",
       "\n",
       "    .dataframe thead th {\n",
       "        text-align: right;\n",
       "    }\n",
       "</style>\n",
       "<table border=\"1\" class=\"dataframe\">\n",
       "  <thead>\n",
       "    <tr style=\"text-align: right;\">\n",
       "      <th></th>\n",
       "      <th>Primary_Type_ASSAULT</th>\n",
       "      <th>Primary_Type_BATTERY</th>\n",
       "      <th>Primary_Type_BURGLARY</th>\n",
       "      <th>Primary_Type_CRIMINAL DAMAGE</th>\n",
       "      <th>Primary_Type_CRIMINAL TRESPASS</th>\n",
       "      <th>Primary_Type_DECEPTIVE PRACTICE</th>\n",
       "      <th>Primary_Type_MOTOR VEHICLE THEFT</th>\n",
       "      <th>Primary_Type_NARCOTICS</th>\n",
       "      <th>Primary_Type_OTHER OFFENSE</th>\n",
       "      <th>Primary_Type_Other</th>\n",
       "      <th>Primary_Type_ROBBERY</th>\n",
       "      <th>Primary_Type_THEFT</th>\n",
       "      <th>Primary_Type_WEAPONS VIOLATION</th>\n",
       "      <th>Safety_Bad</th>\n",
       "      <th>Safety_Good</th>\n",
       "    </tr>\n",
       "  </thead>\n",
       "  <tbody>\n",
       "    <tr>\n",
       "      <th>0</th>\n",
       "      <td>0.0</td>\n",
       "      <td>0.0</td>\n",
       "      <td>0.0</td>\n",
       "      <td>1.0</td>\n",
       "      <td>0.0</td>\n",
       "      <td>0.0</td>\n",
       "      <td>0.0</td>\n",
       "      <td>0.0</td>\n",
       "      <td>0.0</td>\n",
       "      <td>0.0</td>\n",
       "      <td>0.0</td>\n",
       "      <td>0.0</td>\n",
       "      <td>0.0</td>\n",
       "      <td>1.0</td>\n",
       "      <td>0.0</td>\n",
       "    </tr>\n",
       "    <tr>\n",
       "      <th>1</th>\n",
       "      <td>0.0</td>\n",
       "      <td>0.0</td>\n",
       "      <td>0.0</td>\n",
       "      <td>0.0</td>\n",
       "      <td>0.0</td>\n",
       "      <td>0.0</td>\n",
       "      <td>0.0</td>\n",
       "      <td>0.0</td>\n",
       "      <td>0.0</td>\n",
       "      <td>0.0</td>\n",
       "      <td>0.0</td>\n",
       "      <td>1.0</td>\n",
       "      <td>0.0</td>\n",
       "      <td>1.0</td>\n",
       "      <td>0.0</td>\n",
       "    </tr>\n",
       "    <tr>\n",
       "      <th>2</th>\n",
       "      <td>0.0</td>\n",
       "      <td>0.0</td>\n",
       "      <td>0.0</td>\n",
       "      <td>0.0</td>\n",
       "      <td>0.0</td>\n",
       "      <td>0.0</td>\n",
       "      <td>0.0</td>\n",
       "      <td>0.0</td>\n",
       "      <td>0.0</td>\n",
       "      <td>1.0</td>\n",
       "      <td>0.0</td>\n",
       "      <td>0.0</td>\n",
       "      <td>0.0</td>\n",
       "      <td>1.0</td>\n",
       "      <td>0.0</td>\n",
       "    </tr>\n",
       "    <tr>\n",
       "      <th>3</th>\n",
       "      <td>0.0</td>\n",
       "      <td>0.0</td>\n",
       "      <td>0.0</td>\n",
       "      <td>0.0</td>\n",
       "      <td>0.0</td>\n",
       "      <td>0.0</td>\n",
       "      <td>0.0</td>\n",
       "      <td>1.0</td>\n",
       "      <td>0.0</td>\n",
       "      <td>0.0</td>\n",
       "      <td>0.0</td>\n",
       "      <td>0.0</td>\n",
       "      <td>0.0</td>\n",
       "      <td>1.0</td>\n",
       "      <td>0.0</td>\n",
       "    </tr>\n",
       "    <tr>\n",
       "      <th>4</th>\n",
       "      <td>0.0</td>\n",
       "      <td>0.0</td>\n",
       "      <td>0.0</td>\n",
       "      <td>0.0</td>\n",
       "      <td>0.0</td>\n",
       "      <td>0.0</td>\n",
       "      <td>0.0</td>\n",
       "      <td>0.0</td>\n",
       "      <td>0.0</td>\n",
       "      <td>1.0</td>\n",
       "      <td>0.0</td>\n",
       "      <td>0.0</td>\n",
       "      <td>0.0</td>\n",
       "      <td>1.0</td>\n",
       "      <td>0.0</td>\n",
       "    </tr>\n",
       "  </tbody>\n",
       "</table>\n",
       "</div>"
      ],
      "text/plain": [
       "   Primary_Type_ASSAULT  Primary_Type_BATTERY  Primary_Type_BURGLARY  \\\n",
       "0                   0.0                   0.0                    0.0   \n",
       "1                   0.0                   0.0                    0.0   \n",
       "2                   0.0                   0.0                    0.0   \n",
       "3                   0.0                   0.0                    0.0   \n",
       "4                   0.0                   0.0                    0.0   \n",
       "\n",
       "   Primary_Type_CRIMINAL DAMAGE  Primary_Type_CRIMINAL TRESPASS  \\\n",
       "0                           1.0                             0.0   \n",
       "1                           0.0                             0.0   \n",
       "2                           0.0                             0.0   \n",
       "3                           0.0                             0.0   \n",
       "4                           0.0                             0.0   \n",
       "\n",
       "   Primary_Type_DECEPTIVE PRACTICE  Primary_Type_MOTOR VEHICLE THEFT  \\\n",
       "0                              0.0                               0.0   \n",
       "1                              0.0                               0.0   \n",
       "2                              0.0                               0.0   \n",
       "3                              0.0                               0.0   \n",
       "4                              0.0                               0.0   \n",
       "\n",
       "   Primary_Type_NARCOTICS  Primary_Type_OTHER OFFENSE  Primary_Type_Other  \\\n",
       "0                     0.0                         0.0                 0.0   \n",
       "1                     0.0                         0.0                 0.0   \n",
       "2                     0.0                         0.0                 1.0   \n",
       "3                     1.0                         0.0                 0.0   \n",
       "4                     0.0                         0.0                 1.0   \n",
       "\n",
       "   Primary_Type_ROBBERY  Primary_Type_THEFT  Primary_Type_WEAPONS VIOLATION  \\\n",
       "0                   0.0                 0.0                             0.0   \n",
       "1                   0.0                 1.0                             0.0   \n",
       "2                   0.0                 0.0                             0.0   \n",
       "3                   0.0                 0.0                             0.0   \n",
       "4                   0.0                 0.0                             0.0   \n",
       "\n",
       "   Safety_Bad  Safety_Good  \n",
       "0         1.0          0.0  \n",
       "1         1.0          0.0  \n",
       "2         1.0          0.0  \n",
       "3         1.0          0.0  \n",
       "4         1.0          0.0  "
      ]
     },
     "execution_count": 283,
     "metadata": {},
     "output_type": "execute_result"
    }
   ],
   "source": [
    "# Create a OneHotEncoder instance\n",
    "enc = OneHotEncoder(sparse=False)\n",
    "\n",
    "# Fit and transform the OneHotEncoder using the categorical variable list\n",
    "encode_df = pd.DataFrame(enc.fit_transform(cleaned_crime[crime_obj]))\n",
    "\n",
    "# Add the encoded variable names to the dataframe\n",
    "encode_df.columns = enc.get_feature_names(crime_obj)\n",
    "encode_df.head()"
   ]
  },
  {
   "cell_type": "code",
   "execution_count": 284,
   "id": "c5429b58",
   "metadata": {},
   "outputs": [
    {
     "data": {
      "text/html": [
       "<div>\n",
       "<style scoped>\n",
       "    .dataframe tbody tr th:only-of-type {\n",
       "        vertical-align: middle;\n",
       "    }\n",
       "\n",
       "    .dataframe tbody tr th {\n",
       "        vertical-align: top;\n",
       "    }\n",
       "\n",
       "    .dataframe thead th {\n",
       "        text-align: right;\n",
       "    }\n",
       "</style>\n",
       "<table border=\"1\" class=\"dataframe\">\n",
       "  <thead>\n",
       "    <tr style=\"text-align: right;\">\n",
       "      <th></th>\n",
       "      <th>ZIP</th>\n",
       "      <th>Ward</th>\n",
       "      <th>rankings</th>\n",
       "      <th>Latitude</th>\n",
       "      <th>Longitude</th>\n",
       "      <th>Arrest</th>\n",
       "      <th>Domestic</th>\n",
       "      <th>Population</th>\n",
       "      <th>People/Sq.Mile</th>\n",
       "      <th>National_Rank</th>\n",
       "      <th>...</th>\n",
       "      <th>Primary_Type_DECEPTIVE PRACTICE</th>\n",
       "      <th>Primary_Type_MOTOR VEHICLE THEFT</th>\n",
       "      <th>Primary_Type_NARCOTICS</th>\n",
       "      <th>Primary_Type_OTHER OFFENSE</th>\n",
       "      <th>Primary_Type_Other</th>\n",
       "      <th>Primary_Type_ROBBERY</th>\n",
       "      <th>Primary_Type_THEFT</th>\n",
       "      <th>Primary_Type_WEAPONS VIOLATION</th>\n",
       "      <th>Safety_Bad</th>\n",
       "      <th>Safety_Good</th>\n",
       "    </tr>\n",
       "  </thead>\n",
       "  <tbody>\n",
       "    <tr>\n",
       "      <th>1</th>\n",
       "      <td>60601</td>\n",
       "      <td>27</td>\n",
       "      <td>4</td>\n",
       "      <td>41.883932</td>\n",
       "      <td>-87.679964</td>\n",
       "      <td>False</td>\n",
       "      <td>False</td>\n",
       "      <td>5591</td>\n",
       "      <td>17101.15</td>\n",
       "      <td>271</td>\n",
       "      <td>...</td>\n",
       "      <td>0.0</td>\n",
       "      <td>0.0</td>\n",
       "      <td>0.0</td>\n",
       "      <td>0.0</td>\n",
       "      <td>0.0</td>\n",
       "      <td>0.0</td>\n",
       "      <td>1.0</td>\n",
       "      <td>0.0</td>\n",
       "      <td>1.0</td>\n",
       "      <td>0.0</td>\n",
       "    </tr>\n",
       "    <tr>\n",
       "      <th>2</th>\n",
       "      <td>60601</td>\n",
       "      <td>27</td>\n",
       "      <td>3</td>\n",
       "      <td>41.896569</td>\n",
       "      <td>-87.636063</td>\n",
       "      <td>False</td>\n",
       "      <td>False</td>\n",
       "      <td>5591</td>\n",
       "      <td>17101.15</td>\n",
       "      <td>271</td>\n",
       "      <td>...</td>\n",
       "      <td>0.0</td>\n",
       "      <td>0.0</td>\n",
       "      <td>0.0</td>\n",
       "      <td>0.0</td>\n",
       "      <td>1.0</td>\n",
       "      <td>0.0</td>\n",
       "      <td>0.0</td>\n",
       "      <td>0.0</td>\n",
       "      <td>1.0</td>\n",
       "      <td>0.0</td>\n",
       "    </tr>\n",
       "    <tr>\n",
       "      <th>3</th>\n",
       "      <td>60601</td>\n",
       "      <td>27</td>\n",
       "      <td>3</td>\n",
       "      <td>41.883937</td>\n",
       "      <td>-87.683368</td>\n",
       "      <td>True</td>\n",
       "      <td>False</td>\n",
       "      <td>5591</td>\n",
       "      <td>17101.15</td>\n",
       "      <td>271</td>\n",
       "      <td>...</td>\n",
       "      <td>0.0</td>\n",
       "      <td>0.0</td>\n",
       "      <td>1.0</td>\n",
       "      <td>0.0</td>\n",
       "      <td>0.0</td>\n",
       "      <td>0.0</td>\n",
       "      <td>0.0</td>\n",
       "      <td>0.0</td>\n",
       "      <td>1.0</td>\n",
       "      <td>0.0</td>\n",
       "    </tr>\n",
       "    <tr>\n",
       "      <th>4</th>\n",
       "      <td>60601</td>\n",
       "      <td>27</td>\n",
       "      <td>4</td>\n",
       "      <td>41.892856</td>\n",
       "      <td>-87.710137</td>\n",
       "      <td>True</td>\n",
       "      <td>False</td>\n",
       "      <td>5591</td>\n",
       "      <td>17101.15</td>\n",
       "      <td>271</td>\n",
       "      <td>...</td>\n",
       "      <td>0.0</td>\n",
       "      <td>0.0</td>\n",
       "      <td>0.0</td>\n",
       "      <td>0.0</td>\n",
       "      <td>1.0</td>\n",
       "      <td>0.0</td>\n",
       "      <td>0.0</td>\n",
       "      <td>0.0</td>\n",
       "      <td>1.0</td>\n",
       "      <td>0.0</td>\n",
       "    </tr>\n",
       "    <tr>\n",
       "      <th>5</th>\n",
       "      <td>60601</td>\n",
       "      <td>27</td>\n",
       "      <td>7</td>\n",
       "      <td>41.901683</td>\n",
       "      <td>-87.718962</td>\n",
       "      <td>False</td>\n",
       "      <td>True</td>\n",
       "      <td>5591</td>\n",
       "      <td>17101.15</td>\n",
       "      <td>271</td>\n",
       "      <td>...</td>\n",
       "      <td>0.0</td>\n",
       "      <td>0.0</td>\n",
       "      <td>0.0</td>\n",
       "      <td>0.0</td>\n",
       "      <td>0.0</td>\n",
       "      <td>0.0</td>\n",
       "      <td>0.0</td>\n",
       "      <td>0.0</td>\n",
       "      <td>1.0</td>\n",
       "      <td>0.0</td>\n",
       "    </tr>\n",
       "  </tbody>\n",
       "</table>\n",
       "<p>5 rows × 28 columns</p>\n",
       "</div>"
      ],
      "text/plain": [
       "     ZIP  Ward  rankings   Latitude  Longitude  Arrest  Domestic  Population  \\\n",
       "1  60601    27         4  41.883932 -87.679964   False     False        5591   \n",
       "2  60601    27         3  41.896569 -87.636063   False     False        5591   \n",
       "3  60601    27         3  41.883937 -87.683368    True     False        5591   \n",
       "4  60601    27         4  41.892856 -87.710137    True     False        5591   \n",
       "5  60601    27         7  41.901683 -87.718962   False      True        5591   \n",
       "\n",
       "   People/Sq.Mile  National_Rank  ...  Primary_Type_DECEPTIVE PRACTICE  \\\n",
       "1        17101.15            271  ...                              0.0   \n",
       "2        17101.15            271  ...                              0.0   \n",
       "3        17101.15            271  ...                              0.0   \n",
       "4        17101.15            271  ...                              0.0   \n",
       "5        17101.15            271  ...                              0.0   \n",
       "\n",
       "   Primary_Type_MOTOR VEHICLE THEFT  Primary_Type_NARCOTICS  \\\n",
       "1                               0.0                     0.0   \n",
       "2                               0.0                     0.0   \n",
       "3                               0.0                     1.0   \n",
       "4                               0.0                     0.0   \n",
       "5                               0.0                     0.0   \n",
       "\n",
       "   Primary_Type_OTHER OFFENSE  Primary_Type_Other  Primary_Type_ROBBERY  \\\n",
       "1                         0.0                 0.0                   0.0   \n",
       "2                         0.0                 1.0                   0.0   \n",
       "3                         0.0                 0.0                   0.0   \n",
       "4                         0.0                 1.0                   0.0   \n",
       "5                         0.0                 0.0                   0.0   \n",
       "\n",
       "   Primary_Type_THEFT  Primary_Type_WEAPONS VIOLATION  Safety_Bad  Safety_Good  \n",
       "1                 1.0                             0.0         1.0          0.0  \n",
       "2                 0.0                             0.0         1.0          0.0  \n",
       "3                 0.0                             0.0         1.0          0.0  \n",
       "4                 0.0                             0.0         1.0          0.0  \n",
       "5                 0.0                             0.0         1.0          0.0  \n",
       "\n",
       "[5 rows x 28 columns]"
      ]
     },
     "execution_count": 284,
     "metadata": {},
     "output_type": "execute_result"
    }
   ],
   "source": [
    "# Merge one-hot encoded features and drop the originals\n",
    "cleaned_crime = cleaned_crime.merge(encode_df, left_index=True, right_index=True)\n",
    "cleaned_crime = cleaned_crime.drop(columns=crime_obj,axis=1)\n",
    "cleaned_crime.head()"
   ]
  },
  {
   "cell_type": "code",
   "execution_count": 285,
   "id": "519dfa12",
   "metadata": {},
   "outputs": [],
   "source": [
    "# Split our preprocessed data into our features and target arrays\n",
    "X = cleaned_crime.drop(columns=['Safety_Bad','Safety_Good'],axis=1)\n",
    "y = cleaned_crime['Safety_Good']\n",
    "\n",
    "# Split the preprocessed data into a training and testing dataset\n",
    "X_train, X_test, y_train, y_test = train_test_split(X, y, random_state=78)"
   ]
  },
  {
   "cell_type": "markdown",
   "id": "d20deb78",
   "metadata": {},
   "source": [
    "# Resampling Techniques"
   ]
  },
  {
   "cell_type": "markdown",
   "id": "68b3bba4",
   "metadata": {},
   "source": [
    "### Naives Random"
   ]
  },
  {
   "cell_type": "code",
   "execution_count": 286,
   "id": "7a3d4813",
   "metadata": {},
   "outputs": [],
   "source": [
    "# Resample the training data with the RandomOversampler\n",
    "from imblearn.over_sampling import RandomOverSampler\n",
    "ros = RandomOverSampler(random_state=1)\n",
    "X_resampled_ros, y_resampled_ros = ros.fit_resample(X_train, y_train)"
   ]
  },
  {
   "cell_type": "code",
   "execution_count": 287,
   "id": "eeab1be5",
   "metadata": {},
   "outputs": [
    {
     "data": {
      "text/plain": [
       "LogisticRegression(random_state=1)"
      ]
     },
     "execution_count": 287,
     "metadata": {},
     "output_type": "execute_result"
    }
   ],
   "source": [
    "# Train the Logistic Regression model using the resampled data\n",
    "from sklearn.linear_model import LogisticRegression\n",
    "model_ros = LogisticRegression(solver='lbfgs', random_state=1)\n",
    "model_ros.fit(X_resampled_ros, y_resampled_ros)"
   ]
  },
  {
   "cell_type": "code",
   "execution_count": 288,
   "id": "e83f7a8a",
   "metadata": {},
   "outputs": [
    {
     "data": {
      "text/plain": [
       "0.5079853688403481"
      ]
     },
     "execution_count": 288,
     "metadata": {},
     "output_type": "execute_result"
    }
   ],
   "source": [
    "# Calculated the balanced accuracy score\n",
    "from sklearn.metrics import balanced_accuracy_score\n",
    "y_pred_ros = model_ros.predict(X_test)\n",
    "balanced_accuracy_score(y_test, y_pred_ros)"
   ]
  },
  {
   "cell_type": "code",
   "execution_count": 289,
   "id": "69558368",
   "metadata": {},
   "outputs": [
    {
     "data": {
      "text/plain": [
       "array([[ 2111, 10068],\n",
       "       [  124,   664]], dtype=int64)"
      ]
     },
     "execution_count": 289,
     "metadata": {},
     "output_type": "execute_result"
    }
   ],
   "source": [
    "# Display the confusion matrix\n",
    "from sklearn.metrics import confusion_matrix\n",
    "confusion_matrix(y_test, y_pred_ros)"
   ]
  },
  {
   "cell_type": "code",
   "execution_count": 290,
   "id": "55e1c41c",
   "metadata": {},
   "outputs": [
    {
     "name": "stdout",
     "output_type": "stream",
     "text": [
      "                   pre       rec       spe        f1       geo       iba       sup\n",
      "\n",
      "        0.0       0.94      0.17      0.84      0.29      0.38      0.14     12179\n",
      "        1.0       0.06      0.84      0.17      0.12      0.38      0.16       788\n",
      "\n",
      "avg / total       0.89      0.21      0.80      0.28      0.38      0.14     12967\n",
      "\n"
     ]
    }
   ],
   "source": [
    "# Print the imbalanced classification report\n",
    "from imblearn.metrics import classification_report_imbalanced\n",
    "print(classification_report_imbalanced(y_test, y_pred_ros))"
   ]
  },
  {
   "cell_type": "markdown",
   "id": "bd9e6e0e",
   "metadata": {},
   "source": [
    "### SMOTE"
   ]
  },
  {
   "cell_type": "code",
   "execution_count": 291,
   "id": "486c463c",
   "metadata": {},
   "outputs": [],
   "source": [
    "# Resample the training data with SMOTE\n",
    "from imblearn.over_sampling import SMOTE\n",
    "smote = SMOTE(random_state=1, sampling_strategy='auto')\n",
    "X_resampled_smote, y_resampled_smote = smote.fit_resample(X_train, y_train)"
   ]
  },
  {
   "cell_type": "code",
   "execution_count": 292,
   "id": "2562cf25",
   "metadata": {},
   "outputs": [
    {
     "data": {
      "text/plain": [
       "LogisticRegression(random_state=1)"
      ]
     },
     "execution_count": 292,
     "metadata": {},
     "output_type": "execute_result"
    }
   ],
   "source": [
    "# Train the Logistic Regression model using the resampled data\n",
    "model_smote = LogisticRegression(solver='lbfgs', random_state=1)\n",
    "model_smote.fit(X_resampled_smote, y_resampled_smote)"
   ]
  },
  {
   "cell_type": "code",
   "execution_count": 293,
   "id": "81bb050e",
   "metadata": {},
   "outputs": [
    {
     "data": {
      "text/plain": [
       "0.5058199642973696"
      ]
     },
     "execution_count": 293,
     "metadata": {},
     "output_type": "execute_result"
    }
   ],
   "source": [
    "# Calculated the balanced accuracy score\n",
    "y_pred_smote = model_smote.predict(X_test)\n",
    "balanced_accuracy_score(y_test, y_pred_smote)"
   ]
  },
  {
   "cell_type": "code",
   "execution_count": 294,
   "id": "39121bc9",
   "metadata": {},
   "outputs": [
    {
     "data": {
      "text/plain": [
       "array([[2321, 9858],\n",
       "       [ 141,  647]], dtype=int64)"
      ]
     },
     "execution_count": 294,
     "metadata": {},
     "output_type": "execute_result"
    }
   ],
   "source": [
    "# Display the confusion matrix\n",
    "confusion_matrix(y_test, y_pred_smote)"
   ]
  },
  {
   "cell_type": "code",
   "execution_count": 295,
   "id": "3a418136",
   "metadata": {},
   "outputs": [
    {
     "name": "stdout",
     "output_type": "stream",
     "text": [
      "                   pre       rec       spe        f1       geo       iba       sup\n",
      "\n",
      "        0.0       0.94      0.19      0.82      0.32      0.40      0.15     12179\n",
      "        1.0       0.06      0.82      0.19      0.11      0.40      0.17       788\n",
      "\n",
      "avg / total       0.89      0.23      0.78      0.30      0.40      0.15     12967\n",
      "\n"
     ]
    }
   ],
   "source": [
    "# Print the imbalanced classification report\n",
    "print(classification_report_imbalanced(y_test, y_pred_smote))"
   ]
  },
  {
   "cell_type": "markdown",
   "id": "f17741da",
   "metadata": {},
   "source": [
    "### Cluster Centroids"
   ]
  },
  {
   "cell_type": "code",
   "execution_count": 296,
   "id": "11dbd14d",
   "metadata": {},
   "outputs": [],
   "source": [
    "# Resample the data using the ClusterCentroids resampler\n",
    "# Warning: This is a large dataset, and this step may take some time to complete\n",
    "from imblearn.under_sampling import ClusterCentroids\n",
    "cc = ClusterCentroids(random_state=1)\n",
    "X_resampled_cc, y_resampled_cc = cc.fit_resample(X_train, y_train)"
   ]
  },
  {
   "cell_type": "code",
   "execution_count": 297,
   "id": "92371805",
   "metadata": {},
   "outputs": [
    {
     "data": {
      "text/plain": [
       "LogisticRegression(random_state=1)"
      ]
     },
     "execution_count": 297,
     "metadata": {},
     "output_type": "execute_result"
    }
   ],
   "source": [
    "# Train the Logistic Regression model using the resampled data\n",
    "model_cc = LogisticRegression(solver='lbfgs', random_state=1)\n",
    "model_cc.fit(X_resampled_cc, y_resampled_cc)"
   ]
  },
  {
   "cell_type": "code",
   "execution_count": 298,
   "id": "d328b12f",
   "metadata": {},
   "outputs": [
    {
     "data": {
      "text/plain": [
       "0.5136017289475976"
      ]
     },
     "execution_count": 298,
     "metadata": {},
     "output_type": "execute_result"
    }
   ],
   "source": [
    "# Calculated the balanced accuracy score\n",
    "y_pred_cc = model_cc.predict(X_test)\n",
    "balanced_accuracy_score(y_test, y_pred_cc)"
   ]
  },
  {
   "cell_type": "code",
   "execution_count": 299,
   "id": "b0289439",
   "metadata": {},
   "outputs": [
    {
     "data": {
      "text/plain": [
       "array([[6529, 5650],\n",
       "       [ 401,  387]], dtype=int64)"
      ]
     },
     "execution_count": 299,
     "metadata": {},
     "output_type": "execute_result"
    }
   ],
   "source": [
    "# Display the confusion matrix\n",
    "confusion_matrix(y_test, y_pred_cc)"
   ]
  },
  {
   "cell_type": "code",
   "execution_count": 300,
   "id": "c95795f9",
   "metadata": {},
   "outputs": [
    {
     "name": "stdout",
     "output_type": "stream",
     "text": [
      "                   pre       rec       spe        f1       geo       iba       sup\n",
      "\n",
      "        0.0       0.94      0.54      0.49      0.68      0.51      0.26     12179\n",
      "        1.0       0.06      0.49      0.54      0.11      0.51      0.26       788\n",
      "\n",
      "avg / total       0.89      0.53      0.49      0.65      0.51      0.26     12967\n",
      "\n"
     ]
    }
   ],
   "source": [
    "# Print the imbalanced classification report\n",
    "print(classification_report_imbalanced(y_test, y_pred_cc))"
   ]
  },
  {
   "cell_type": "markdown",
   "id": "b38444f8",
   "metadata": {},
   "source": [
    "### Combination (Over and Under) Sampling"
   ]
  },
  {
   "cell_type": "code",
   "execution_count": 301,
   "id": "79b853d8",
   "metadata": {},
   "outputs": [],
   "source": [
    "# Resample the training data with SMOTEENN\n",
    "# Warning: This is a large dataset, and this step may take some time to complete\n",
    "# YOUR CODE HERE\n",
    "from imblearn.combine import SMOTEENN\n",
    "smoteenn = SMOTEENN(random_state=0)\n",
    "X_resampled_smoteenn, y_resampled_smoteenn = smoteenn.fit_resample(X, y)"
   ]
  },
  {
   "cell_type": "code",
   "execution_count": 302,
   "id": "c5377b6a",
   "metadata": {},
   "outputs": [
    {
     "data": {
      "text/plain": [
       "LogisticRegression(random_state=1)"
      ]
     },
     "execution_count": 302,
     "metadata": {},
     "output_type": "execute_result"
    }
   ],
   "source": [
    "# Train the Logistic Regression model using the resampled data\n",
    "model_smoteenn = LogisticRegression(solver='lbfgs', random_state=1)\n",
    "model_smoteenn.fit(X_resampled_smoteenn, y_resampled_smoteenn)"
   ]
  },
  {
   "cell_type": "code",
   "execution_count": 303,
   "id": "a1785d6a",
   "metadata": {},
   "outputs": [
    {
     "data": {
      "text/plain": [
       "0.5058199642973696"
      ]
     },
     "execution_count": 303,
     "metadata": {},
     "output_type": "execute_result"
    }
   ],
   "source": [
    "# Calculated the balanced accuracy score\n",
    "y_pred_smoteenn = model_smoteenn.predict(X_test)\n",
    "balanced_accuracy_score(y_test, y_pred_smoteenn)"
   ]
  },
  {
   "cell_type": "code",
   "execution_count": 304,
   "id": "d76285e7",
   "metadata": {},
   "outputs": [
    {
     "data": {
      "text/plain": [
       "array([[2321, 9858],\n",
       "       [ 141,  647]], dtype=int64)"
      ]
     },
     "execution_count": 304,
     "metadata": {},
     "output_type": "execute_result"
    }
   ],
   "source": [
    "# Display the confusion matrix\n",
    "confusion_matrix(y_test, y_pred_smoteenn)"
   ]
  },
  {
   "cell_type": "code",
   "execution_count": 305,
   "id": "4fbce862",
   "metadata": {},
   "outputs": [
    {
     "name": "stdout",
     "output_type": "stream",
     "text": [
      "                   pre       rec       spe        f1       geo       iba       sup\n",
      "\n",
      "        0.0       0.94      0.19      0.82      0.32      0.40      0.15     12179\n",
      "        1.0       0.06      0.82      0.19      0.11      0.40      0.17       788\n",
      "\n",
      "avg / total       0.89      0.23      0.78      0.30      0.40      0.15     12967\n",
      "\n"
     ]
    }
   ],
   "source": [
    "# Print the imbalanced classification report\n",
    "print(classification_report_imbalanced(y_test, y_pred_smoteenn))"
   ]
  },
  {
   "cell_type": "markdown",
   "id": "beff5afd",
   "metadata": {},
   "source": [
    "# Ensemble Techniques"
   ]
  },
  {
   "cell_type": "markdown",
   "id": "588f1552",
   "metadata": {},
   "source": [
    "### Balanced Random Forest"
   ]
  },
  {
   "cell_type": "code",
   "execution_count": 306,
   "id": "26cf50d0",
   "metadata": {},
   "outputs": [
    {
     "data": {
      "text/plain": [
       "BalancedRandomForestClassifier(random_state=1)"
      ]
     },
     "execution_count": 306,
     "metadata": {},
     "output_type": "execute_result"
    }
   ],
   "source": [
    "# Resample the training data with the BalancedRandomForestClassifier\n",
    "from imblearn.ensemble import BalancedRandomForestClassifier\n",
    "brfc_model = BalancedRandomForestClassifier(n_estimators=100, random_state=1)\n",
    "brfc_model.fit(X_train, y_train)"
   ]
  },
  {
   "cell_type": "code",
   "execution_count": 307,
   "id": "c523aa20",
   "metadata": {},
   "outputs": [
    {
     "data": {
      "text/plain": [
       "0.9374838752566934"
      ]
     },
     "execution_count": 307,
     "metadata": {},
     "output_type": "execute_result"
    }
   ],
   "source": [
    "# Calculated the balanced accuracy score\n",
    "y_pred_brfc = brfc_model.predict(X_test)\n",
    "balanced_accuracy_score(y_test, y_pred_brfc)"
   ]
  },
  {
   "cell_type": "code",
   "execution_count": 308,
   "id": "bfaaaa49",
   "metadata": {},
   "outputs": [
    {
     "data": {
      "text/plain": [
       "array([[11259,   920],\n",
       "       [   39,   749]], dtype=int64)"
      ]
     },
     "execution_count": 308,
     "metadata": {},
     "output_type": "execute_result"
    }
   ],
   "source": [
    "# Display the confusion matrix\n",
    "confusion_matrix(y_test, y_pred_brfc)"
   ]
  },
  {
   "cell_type": "code",
   "execution_count": 309,
   "id": "33ab5294",
   "metadata": {},
   "outputs": [
    {
     "name": "stdout",
     "output_type": "stream",
     "text": [
      "                   pre       rec       spe        f1       geo       iba       sup\n",
      "\n",
      "        0.0       1.00      0.92      0.95      0.96      0.94      0.88     12179\n",
      "        1.0       0.45      0.95      0.92      0.61      0.94      0.88       788\n",
      "\n",
      "avg / total       0.96      0.93      0.95      0.94      0.94      0.88     12967\n",
      "\n"
     ]
    }
   ],
   "source": [
    "# Print the imbalanced classification report\n",
    "print(classification_report_imbalanced(y_test, y_pred_brfc))"
   ]
  },
  {
   "cell_type": "code",
   "execution_count": 310,
   "id": "4f6691d2",
   "metadata": {},
   "outputs": [
    {
     "data": {
      "text/plain": [
       "[(0.5134809531982681, 'Primary_Type_ASSAULT'),\n",
       " (0.07357571471074288, 'Primary_Type_BATTERY'),\n",
       " (0.06699280276745866, 'Primary_Type_THEFT'),\n",
       " (0.06090997288376309, 'Latitude'),\n",
       " (0.060739013876999114, 'Longitude'),\n",
       " (0.05185175219670812, 'Primary_Type_DECEPTIVE PRACTICE'),\n",
       " (0.03682596588408578, 'Primary_Type_CRIMINAL DAMAGE'),\n",
       " (0.020739498560144464, 'rankings'),\n",
       " (0.012824379155287282, 'Primary_Type_BURGLARY'),\n",
       " (0.012717372961112054, 'Primary_Type_MOTOR VEHICLE THEFT'),\n",
       " (0.012370699234980931, 'Primary_Type_NARCOTICS'),\n",
       " (0.011948994167052673, 'Primary_Type_OTHER OFFENSE'),\n",
       " (0.008904560703258728, 'Primary_Type_Other'),\n",
       " (0.008624010240666159, 'Primary_Type_ROBBERY'),\n",
       " (0.0058342926434960165, 'Domestic'),\n",
       " (0.005784500770652778, 'Arrest'),\n",
       " (0.005691779971305466, 'chip_longitude'),\n",
       " (0.005368554960448152, 'Primary_Type_WEAPONS VIOLATION'),\n",
       " (0.005115237855063011, 'chip_latitude'),\n",
       " (0.004362857550368177, 'Ward'),\n",
       " (0.004148803437695163, 'Primary_Type_CRIMINAL TRESPASS'),\n",
       " (0.002967891803262907, 'National_Rank'),\n",
       " (0.0028491640881501703, 'ZIP'),\n",
       " (0.0028417148321945545, 'Population'),\n",
       " (0.002529511546835694, 'People/Sq.Mile'),\n",
       " (0.0, 'chipotle')]"
      ]
     },
     "execution_count": 310,
     "metadata": {},
     "output_type": "execute_result"
    }
   ],
   "source": [
    "# List the features sorted in descending order by feature importance\n",
    "importances = brfc_model.feature_importances_\n",
    "sorted(zip(brfc_model.feature_importances_, X.columns), reverse=True)"
   ]
  },
  {
   "cell_type": "markdown",
   "id": "8f6696fd",
   "metadata": {},
   "source": [
    "### Easy Ensemble AdaBoost Classifier"
   ]
  },
  {
   "cell_type": "code",
   "execution_count": 311,
   "id": "60e8b33a",
   "metadata": {},
   "outputs": [
    {
     "data": {
      "text/plain": [
       "EasyEnsembleClassifier(n_estimators=100, random_state=1)"
      ]
     },
     "execution_count": 311,
     "metadata": {},
     "output_type": "execute_result"
    }
   ],
   "source": [
    "# Train the EasyEnsembleClassifier\n",
    "from imblearn.ensemble import EasyEnsembleClassifier\n",
    "ee_model = EasyEnsembleClassifier(n_estimators=100, random_state=1)\n",
    "ee_model.fit(X_train, y_train)\n",
    "# Train the EasyEnsembleClassifier"
   ]
  },
  {
   "cell_type": "code",
   "execution_count": 312,
   "id": "b68fe0e3",
   "metadata": {},
   "outputs": [
    {
     "data": {
      "text/plain": [
       "0.9383168393794261"
      ]
     },
     "execution_count": 312,
     "metadata": {},
     "output_type": "execute_result"
    }
   ],
   "source": [
    "# Calculated the balanced accuracy score\n",
    "y_pred_ee = ee_model.predict(X_test)\n",
    "balanced_accuracy_score(y_test, y_pred_ee)"
   ]
  },
  {
   "cell_type": "code",
   "execution_count": 313,
   "id": "a8dd55fa",
   "metadata": {},
   "outputs": [
    {
     "data": {
      "text/plain": [
       "array([[11032,  1147],\n",
       "       [   23,   765]], dtype=int64)"
      ]
     },
     "execution_count": 313,
     "metadata": {},
     "output_type": "execute_result"
    }
   ],
   "source": [
    "# Display the confusion matrix\n",
    "confusion_matrix(y_test, y_pred_ee)"
   ]
  },
  {
   "cell_type": "code",
   "execution_count": 314,
   "id": "f9d84d08",
   "metadata": {},
   "outputs": [
    {
     "name": "stdout",
     "output_type": "stream",
     "text": [
      "                   pre       rec       spe        f1       geo       iba       sup\n",
      "\n",
      "        0.0       1.00      0.91      0.97      0.95      0.94      0.87     12179\n",
      "        1.0       0.40      0.97      0.91      0.57      0.94      0.89       788\n",
      "\n",
      "avg / total       0.96      0.91      0.97      0.93      0.94      0.87     12967\n",
      "\n"
     ]
    }
   ],
   "source": [
    "# Print the imbalanced classification report\n",
    "print(classification_report_imbalanced(y_test, y_pred_ee))"
   ]
  }
 ],
 "metadata": {
  "kernelspec": {
   "display_name": "mlenv",
   "language": "python",
   "name": "mlenv"
  },
  "language_info": {
   "codemirror_mode": {
    "name": "ipython",
    "version": 3
   },
   "file_extension": ".py",
   "mimetype": "text/x-python",
   "name": "python",
   "nbconvert_exporter": "python",
   "pygments_lexer": "ipython3",
   "version": "3.7.13"
  }
 },
 "nbformat": 4,
 "nbformat_minor": 5
}
